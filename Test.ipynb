{
 "cells": [
  {
   "cell_type": "code",
   "execution_count": 9,
   "id": "aa2bd3a9",
   "metadata": {},
   "outputs": [],
   "source": [
    "from datetime import datetime\n",
    "import os\n",
    " \n",
    "def write_file(filename,data):\n",
    "    if os.path.isfile(filename):\n",
    "        with open(filename, 'a') as f:          \n",
    "            f.write('\\n' + data)   \n",
    "    else:\n",
    "        with open(filename, 'w') as f:                   \n",
    "            f.write(data)\n",
    "\n",
    "def print_time():   \n",
    "    now = datetime.now()\n",
    "    current_time = now.strftime(\"%H:%M:%S\")\n",
    "    data = \"Current Time = \" + current_time\n",
    "    return data\n",
    " \n",
    "write_file('test.txt' , print_time())"
   ]
  },
  {
   "cell_type": "code",
   "execution_count": null,
   "id": "206905c8",
   "metadata": {},
   "outputs": [],
   "source": []
  }
 ],
 "metadata": {
  "kernelspec": {
   "display_name": "Python 3 (ipykernel)",
   "language": "python",
   "name": "python3"
  },
  "language_info": {
   "codemirror_mode": {
    "name": "ipython",
    "version": 3
   },
   "file_extension": ".py",
   "mimetype": "text/x-python",
   "name": "python",
   "nbconvert_exporter": "python",
   "pygments_lexer": "ipython3",
   "version": "3.9.7"
  }
 },
 "nbformat": 4,
 "nbformat_minor": 5
}
