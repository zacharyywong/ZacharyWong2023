{
 "cells": [
  {
   "cell_type": "code",
   "execution_count": 14,
   "id": "40c073c3",
   "metadata": {},
   "outputs": [],
   "source": [
    "# This script extracts the title, link, and short description of search results on Google \n",
    "\n",
    "#import all libraries\n",
    "import pandas as pd\n",
    "from selenium import webdriver\n",
    "from webdriver_manager.chrome import ChromeDriverManager\n",
    "from bs4 import BeautifulSoup as bs\n",
    "import requests\n",
    "import re\n"
   ]
  },
  {
   "cell_type": "code",
   "execution_count": 2,
   "id": "be90ddfc",
   "metadata": {},
   "outputs": [],
   "source": [
    "# input for keyword, number of pages to scrape, and website URL \n",
    "# only want top result so only search for 1 result \n",
    "nPages = 1\n",
    "maxResult = 1\n",
    "googleurl = 'https://www.google.com/'\n",
    "siteURL = 'https://www.babylonhealth.com/en-us'\n",
    "websiteName = 'Bablylon Health'\n",
    "useURL = False\n",
    "useName = False\n",
    "calculateLiklihood = True \n",
    "\n",
    "# Booleans\n",
    "if (siteURL != None):\n",
    "    useURL = True; \n",
    "    useName = False; \n",
    "else:\n",
    "    useURL = False; \n",
    "    useName = True; \n",
    "    \n",
    "# format queries based on inputs \n",
    "#queryURL = \"site: \" + siteURL\n",
    "#queryName = websiteName\n",
    "#print('useURL: ' + str(useURL))\n",
    "#print('useName: ' + str(useName))"
   ]
  },
  {
   "cell_type": "code",
   "execution_count": 3,
   "id": "97863380",
   "metadata": {},
   "outputs": [
    {
     "name": "stderr",
     "output_type": "stream",
     "text": [
      "\n",
      "\n",
      "====== WebDriver manager ======\n",
      "Current google-chrome version is 98.0.4758\n",
      "Get LATEST chromedriver version for 98.0.4758 google-chrome\n",
      "Driver [/Users/zacharywong/.wdm/drivers/chromedriver/mac64/98.0.4758.102/chromedriver] found in cache\n",
      "/var/folders/gl/jgk7f2w528qgjggck6glqp200000gn/T/ipykernel_72549/2887605795.py:2: DeprecationWarning: executable_path has been deprecated, please pass in a Service object\n",
      "  driver = webdriver.Chrome(ChromeDriverManager().install())\n"
     ]
    }
   ],
   "source": [
    "# Access chromedriver and determine path \n",
    "driver = webdriver.Chrome(ChromeDriverManager().install())\n",
    "pathToFile = '/Users/zacharywong/github/zacharywong2023/DigitalHealthWebscrape/Deliverables/'\n",
    "driver.get(googleurl)\n"
   ]
  },
  {
   "cell_type": "code",
   "execution_count": 4,
   "id": "fae635f1",
   "metadata": {},
   "outputs": [
    {
     "name": "stderr",
     "output_type": "stream",
     "text": [
      "/var/folders/gl/jgk7f2w528qgjggck6glqp200000gn/T/ipykernel_72549/331980782.py:3: DeprecationWarning: find_element_by_* commands are deprecated. Please use find_element() instead\n",
      "  searchBar = driver.find_element_by_name('q')\n"
     ]
    }
   ],
   "source": [
    "# set the keyword you want to search for depending on whether link or name is given\n",
    "# we find the search bar using it's name attribute value\n",
    "searchBar = driver.find_element_by_name('q')\n",
    "\n",
    "\n",
    "# first we send our keyword to the search bar followed by the enter # key depending on using URL or website name \n",
    "\n",
    "if (useURL):\n",
    "    query = \"site: \" + siteURL\n",
    "    searchBar.send_keys(query)\n",
    "    searchBar.send_keys('\\n')\n",
    "else:\n",
    "    query = websiteName\n",
    "    searchBar.send_keys(query)\n",
    "    searchBar.send_keys('\\n')"
   ]
  },
  {
   "cell_type": "code",
   "execution_count": 5,
   "id": "2fed0560",
   "metadata": {},
   "outputs": [],
   "source": [
    "# list of dictionaries with key/value pairs: title, link, text\n",
    "# Contains all information for all search results \n",
    "pageInfo = []"
   ]
  },
  {
   "cell_type": "code",
   "execution_count": 6,
   "id": "83469721",
   "metadata": {},
   "outputs": [],
   "source": [
    "# helper function to extract links from 1 page of results\n",
    "def extractLinks(soup):\n",
    "    links = []\n",
    "    searchLinks = soup.find_all('div', class_ = 'yuRUbf')\n",
    "    for h in searchLinks:\n",
    "        link = h.a.get('href')\n",
    "        links.append(link)\n",
    "    return links "
   ]
  },
  {
   "cell_type": "code",
   "execution_count": 7,
   "id": "a9762b51",
   "metadata": {},
   "outputs": [],
   "source": [
    "# helper function to extract texts from 1 page of results\n",
    "def extractTexts(soup):\n",
    "    texts = []\n",
    "    searchText = soup.find_all('div', class_='VwiC3b yXK7lf MUxGbd yDYNvb lyLwlc lEBKkf')\n",
    "    for h in searchText:\n",
    "        fullText = h.text\n",
    "        try:\n",
    "            splitText = fullText.split('— ', 1)\n",
    "            text = splitText[1]\n",
    "            texts.append(text);\n",
    "        except:\n",
    "            texts.append(fullText)\n",
    "    return texts;"
   ]
  },
  {
   "cell_type": "code",
   "execution_count": 8,
   "id": "82491fe5",
   "metadata": {},
   "outputs": [],
   "source": [
    "# helper function to extract titles from 1 page of results\n",
    "def extractTitles(soup):\n",
    "    titles = [] \n",
    "    searchTitles = soup.find_all('h3', class_='LC20lb MBeuO DKV0Md')\n",
    "    for h in searchTitles:\n",
    "        titles.append(h.text)\n",
    "    return titles"
   ]
  },
  {
   "cell_type": "code",
   "execution_count": null,
   "id": "0eb87f7f",
   "metadata": {},
   "outputs": [],
   "source": [
    "def extractEmails(soup):\n",
    "    allLinks = []\n",
    "    searchLinks = soup.find_all()"
   ]
  },
  {
   "cell_type": "code",
   "execution_count": 9,
   "id": "6a9f87dc",
   "metadata": {},
   "outputs": [],
   "source": [
    "def calculateLiklihoods(links):\n",
    "    keywords = ['personalized', 'personalization', 'machine-learning', 'AI', 'Artificial Intelligence', '24/7', 'democratizing']\n",
    "    liklihoods = []\n",
    "    detectedWordsAll = []\n",
    "    for url in links: \n",
    "        detectedWords = []\n",
    "        output = ''\n",
    "        count = 0\n",
    "        liklihood = 0\n",
    "\n",
    "        res = requests.get(url, headers={'User-Agent': 'Mozilla/5.0'})\n",
    "        html_page = res.content\n",
    "        soup = bs(html_page, 'html.parser')\n",
    "        text = soup.find_all(text=True)\n",
    "\n",
    "        #ignore = ['[document]', 'a', 'article', 'label','div','script', 'style', 'title', 'img', 'svg', 'ul', 'g', 'footer', 'button', 'clippath', 'nav']\n",
    "        ignore1 = ['[document]', 'label','div','script', 'style', 'img', 'svg', 'ul', 'g', 'footer', 'button', 'clippath', 'nav']\n",
    "       \n",
    "        for t in text:\n",
    "            if t.parent.name not in ignore1:\n",
    "                output += '{} '.format(t)\n",
    "\n",
    "        # analyze the webpage to detect keywords \n",
    "        outputSub = output.split(' ')\n",
    "        #print(outputSub)\n",
    "        for word in keywords: \n",
    "            if (word in outputSub or word.capitalize() in outputSub):\n",
    "                #print('\"' + word +'\"' + ' detected')\n",
    "                detectedWords.append(word)\n",
    "                count +=1 \n",
    "            #else:\n",
    "                #print(word + ' is not there')\n",
    "        liklihood = round((count / len(keywords)), 2)\n",
    "        liklihoods.append(liklihood)\n",
    "        detectedWordsAll.append(detectedWords)\n",
    "    return liklihoods, detectedWordsAll"
   ]
  },
  {
   "cell_type": "code",
   "execution_count": 10,
   "id": "ad724de8",
   "metadata": {},
   "outputs": [],
   "source": [
    "# helper function to add 1 page of results to pageInfo list\n",
    "def addToPageInfo(titles, links, texts, liklihoods, detectedWordsAll):\n",
    "    index = 0;\n",
    "    while (index < maxResult):\n",
    "        # create new dictionary of each search results' title, link, and text\n",
    "        if (liklihoods == None):\n",
    "            pageInfo.append({\"Title\": titles[index], \"Link\": links[index], \"About\": texts[index]})\n",
    "        else:\n",
    "            pageInfo.append({\"Liklihood\": liklihoods[index], \"Title\": titles[index], \"Link\": links[index], \"About\": texts[index],  \"DetectedWords\": detectedWordsAll[index]})\n",
    "        index += 1\n",
    "\n",
    "    "
   ]
  },
  {
   "cell_type": "code",
   "execution_count": 11,
   "id": "251606e1",
   "metadata": {},
   "outputs": [
    {
     "data": {
      "text/plain": [
       "[{'Liklihood': 0.43,\n",
       "  'Title': 'More than just a doctor on your phone - Babylon Health',\n",
       "  'Link': 'https://www.babylonhealth.com/en-us',\n",
       "  'About': 'Healthcare anytime, from your phone. Book a Babylon Virtual Doctor Appointment 24/7, check your symptoms with our artificial intelligence powered app.',\n",
       "  'DetectedWords': ['personalized', 'AI', '24/7']}]"
      ]
     },
     "execution_count": 11,
     "metadata": {},
     "output_type": "execute_result"
    }
   ],
   "source": [
    "#capture links, header, and text\n",
    "#pageInfo is a list of dictionaries for each page with keys/value pairs: header, link, text\n",
    "# extract and load each page of results to pageInfo \n",
    "\n",
    "for page in range(1, nPages+1):\n",
    "    soup = bs(driver.page_source, 'html.parser')\n",
    "    links = extractLinks(soup);\n",
    "    texts = extractTexts(soup);\n",
    "    titles = extractTitles(soup);\n",
    "    emails = extractEmails(soup); \n",
    "    if (calculateLiklihood):\n",
    "        liklihoods, detectedWordsAll = calculateLiklihoods(links)\n",
    "        addToPageInfo(titles, links, texts, liklihoods, detectedWordsAll)\n",
    "    else:\n",
    "        addToPageInfo(titles, links, texts, liklihoods = None, detectedWordsAll = None)\n",
    "    \n",
    "pageInfo \n",
    "\n",
    "        \n",
    "    "
   ]
  },
  {
   "cell_type": "code",
   "execution_count": 12,
   "id": "78485490",
   "metadata": {},
   "outputs": [],
   "source": [
    "# convert pageInfo to pandas dataframe and export as csv \n",
    "df = pd.DataFrame(pageInfo)\n",
    "df.to_csv(pathToFile + 'Info_' + websiteName + '.csv')"
   ]
  },
  {
   "cell_type": "code",
   "execution_count": null,
   "id": "f29f5bf4",
   "metadata": {},
   "outputs": [],
   "source": []
  },
  {
   "cell_type": "code",
   "execution_count": 23,
   "id": "7bc4553b",
   "metadata": {},
   "outputs": [
    {
     "name": "stdout",
     "output_type": "stream",
     "text": [
      "valid email\n"
     ]
    }
   ],
   "source": []
  },
  {
   "cell_type": "code",
   "execution_count": null,
   "id": "65104f6a",
   "metadata": {},
   "outputs": [],
   "source": []
  }
 ],
 "metadata": {
  "kernelspec": {
   "display_name": "Python 3 (ipykernel)",
   "language": "python",
   "name": "python3"
  },
  "language_info": {
   "codemirror_mode": {
    "name": "ipython",
    "version": 3
   },
   "file_extension": ".py",
   "mimetype": "text/x-python",
   "name": "python",
   "nbconvert_exporter": "python",
   "pygments_lexer": "ipython3",
   "version": "3.9.7"
  }
 },
 "nbformat": 4,
 "nbformat_minor": 5
}
