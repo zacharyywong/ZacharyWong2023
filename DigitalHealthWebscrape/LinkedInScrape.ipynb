{
 "cells": [
  {
   "cell_type": "code",
   "execution_count": 1,
   "id": "27a5377c",
   "metadata": {},
   "outputs": [],
   "source": [
    "#import all libraries\n",
    "import pandas as pd\n",
    "from selenium import webdriver\n",
    "from webdriver_manager.chrome import ChromeDriverManager\n",
    "from selenium.webdriver.support.ui import WebDriverWait, Select\n",
    "from selenium.webdriver.support import expected_conditions as EC\n",
    "from selenium.webdriver.common.by import By \n",
    "from selenium.webdriver.chrome.service import Service\n",
    "from selenium.webdriver.common.keys import Keys\n",
    "\n",
    "\n",
    "from bs4 import BeautifulSoup as bs\n",
    "import time, sys, requests, random\n"
   ]
  },
  {
   "cell_type": "code",
   "execution_count": 2,
   "id": "8027d88d",
   "metadata": {},
   "outputs": [],
   "source": [
    "loginurl = 'https://www.linkedin.com/uas/login'\n",
    "keywords = 'digital health'\n",
    "nLinkedInPages = 4\n",
    "waitTime = 1\n",
    "driver_path = '/Users/zacharywong/Documents/Work/Portfolio/DigitalHealthWebscrape/chromedriver'\n"
   ]
  },
  {
   "cell_type": "code",
   "execution_count": 3,
   "id": "8fef384c",
   "metadata": {},
   "outputs": [],
   "source": [
    "def login(driver):\n",
    "    driver.get(loginurl)\n",
    "    email = driver.find_element(By.ID, 'username')\n",
    "    email.send_keys('zach.jl.wong@gmail.com')\n",
    "    password = driver.find_element(By.ID, 'password')\n",
    "    password.send_keys('PandaPanda23')\n",
    "    #time.sleep(1)\n",
    "    password.send_keys(Keys.RETURN)\n",
    "    "
   ]
  },
  {
   "cell_type": "code",
   "execution_count": 4,
   "id": "aa060417",
   "metadata": {},
   "outputs": [],
   "source": [
    "def searchLinkedIn(driver):\n",
    "    #search query\n",
    "    searchBar = driver.find_element(By.XPATH, '//*[@id=\"global-nav-typeahead\"]/input')\n",
    "    searchBar.send_keys('digital health')\n",
    "    searchBar.send_keys(Keys.RETURN)\n",
    "    time.sleep(1)"
   ]
  },
  {
   "cell_type": "code",
   "execution_count": 5,
   "id": "1b3cbce7",
   "metadata": {},
   "outputs": [],
   "source": [
    "def companyFilter(driver):\n",
    "    try:\n",
    "        companyButtons = driver.find_element(By.XPATH, '//*[@id=\"search-reusables__filters-bar\"]/ul/li[2]/button')\n",
    "        companyButtons.click()\n",
    "    except: \n",
    "        WebDriverWait(driver, waitTime).until(EC.presence_of_element_located((By.XPATH, '//*[@id=\"search-reusables__filters-bar\"]/ul/li[2]/button')))\n",
    "        companyButtons = driver.find_element(By.XPATH, '//*[@id=\"search-reusables__filters-bar\"]/ul/li[2]/button')\n",
    "        companyButtons.click()"
   ]
  },
  {
   "cell_type": "code",
   "execution_count": null,
   "id": "25737494",
   "metadata": {},
   "outputs": [],
   "source": [
    "\n",
    "\n",
    "\n",
    "\n",
    "\n"
   ]
  },
  {
   "cell_type": "code",
   "execution_count": 6,
   "id": "09b23745",
   "metadata": {},
   "outputs": [],
   "source": [
    "def nextPage(currentPage):\n",
    "    driver.execute_script(\"window.scrollTo(0,document.body.scrollHeight)\")\n",
    "    time.sleep(1)\n",
    "    #WebDriverWait(driver, waitTime).until(EC.presence_of_element_located((By.XPATH, '//*[@id=\"ember329\"]/button')))\n",
    "    pages = driver.find_elements_by_css_selector(\"button[type='button']\")\n",
    "    for page in pages:\n",
    "        #time.sleep(1)\n",
    "        buttonNumber = page.text\n",
    "        #print(buttonNumber)\n",
    "        if buttonNumber == str(currentPage):\n",
    "            print('hello')\n",
    "            page.click()\n",
    "            break"
   ]
  },
  {
   "cell_type": "code",
   "execution_count": 7,
   "id": "6d9f7dbe",
   "metadata": {},
   "outputs": [],
   "source": [
    "def addCompanies(driver):\n",
    "    companies = []\n",
    "    currentPage = 1\n",
    "    while (currentPage <= nLinkedInPages):\n",
    "        time.sleep(2)\n",
    "        soup = bs(driver.page_source, 'html.parser')\n",
    "        companySearch = soup.find_all('a', class_ = 'app-aware-link')\n",
    "        for company in companySearch:\n",
    "            companyName = company.text\n",
    "            if '\\n\\n\\n' not in companyName and companyName not in companies:\n",
    "                companies.append(companyName.replace('\\n', ''))\n",
    "        currentPage += 1\n",
    "        nextPage(currentPage)\n",
    "    return companies"
   ]
  },
  {
   "cell_type": "code",
   "execution_count": 8,
   "id": "b61a401f",
   "metadata": {},
   "outputs": [
    {
     "name": "stderr",
     "output_type": "stream",
     "text": [
      "/var/folders/gl/jgk7f2w528qgjggck6glqp200000gn/T/ipykernel_11619/2277989735.py:5: DeprecationWarning: find_elements_by_* commands are deprecated. Please use find_elements() instead\n",
      "  pages = driver.find_elements_by_css_selector(\"button[type='button']\")\n"
     ]
    },
    {
     "name": "stdout",
     "output_type": "stream",
     "text": [
      "hello\n",
      "hello\n",
      "hello\n",
      "hello\n"
     ]
    },
    {
     "data": {
      "text/plain": [
       "['Digital Health Intelligence Ltd',\n",
       " 'Proteus Digital Health, Inc',\n",
       " 'Digital Health & Care Innovation Centre',\n",
       " 'Digital Health Forward',\n",
       " 'Digital Health Coalition',\n",
       " 'Australian Digital Health Agency',\n",
       " 'Digital Health Institute for Transformation (DHIT)',\n",
       " 'Digital Health Canada',\n",
       " 'Digital Health Solutions',\n",
       " 'NHS Digital',\n",
       " 'This Week in Digital Health',\n",
       " 'Digital Health Today',\n",
       " 'Global Digital Health Network',\n",
       " 'UCSF | Health Hub: Digital Health Awards',\n",
       " 'Thryve Digital Health LLP',\n",
       " 'Australasian Institute of Digital Health (AIDH)',\n",
       " 'Telemedi - Digital Health Platform',\n",
       " 'Digital Health Insights',\n",
       " 'Digital Health Forward Podcast',\n",
       " 'Digital Health PORT',\n",
       " 'Digital Health and Care Wales',\n",
       " 'ARTEXE - Digital Health Architects',\n",
       " 'Digital Health and Innovation Cluster Bulgaria',\n",
       " 'Digital Health CT',\n",
       " 'TAG Digital Health',\n",
       " 'Brown-Lifespan Center for Digital Health',\n",
       " 'Aga Khan Development Network Digital Health Resource Centre',\n",
       " 'Digital Health CRC',\n",
       " 'UCM Digital Health',\n",
       " 'Digital Health Strategies',\n",
       " 'Digital Health Academy',\n",
       " '4C Digital Health',\n",
       " 'Digital Health Innovations',\n",
       " 'Center for Digital Health Innovation at UCSF',\n",
       " 'Digital Health Business & Technology',\n",
       " 'Digital Health Times | Digital Health News',\n",
       " 'HealthCare Recruiters International - Digital Health',\n",
       " 'Grit Digital Health',\n",
       " 'Digital Health Festival',\n",
       " 'Launchpad Digital Health']"
      ]
     },
     "execution_count": 8,
     "metadata": {},
     "output_type": "execute_result"
    }
   ],
   "source": [
    "service = Service(driver_path)\n",
    "driver = webdriver.Chrome(service = service)\n",
    "\n",
    "\n",
    "#login\n",
    "login(driver)\n",
    "searchLinkedIn(driver)\n",
    "\n",
    "#go to company option\n",
    "companyFilter(driver)\n",
    "companies = addCompanies(driver)\n",
    "companies"
   ]
  },
  {
   "cell_type": "code",
   "execution_count": 9,
   "id": "1071d8c1",
   "metadata": {},
   "outputs": [],
   "source": [
    "#nextPage(3)"
   ]
  },
  {
   "cell_type": "code",
   "execution_count": null,
   "id": "0c0bdb93",
   "metadata": {},
   "outputs": [],
   "source": []
  },
  {
   "cell_type": "code",
   "execution_count": null,
   "id": "d687f83e",
   "metadata": {},
   "outputs": [],
   "source": []
  }
 ],
 "metadata": {
  "kernelspec": {
   "display_name": "Python 3 (ipykernel)",
   "language": "python",
   "name": "python3"
  },
  "language_info": {
   "codemirror_mode": {
    "name": "ipython",
    "version": 3
   },
   "file_extension": ".py",
   "mimetype": "text/x-python",
   "name": "python",
   "nbconvert_exporter": "python",
   "pygments_lexer": "ipython3",
   "version": "3.9.7"
  }
 },
 "nbformat": 4,
 "nbformat_minor": 5
}
