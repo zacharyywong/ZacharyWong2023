{
 "cells": [
  {
   "cell_type": "code",
   "execution_count": 1,
   "id": "e1c8776e",
   "metadata": {},
   "outputs": [],
   "source": [
    "#import all libraries\n",
    "import pandas as pd\n",
    "from selenium import webdriver\n",
    "from webdriver_manager.chrome import ChromeDriverManager\n",
    "from selenium.webdriver.support.ui import WebDriverWait, Select\n",
    "from selenium.webdriver.support import expected_conditions as EC\n",
    "from selenium.webdriver.common.by import By \n",
    "from selenium.webdriver.chrome.service import Service\n",
    "from selenium.webdriver.common.keys import Keys\n",
    "\n",
    "\n",
    "from bs4 import BeautifulSoup as bs\n",
    "import time, sys, requests, random\n"
   ]
  },
  {
   "cell_type": "code",
   "execution_count": 2,
   "id": "45e41de4",
   "metadata": {},
   "outputs": [
    {
     "data": {
      "text/plain": [
       "'https://www.linkedin.com/search/results/companies/?keywords=digital%20health%20'"
      ]
     },
     "execution_count": 2,
     "metadata": {},
     "output_type": "execute_result"
    }
   ],
   "source": [
    "loginurl = 'https://www.linkedin.com/uas/login'\n",
    "baseurl = 'https://www.linkedin.com/search/results/companies/?keywords='\n",
    "driver_path = '/Users/zacharywong/Documents/Work/Portfolio/DigitalHealthWebscrape/chromedriver'\n",
    "keywordSeparator = '%20'\n",
    "keywords = 'digital health'\n",
    "keywords = keywords.replace(' ', keywordSeparator)\n",
    "query = baseurl + keywords +  keywordSeparator\n",
    "query"
   ]
  },
  {
   "cell_type": "code",
   "execution_count": 3,
   "id": "8f416b61",
   "metadata": {},
   "outputs": [],
   "source": [
    "service = Service(driver_path)\n",
    "driver = webdriver.Chrome(service = service)\n",
    "driver.get(loginurl)\n",
    "waitTime = 10\n",
    "#time.sleep(1)\n",
    "\n",
    "#login\n",
    "email = driver.find_element(By.ID, 'username')\n",
    "email.send_keys('zach.jl.wong@gmail.com')\n",
    "password = driver.find_element(By.ID, 'password')\n",
    "password.send_keys('PandaPanda23')\n",
    "#time.sleep(1)\n",
    "password.send_keys(Keys.RETURN)\n",
    "\n",
    "#search query\n",
    "searchBar = driver.find_element(By.XPATH, '//*[@id=\"global-nav-typeahead\"]/input')\n",
    "searchBar.send_keys('digital health')\n",
    "searchBar.send_keys(Keys.RETURN)\n",
    "\n",
    "#go to company option\n",
    "time.sleep(1)\n",
    "\n",
    "try:\n",
    "    companyButtons = driver.find_element(By.XPATH, '//*[@id=\"search-reusables__filters-bar\"]/ul/li[2]/button')\n",
    "    companyButtons.click()\n",
    "except: \n",
    "    WebDriverWait(driver, waitTime).until(EC.presence_of_element_located((By.XPATH, '//*[@id=\"search-reusables__filters-bar\"]/ul/li[2]/button')))\n",
    "    companyButtons = driver.find_element(By.XPATH, '//*[@id=\"search-reusables__filters-bar\"]/ul/li[2]/button')\n",
    "    companyButtons.click()\n",
    "\n",
    "\n",
    "\n"
   ]
  },
  {
   "cell_type": "code",
   "execution_count": null,
   "id": "a54e9952",
   "metadata": {},
   "outputs": [],
   "source": []
  },
  {
   "cell_type": "code",
   "execution_count": null,
   "id": "567fbbef",
   "metadata": {},
   "outputs": [],
   "source": [
    "companies = []\n",
    "\n",
    "soup = bs(driver.page_source, 'html.parser')\n",
    "time.sleep(5)\n",
    "for company in soup.find_all('a', class_ = 'app-aware-link'):\n",
    "    companyName = company.text\n",
    "    if '\\n\\n\\n' not in companyName:\n",
    "        companies.append(companyName.replace('\\n', ''))\n",
    "companies"
   ]
  },
  {
   "cell_type": "code",
   "execution_count": 5,
   "id": "46b28ad3",
   "metadata": {},
   "outputs": [
    {
     "ename": "SyntaxError",
     "evalue": "invalid syntax (1204194189.py, line 8)",
     "output_type": "error",
     "traceback": [
      "\u001b[0;36m  File \u001b[0;32m\"/var/folders/gl/jgk7f2w528qgjggck6glqp200000gn/T/ipykernel_7466/1204194189.py\"\u001b[0;36m, line \u001b[0;32m8\u001b[0m\n\u001b[0;31m    if company == ' ' or '\\n' company.contains(\\):\u001b[0m\n\u001b[0m                              ^\u001b[0m\n\u001b[0;31mSyntaxError\u001b[0m\u001b[0;31m:\u001b[0m invalid syntax\n"
     ]
    }
   ],
   "source": [
    "companies = []\n",
    "\n",
    "soup = bs(driver.page_source, 'html.parser')\n",
    "for company in soup.find_all('a', class_ = 'app-aware-link'):\n",
    "    companyName = company.text\n",
    "    companies.append(companyName.replace('\\n', ''))\n",
    "for company in companies:\n",
    "    if company == ' ' or '\\n' company.contains(\\):\n",
    "        companies.remove(company)\n",
    "companies\n"
   ]
  }
 ],
 "metadata": {
  "kernelspec": {
   "display_name": "Python 3 (ipykernel)",
   "language": "python",
   "name": "python3"
  },
  "language_info": {
   "codemirror_mode": {
    "name": "ipython",
    "version": 3
   },
   "file_extension": ".py",
   "mimetype": "text/x-python",
   "name": "python",
   "nbconvert_exporter": "python",
   "pygments_lexer": "ipython3",
   "version": "3.9.7"
  }
 },
 "nbformat": 4,
 "nbformat_minor": 5
}
