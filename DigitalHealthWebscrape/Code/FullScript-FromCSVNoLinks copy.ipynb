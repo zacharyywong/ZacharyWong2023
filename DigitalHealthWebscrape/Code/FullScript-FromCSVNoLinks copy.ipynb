{
 "cells": [
  {
   "cell_type": "code",
   "execution_count": 1,
   "id": "c75f97eb",
   "metadata": {},
   "outputs": [],
   "source": [
    "# This script extracts the title, link, short description, and determines number of keywords detected in each webpage\n",
    "\n",
    "#import all libraries\n",
    "import pandas as pd\n",
    "from selenium import webdriver\n",
    "from webdriver_manager.chrome import ChromeDriverManager\n",
    "from selenium.webdriver.support.ui import WebDriverWait, Select\n",
    "from selenium.webdriver.support import expected_conditions as EC\n",
    "from selenium.webdriver.common.by import By \n",
    "from selenium.webdriver.chrome.service import Service\n",
    "from bs4 import BeautifulSoup as bs\n",
    "import time, sys, requests, random\n",
    "\n",
    "\n",
    "# import and authorize gspread  \n",
    "import gspread\n",
    "from oauth2client.service_account import ServiceAccountCredentials\n",
    "scope = ['https://spreadsheets.google.com/feeds',\n",
    "         'https://www.googleapis.com/auth/drive']\n",
    "google_key_file = '/Users/zacharywong/Documents/ServiceAccountKey-Secret/pelagic-tracker-338302-eaf0e0e671cb.json'\n",
    "credentials = ServiceAccountCredentials.from_json_keyfile_name(google_key_file, scope)\n",
    "gc = gspread.authorize(credentials)\n"
   ]
  },
  {
   "cell_type": "code",
   "execution_count": 2,
   "id": "d63fc812",
   "metadata": {},
   "outputs": [],
   "source": [
    "# Global variables\n",
    "columnName = 'Company Names (Leave Blank if Using LinkedIn Company Mining)'\n",
    "\n",
    "# paths/baseurls\n",
    "spreadsheet_id = '1vFXonFCyUlEKa1f0s5tvHCKeTek_sAv7rUPYfYss0Qo'\n",
    "companyFilePath = '/Users/zacharywong/github/zacharywong2023/DigitalHealthWebscrape/Misc/Companies/Company Web Scrape Tool - Company Names.csv'\n",
    "driver_path = '/Users/zacharywong/Documents/Work/Portfolio/DigitalHealthWebscrape/chromedriver'\n",
    "pathtoFile = '/Users/zacharywong/github/zacharywong2023/DigitalHealthWebscrape/Results_CSV/'\n",
    "googleurl = 'https://www.google.com/'\n",
    "\n",
    "# floats/ints\n",
    "adjustDenominator = 2\n",
    "maxbackOff = 120\n",
    "maxResult = 1\n",
    "waitTime = 5\n",
    "waitRun = 0.3\n",
    "\n",
    "# bools\n",
    "useURL = False\n",
    "useName = False\n"
   ]
  },
  {
   "cell_type": "code",
   "execution_count": 3,
   "id": "9a761739",
   "metadata": {},
   "outputs": [],
   "source": [
    "# exponential wait backoff algorithm \n",
    "def wait():\n",
    "    pass\n",
    "    global waitRun\n",
    "    sleepTime = waitRun + random.uniform(0, 1)\n",
    "    time.sleep(sleepTime)\n",
    "    waitRun = waitRun*2\n",
    "    if (waitRun >= maxbackOff):\n",
    "        sys.exit(\"error: read from sheets quota exceeded\")"
   ]
  },
  {
   "cell_type": "code",
   "execution_count": 4,
   "id": "d2780835",
   "metadata": {},
   "outputs": [],
   "source": [
    "# Helper function: reads in values from DigitalHealthWebscrape google sheet\n",
    "# Need spreadsheet ID and the cell address where the value should be read in \n",
    "\n",
    "def readinValue(cellLocation, sheetIndex):\n",
    "    sh = gc.open_by_key(spreadsheet_id)\n",
    "    worksheet = sh.get_worksheet(sheetIndex)\n",
    "    try:\n",
    "        value = worksheet.acell(cellLocation).value\n",
    "    except:\n",
    "        wait()\n",
    "    return value"
   ]
  },
  {
   "cell_type": "code",
   "execution_count": 5,
   "id": "d84ee9f9",
   "metadata": {},
   "outputs": [],
   "source": [
    "# Read Company names from csv file \n",
    "def readCompanies():\n",
    "    names = []\n",
    "    df = pd.read_csv(companyFilePath, usecols = [columnName])\n",
    "    df[columnName]=df[columnName].fillna(' ')\n",
    "    names = df[columnName].tolist()\n",
    "    #print(df)\n",
    "    return names \n",
    "    "
   ]
  },
  {
   "cell_type": "code",
   "execution_count": 6,
   "id": "8f6bf564",
   "metadata": {},
   "outputs": [],
   "source": [
    "# Read keywords for Keyword Detection from spreadsheet\n",
    "def readKeyWords():\n",
    "    keywords = []\n",
    "    row = 2;\n",
    "    sheetIndex = 1\n",
    "    isDone = False\n",
    "    cellLocationColumn = 'B'\n",
    "    while (isDone == False):\n",
    "        cellLocationKeyWords = cellLocationColumn + str(row)\n",
    "        try:\n",
    "            keyword = readinValue(cellLocationKeyWords, sheetIndex)\n",
    "            keywords.append(keyword)\n",
    "            if(keyword == None):\n",
    "                isDone = True\n",
    "                break\n",
    "            else:\n",
    "                row += 1 \n",
    "        except:\n",
    "            wait()\n",
    "    keywords = keywords[0:len(keywords)-1]\n",
    "    print('Keywords: ', keywords)\n",
    "    return keywords"
   ]
  },
  {
   "cell_type": "code",
   "execution_count": 7,
   "id": "19843095",
   "metadata": {},
   "outputs": [],
   "source": [
    "# Read whether to activate Keyword Detection from spreadsheet\n",
    "def readCalculateLiklihood():\n",
    "    #print(links, names)\n",
    "    sheetIndex = 1\n",
    "    cellLocationLiklihood = 'A2'\n",
    "    calculateLiklihood = False\n",
    "    try:\n",
    "        calculateLiklihoodInput = readinValue(cellLocationLiklihood, sheetIndex)\n",
    "        if (calculateLiklihoodInput == 'Yes'):\n",
    "            calculateLiklihood = True\n",
    "        else:\n",
    "            calculateLiklihood = False\n",
    "    except:\n",
    "        wait()\n",
    "    return calculateLiklihood"
   ]
  },
  {
   "cell_type": "code",
   "execution_count": 8,
   "id": "34a706f2",
   "metadata": {},
   "outputs": [],
   "source": [
    "# read all user inputs from spreadsheet\n",
    "def readInput():\n",
    "    names = readCompanies()\n",
    "    calculateLiklihood = readCalculateLiklihood()\n",
    "    keywords = readKeyWords()\n",
    "    return names, calculateLiklihood, keywords"
   ]
  },
  {
   "cell_type": "code",
   "execution_count": 9,
   "id": "5294e90e",
   "metadata": {},
   "outputs": [],
   "source": [
    "# Extract links from 1 page of google search results\n",
    "def extractLinks(soup):\n",
    "    links = []\n",
    "    #Tags and classes\n",
    "    linksTag = 'div'\n",
    "    linksClass = 'yuRUbf'\n",
    "    linksAttr = 'href'\n",
    "    searchLinks = soup.find_all(linksTag, class_ = linksClass)\n",
    "    for h in searchLinks:\n",
    "        link = h.a.get(linksAttr)\n",
    "        links.append(link)\n",
    "    return links "
   ]
  },
  {
   "cell_type": "code",
   "execution_count": 10,
   "id": "a6d4dd2b",
   "metadata": {},
   "outputs": [],
   "source": [
    "# Extract titles from 1 page of google search results\n",
    "def extractTitles(soup):\n",
    "    titles = [] \n",
    "    \n",
    "    titlesClass = 'LC20lb MBeuO DKV0Md'\n",
    "    titlesTag = 'h3'\n",
    "    searchTitles = soup.find_all(titlesTag, class_= titlesClass)\n",
    "    for h in searchTitles:\n",
    "        titles.append(h.text)\n",
    "    return titles"
   ]
  },
  {
   "cell_type": "code",
   "execution_count": 11,
   "id": "8aa3778b",
   "metadata": {},
   "outputs": [],
   "source": [
    "# Extract texts from 1 page of google search results\n",
    "def extractTexts(soup):\n",
    "    texts = []\n",
    "    textsClass = 'VwiC3b yXK7lf MUxGbd yDYNvb lyLwlc lEBKkf'\n",
    "    textsTag = 'div'\n",
    "    searchText = soup.find_all(textsTag, class_= textsClass)\n",
    "    for h in searchText:\n",
    "        fullText = h.text\n",
    "        try:\n",
    "            splitText = fullText.split('— ', 1)\n",
    "            text = splitText[1]\n",
    "            texts.append(text);\n",
    "        except:\n",
    "            texts.append(fullText)\n",
    "    return texts;"
   ]
  },
  {
   "cell_type": "code",
   "execution_count": 12,
   "id": "670c7b34",
   "metadata": {},
   "outputs": [],
   "source": [
    "# Calculate number of keywords detected in the top result from Google \n",
    "def calculateLiklihoods(links, keywords):\n",
    "    #keywords = ['personalized', 'personalization', 'machine-learning', 'AI', 'Artificial Intelligence', '24/7', 'democratizing']\n",
    "    liklihoods = []\n",
    "    detectedWordsAll = []\n",
    "    ignore = ['[document]', 'a', 'article', 'label', 'script', 'style']\n",
    "    liklihoodDenom = len(keywords) - adjustDenominator\n",
    "    \n",
    "    # for each url, calculate number of words detected\n",
    "    for url in links: \n",
    "        detectedWords = []\n",
    "        output = ''\n",
    "        count = 0\n",
    "        liklihood = 0\n",
    "        res = requests.get(url, headers={'User-Agent': 'Mozilla/5.0'})\n",
    "        html_page = res.content\n",
    "        soup = bs(html_page, 'html.parser')\n",
    "        text = soup.find_all(text=True)\n",
    "        for t in text:\n",
    "            if t.parent.name not in ignore:\n",
    "                output += '{} '.format(t)\n",
    "        outputSub = output.split(' ')\n",
    "        \n",
    "        # check if each word matches any in keywords list \n",
    "        for word in keywords: \n",
    "            if (word in outputSub or word.capitalize() in outputSub or word + '\\n' in outputSub):\n",
    "                detectedWords.append(word)\n",
    "                count +=1 \n",
    "        liklihood = round((count / liklihoodDenom), 2)\n",
    "        #print(liklihood)\n",
    "        liklihoods.append(liklihood)\n",
    "        detectedWordsAll.append(detectedWords)\n",
    "    return liklihoods, detectedWordsAll"
   ]
  },
  {
   "cell_type": "code",
   "execution_count": 13,
   "id": "e7add298",
   "metadata": {},
   "outputs": [],
   "source": [
    "# Search each company name on Google \n",
    "def searchGoogle(index, namesInput, googleurl, useURL, waitTime, driver):\n",
    "    websiteName = namesInput[index]\n",
    "    driver.get(googleurl)\n",
    "    searchBar = driver.find_element(By.NAME, 'q')\n",
    "    useURL = False; \n",
    "    useName = True; \n",
    "    if (useURL):\n",
    "        query = \"site: \" + siteURL\n",
    "        print('query: ' + query)\n",
    "        try:\n",
    "            searchBar.send_keys(query)\n",
    "            searchBar.send_keys('\\n')\n",
    "        except Exception as e : \n",
    "            WebDriverWait(driver, waitTime).until(EC.presence_of_element_located((By.NAME, 'q')))\n",
    "            searchBar.send_keys(query)\n",
    "            searchBar.send_keys('\\n')\n",
    "    else:\n",
    "        query = websiteName\n",
    "        print('query: ' + query)\n",
    "        searchBar.send_keys(query)\n",
    "        searchBar.send_keys('\\n')"
   ]
  },
  {
   "cell_type": "code",
   "execution_count": 14,
   "id": "1f55f784",
   "metadata": {},
   "outputs": [],
   "source": [
    "# capture links, header, and text\n",
    "# pageInfo is a list of dictionaries for each page with keys/value pairs: header, link, text\n",
    "# extract and load each page of results to pageInfo \n",
    "def parseHTML(driver, calculateLiklihood, keywords, maxResult, pageInfo):\n",
    "    soup = bs(driver.page_source, 'html.parser')\n",
    "    links = extractLinks(soup);\n",
    "    texts = extractTexts(soup);\n",
    "    titles = extractTitles(soup);\n",
    "    if (calculateLiklihood):\n",
    "        liklihoods, detectedWordsAll = calculateLiklihoods(links[0:1], keywords)\n",
    "        pageInfo = addToPageInfo(titles, links, texts, maxResult, pageInfo, liklihoods, detectedWordsAll)\n",
    "    else:\n",
    "        pageInfo = addToPageInfo(titles, links, texts, maxResult, pageInfo, liklihoods = None, detectedWordsAll = None)\n",
    "    return pageInfo"
   ]
  },
  {
   "cell_type": "code",
   "execution_count": 15,
   "id": "768eb19a",
   "metadata": {},
   "outputs": [],
   "source": [
    "# helper function to add 1 page of results to pageInfo list\n",
    "def addToPageInfo(titles, links, texts, maxResult, pageInfo, liklihoods, detectedWordsAll):\n",
    "    index = 0;\n",
    "    while (index < maxResult):\n",
    "        #create new dictionary of each search results' percentage of detected words, title, link, text, and detected words\n",
    "        if (liklihoods == None):\n",
    "            pageInfo.append({\"Title\": titles[index], \"Link\": links[index], \"About\": texts[index]})\n",
    "        else:\n",
    "            detectedWords = str(detectedWordsAll[index])\n",
    "            pageInfo.append({\"Percentage of Keywords Detected\": liklihoods[index], \"Title\": titles[index], \"Link\": links[index], \"About\": texts[index],  \"Detected KeyWords\": detectedWords})\n",
    "        index += 1\n",
    "    return pageInfo\n"
   ]
  },
  {
   "cell_type": "code",
   "execution_count": 16,
   "id": "aded4534",
   "metadata": {},
   "outputs": [],
   "source": [
    "# export final result to CSV \n",
    "def exportCSV(df, pathtoFile, fileName):\n",
    "    # convert pageInfo to pandas dataframe and export as csv \n",
    "    df.to_csv(pathtoFile + fileName)"
   ]
  },
  {
   "cell_type": "code",
   "execution_count": 17,
   "id": "d240d106",
   "metadata": {},
   "outputs": [],
   "source": [
    "# export final result to spreadsheet\n",
    "def updateSpreadSheet(df, sheetIndex):\n",
    "    sh = gc.open_by_key(spreadsheet_id)\n",
    "    worksheet = sh.get_worksheet(sheetIndex)\n",
    "    worksheet.clear()\n",
    "    worksheet.update([df.columns.values.tolist()] + df.values.tolist())\n",
    "    "
   ]
  },
  {
   "cell_type": "code",
   "execution_count": 18,
   "id": "28853f74",
   "metadata": {},
   "outputs": [],
   "source": [
    "# turn dictionary of results ot pandas dataframe to prepare for export to CSV and spreadsheet\n",
    "def exportDeliverables(pageInfo, pathtoFile, fileName, calculateLiklihood):\n",
    "    df = pd.DataFrame(pageInfo)\n",
    "    if (calculateLiklihood):\n",
    "        df = df.sort_values(by = ['Percentage of Keywords Detected'], ascending=False)\n",
    "        df['Percentage of Keywords Detected'] = df['Percentage of Keywords Detected'] * 100\n",
    "    sheetIndex = 3\n",
    "    exportCSV(df, pathtoFile, fileName)\n",
    "    updateSpreadSheet(df, sheetIndex)\n",
    "    return df "
   ]
  },
  {
   "cell_type": "code",
   "execution_count": 19,
   "id": "40c073c3",
   "metadata": {
    "scrolled": false
   },
   "outputs": [],
   "source": [
    "# run all helper functions to scrape info from Google \n",
    "def runExtraction():\n",
    "    index = 0\n",
    "    namesInput, calculateLiklihood, keywords = readInput()\n",
    "    print(\"Number of Companies: \" + str((len(namesInput))))\n",
    "    fileName = 'CompanyWebScrape_CSV.csv'\n",
    "    \n",
    "    # Access chromedriver and determine path \n",
    "    service = Service(driver_path)\n",
    "    driver = webdriver.Chrome(service = service)\n",
    "    \n",
    "    # list of dictionaries with key/value pairs: title, link, text\n",
    "    # Contains all information for all search results \n",
    "    pageInfo = []\n",
    "    while (index < len(namesInput)):\n",
    "        searchGoogle(index, namesInput, googleurl, useURL, waitTime, driver)\n",
    "        for page in range(0, 1):\n",
    "            pageInfo = parseHTML(driver, calculateLiklihood, keywords, maxResult, pageInfo)\n",
    "            index += 1\n",
    "        time.sleep(waitRun)\n",
    "    df = exportDeliverables(pageInfo, pathtoFile, fileName, calculateLiklihood)\n",
    "    return df"
   ]
  },
  {
   "cell_type": "code",
   "execution_count": null,
   "id": "f29f5bf4",
   "metadata": {},
   "outputs": [
    {
     "name": "stdout",
     "output_type": "stream",
     "text": [
      "Keywords:  ['personalized', 'personalization', 'machine-learning', 'AI', 'Artificial Intelligence', 'A.I.', 'democratizing', '24/7', 'digital assistant', 'digital', 'match']\n",
      "Number of Companies: 15\n",
      "query: Babylon health\n",
      "query: sword health\n",
      "query: kaia health\n",
      "query: Ada Health\n",
      "query: Bulgarian Digital Helath\n",
      "query: UCM Digital Health\n"
     ]
    }
   ],
   "source": [
    "# Run program with output on how long program takes \n",
    "startTime = time.time()\n",
    "df = runExtraction()\n",
    "endTime = time.time()\n",
    "timeElapsed = endTime - startTime\n",
    "print('Time Elapsed: ', timeElapsed)\n",
    "df"
   ]
  },
  {
   "cell_type": "code",
   "execution_count": null,
   "id": "7bc4553b",
   "metadata": {},
   "outputs": [],
   "source": []
  },
  {
   "cell_type": "code",
   "execution_count": null,
   "id": "65104f6a",
   "metadata": {},
   "outputs": [],
   "source": []
  }
 ],
 "metadata": {
  "kernelspec": {
   "display_name": "Python 3 (ipykernel)",
   "language": "python",
   "name": "python3"
  },
  "language_info": {
   "codemirror_mode": {
    "name": "ipython",
    "version": 3
   },
   "file_extension": ".py",
   "mimetype": "text/x-python",
   "name": "python",
   "nbconvert_exporter": "python",
   "pygments_lexer": "ipython3",
   "version": "3.9.7"
  }
 },
 "nbformat": 4,
 "nbformat_minor": 5
}
