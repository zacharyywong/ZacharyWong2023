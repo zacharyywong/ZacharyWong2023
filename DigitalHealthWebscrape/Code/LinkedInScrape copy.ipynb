{
 "cells": [
  {
   "cell_type": "code",
   "execution_count": 1,
   "id": "27a5377c",
   "metadata": {},
   "outputs": [],
   "source": [
    "# Scrape LinkedIn companies based on user inputted search query and update into Company Web Scrape Google Sheets \n",
    "# Script for LinkedIn Company Mining Feature\n",
    "\n",
    "#import libraries\n",
    "import pandas as pd\n",
    "from selenium import webdriver\n",
    "from webdriver_manager.chrome import ChromeDriverManager\n",
    "from selenium.webdriver.support.ui import WebDriverWait, Select\n",
    "from selenium.webdriver.support import expected_conditions as EC\n",
    "from selenium.webdriver.common.by import By \n",
    "from selenium.webdriver.chrome.service import Service\n",
    "from selenium.webdriver.common.keys import Keys\n",
    "from bs4 import BeautifulSoup as bs\n",
    "import time, sys, requests, random\n",
    "\n",
    "# import and authorize gspread  \n",
    "import gspread\n",
    "from oauth2client.service_account import ServiceAccountCredentials\n",
    "scope = ['https://spreadsheets.google.com/feeds',\n",
    "         'https://www.googleapis.com/auth/drive']\n",
    "google_key_file = '/Users/zacharywong/Documents/ServiceAccountKey-Secret/pelagic-tracker-338302-eaf0e0e671cb.json'\n",
    "credentials = ServiceAccountCredentials.from_json_keyfile_name(google_key_file, scope)\n",
    "gc = gspread.authorize(credentials)"
   ]
  },
  {
   "cell_type": "code",
   "execution_count": 2,
   "id": "8027d88d",
   "metadata": {},
   "outputs": [],
   "source": [
    "#Global variables\n",
    "query = ''\n",
    "numberofPages = 0\n",
    "cellLocationQuery = 'C2'\n",
    "cellLocationPages = 'B2'\n",
    "sheetIndexRead = 0\n",
    "sheetIndexWrite = 2\n",
    "columnName = 'Company Names (Leave Blank if Using LinkedIn Company Mining)'\n",
    "password = ''\n",
    "email = 'zach.jl.wong@gmail.com'\n",
    "\n",
    "#paths/urls\n",
    "spreadsheet_id = '1vFXonFCyUlEKa1f0s5tvHCKeTek_sAv7rUPYfYss0Qo'\n",
    "loginurl = 'https://www.linkedin.com/uas/login'\n",
    "driver_path = '/Users/zacharywong/Documents/Work/Portfolio/DigitalHealthWebscrape/chromedriver'\n",
    "pathtoLinkedInFile = '/Users/zacharywong/github/zacharywong2023/DigitalHealthWebscrape/Misc/Companies/Company Web Scrape Tool - Company Names.csv'\n",
    "pathtoPassword = '/Users/zacharywong/Documents/LinkedIn/LinkedIn-Password-Secret.txt'\n",
    "\n",
    "#waitTimes\n",
    "waitLinkedInTime = 10\n",
    "waitCaptcha = 25\n",
    "waitSearch= 1\n",
    "waitLogin = 0.8\n",
    "\n",
    "\n",
    "# xPaths, classes, and javascripts\n",
    "searchBarXPath = '//*[@id=\"global-nav-typeahead\"]/input'\n",
    "companyFilterXPath = '//*[@id=\"search-reusables__filters-bar\"]/ul/li[2]/button'\n",
    "scrollDownScript = \"window.scrollTo(0,document.body.scrollHeight)\"\n",
    "pageButtonClass = \"button[type='button']\"\n",
    "companyTitleClass = 'app-aware-link'\n",
    "companyTitleAttr = 'a'\n"
   ]
  },
  {
   "cell_type": "code",
   "execution_count": 3,
   "id": "b11a7f43",
   "metadata": {},
   "outputs": [],
   "source": [
    "# helper function to read in value from spreadsheet\n",
    "def readinValue(cellLocation, sheetIndexRead):\n",
    "    sh = gc.open_by_key(spreadsheet_id)\n",
    "    worksheet = sh.get_worksheet(sheetIndexRead)\n",
    "    try:\n",
    "        value = worksheet.acell(cellLocation).value\n",
    "    except:\n",
    "        wait()\n",
    "    return value"
   ]
  },
  {
   "cell_type": "code",
   "execution_count": 4,
   "id": "33c903d7",
   "metadata": {},
   "outputs": [],
   "source": [
    "# read in query from spreadsheet\n",
    "def readinQuery():\n",
    "    global query\n",
    "    query = readinValue(cellLocationQuery, sheetIndexRead)\n",
    "    print('query: ' + query)"
   ]
  },
  {
   "cell_type": "code",
   "execution_count": 5,
   "id": "353ef0db",
   "metadata": {},
   "outputs": [],
   "source": [
    "# read in number of pages from spreadsheet\n",
    "def readinPages():\n",
    "    global numberofPages\n",
    "    numberofPages = int(readinValue(cellLocationPages, sheetIndexRead))\n",
    "    print('numberofPages: ', numberofPages)"
   ]
  },
  {
   "cell_type": "code",
   "execution_count": 6,
   "id": "8fef384c",
   "metadata": {},
   "outputs": [],
   "source": [
    "# login to linkedin \n",
    "def login(driver):\n",
    "    driver.get(loginurl)\n",
    "    emailInput = driver.find_element(By.ID, 'username')\n",
    "    emailInput.send_keys(email)\n",
    "    time.sleep(waitLogin)\n",
    "    passwordInput = driver.find_element(By.ID, 'password')\n",
    "    with open (pathtoPassword, 'r') as file:\n",
    "        global password\n",
    "        password = file.read()\n",
    "    passwordInput.send_keys(password)\n",
    "    time.sleep(waitLogin)\n",
    "    passwordInput.send_keys(Keys.RETURN)\n",
    "    "
   ]
  },
  {
   "cell_type": "code",
   "execution_count": 7,
   "id": "aa060417",
   "metadata": {},
   "outputs": [],
   "source": [
    "# search query on LinkedIn\n",
    "def searchLinkedIn(driver):\n",
    "    #search query\n",
    "    try:\n",
    "        searchBar = driver.find_element(By.XPATH, searchBarXPath)\n",
    "        searchBar.send_keys(query)\n",
    "        searchBar.send_keys(Keys.RETURN)\n",
    "        time.sleep(1)\n",
    "    except: \n",
    "        time.sleep(waitCaptcha)\n",
    "        searchBar = driver.find_element(By.XPATH, searchBarXPath)\n",
    "        searchBar.send_keys(query)\n",
    "        searchBar.send_keys(Keys.RETURN)\n",
    "        time.sleep(1)"
   ]
  },
  {
   "cell_type": "code",
   "execution_count": 8,
   "id": "1b3cbce7",
   "metadata": {},
   "outputs": [],
   "source": [
    "# Click Company Filter option on LinkedIn\n",
    "def companyFilter(driver):\n",
    "    WebDriverWait(driver, waitLinkedInTime).until(EC.presence_of_element_located((By.XPATH, companyFilterXPath)))\n",
    "    companyButtons = driver.find_element(By.XPATH, companyFilterXPath)\n",
    "    companyButtons.click()"
   ]
  },
  {
   "cell_type": "code",
   "execution_count": 9,
   "id": "09b23745",
   "metadata": {},
   "outputs": [],
   "source": [
    "# Click onto next page \n",
    "def nextPage(currentPage, driver):\n",
    "    driver.execute_script(scrollDownScript)\n",
    "    time.sleep(1)\n",
    "    #WebDriverWait(driver, waitLinkedInTime).until(EC.presence_of_element_located((By.XPATH, '//*[@id=\"ember329\"]/button')))\n",
    "    pages = driver.find_elements_by_css_selector(pageButtonClass)\n",
    "    for page in pages:\n",
    "        #time.sleep(1)\n",
    "        buttonNumber = page.text\n",
    "        #print(buttonNumber)\n",
    "        if buttonNumber == str(currentPage):\n",
    "            #print('hello')\n",
    "            page.click()\n",
    "            break"
   ]
  },
  {
   "cell_type": "code",
   "execution_count": 10,
   "id": "6d9f7dbe",
   "metadata": {},
   "outputs": [],
   "source": [
    "# add companies into a pandas dataframe \n",
    "def addCompanies(driver):\n",
    "    companies = []\n",
    "    currentPage = 1\n",
    "    while (currentPage <= numberofPages):\n",
    "        time.sleep(2)\n",
    "        soup = bs(driver.page_source, 'html.parser')\n",
    "        companySearch = soup.find_all(companyTitleAttr, class_ = companyTitleClass)\n",
    "        for company in companySearch:\n",
    "            companyName = company.text\n",
    "            if '\\n\\n\\n' not in companyName and companyName not in companies:\n",
    "                companies.append(companyName.replace('\\n', ''))\n",
    "        currentPage += 1\n",
    "        nextPage(currentPage, driver)\n",
    "    return companies"
   ]
  },
  {
   "cell_type": "code",
   "execution_count": 11,
   "id": "5bdfc6c7",
   "metadata": {},
   "outputs": [],
   "source": [
    "# export final list of companies to CSV \n",
    "def exportCSV(companies):\n",
    "    df = pd.DataFrame(companies, columns = [columnName])\n",
    "    df.to_csv(pathtoLinkedInFile)\n",
    "    return df"
   ]
  },
  {
   "cell_type": "code",
   "execution_count": 12,
   "id": "7906ce3c",
   "metadata": {},
   "outputs": [],
   "source": [
    "# Update spreadsheet with list of companies\n",
    "def updateSpreadSheet(df, sheetIndexWrite):\n",
    "    sh = gc.open_by_key(spreadsheet_id)\n",
    "    worksheet = sh.get_worksheet(sheetIndexWrite)\n",
    "    worksheet.clear()\n",
    "    worksheet.update([df.columns.values.tolist()] + df.values.tolist())"
   ]
  },
  {
   "cell_type": "code",
   "execution_count": 13,
   "id": "b61a401f",
   "metadata": {},
   "outputs": [],
   "source": [
    "# run all functions to scrape LinkedIn companies  \n",
    "def runLinkedIn():\n",
    "    service = Service(driver_path)\n",
    "    driver = webdriver.Chrome(service = service)\n",
    "    readinQuery()\n",
    "    readinPages()\n",
    "    login(driver)\n",
    "    searchLinkedIn(driver)\n",
    "    companyFilter(driver)\n",
    "    companies = addCompanies(driver)\n",
    "    df = exportCSV(companies)\n",
    "    updateSpreadSheet(df, sheetIndexWrite)\n",
    "    return df"
   ]
  },
  {
   "cell_type": "code",
   "execution_count": null,
   "id": "1071d8c1",
   "metadata": {},
   "outputs": [
    {
     "name": "stdout",
     "output_type": "stream",
     "text": [
      "query: Digital Health\n",
      "numberofPages:  3\n"
     ]
    }
   ],
   "source": [
    "# run program \n",
    "startTime = time.time()\n",
    "df = runLinkedIn()\n",
    "endTime = time.time()\n",
    "elapsedTime = endTime - startTime\n",
    "print('Time Elapsed: ', elapsedTime)\n",
    "df"
   ]
  },
  {
   "cell_type": "code",
   "execution_count": null,
   "id": "0c0bdb93",
   "metadata": {},
   "outputs": [],
   "source": []
  },
  {
   "cell_type": "code",
   "execution_count": null,
   "id": "d687f83e",
   "metadata": {},
   "outputs": [],
   "source": []
  }
 ],
 "metadata": {
  "kernelspec": {
   "display_name": "Python 3 (ipykernel)",
   "language": "python",
   "name": "python3"
  },
  "language_info": {
   "codemirror_mode": {
    "name": "ipython",
    "version": 3
   },
   "file_extension": ".py",
   "mimetype": "text/x-python",
   "name": "python",
   "nbconvert_exporter": "python",
   "pygments_lexer": "ipython3",
   "version": "3.9.7"
  }
 },
 "nbformat": 4,
 "nbformat_minor": 5
}
