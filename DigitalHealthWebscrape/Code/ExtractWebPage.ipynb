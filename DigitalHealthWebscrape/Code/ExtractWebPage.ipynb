{
 "cells": [
  {
   "cell_type": "code",
   "execution_count": 1,
   "id": "fcff8c6f",
   "metadata": {},
   "outputs": [
    {
     "data": {
      "text/plain": [
       "0.0"
      ]
     },
     "execution_count": 1,
     "metadata": {},
     "output_type": "execute_result"
    }
   ],
   "source": [
    "# This script extracts all the important text from the langing page of a webpage for analysis\n",
    "\n",
    "import requests\n",
    "from bs4 import BeautifulSoup as bs\n",
    "#urls = ['https://kaiahealth.com/', 'https://www.babylonhealth.com/en-us', 'https://www.concertai.com/predictivepatient/']\n",
    "#for url in urls:\n",
    "\n",
    "url = 'https://gyant.com/'\n",
    "res = requests.get(url, headers={'User-Agent': 'Mozilla/5.0'})\n",
    "html_page = res.content\n",
    "soup = bs(html_page, 'html.parser')\n",
    "text = soup.find_all(text=True)\n",
    "\n",
    "ignore = ['[document]', 'a', 'article', 'label','div','script', 'style', 'title', 'img', 'svg', 'ul', 'g', 'footer', 'button', 'clippath', 'nav']\n",
    "ignore1 = ['[document]', 'label','div','script', 'style', 'title', 'img', 'svg', 'ul', 'g', 'footer', 'button', 'clippath', 'nav']\n",
    "\n",
    "output = ''\n",
    "for t in text:\n",
    "    if t.parent.name not in ignore1:\n",
    "        output += '{} '.format(t)\n",
    "\n",
    "# analyze the webpage to detect keywords \n",
    "outputSub = output.split(' ')\n",
    "#print(outputSub)\n",
    "\n",
    "count = 0\n",
    "liklihood = 0\n",
    "words = ['personalized', 'personalization', 'machine-learning', 'AI', 'Artificial Intelligence', '24/7', 'democratizing', 'A.I.']\n",
    "for word in words: \n",
    "    if (word in outputSub or word.capitalize() in outputSub):\n",
    "        print('\"' + word +'\"' + ' detected')\n",
    "        count +=1 \n",
    "    #else:\n",
    "        #print(word + ' is not there')\n",
    "liklihood = round((count / len(words)), 2)\n",
    "liklihood"
   ]
  },
  {
   "cell_type": "code",
   "execution_count": 2,
   "id": "0e23f9c6",
   "metadata": {},
   "outputs": [],
   "source": [
    "#set([t.parent.name for t in text])\n",
    "\n"
   ]
  },
  {
   "cell_type": "code",
   "execution_count": 3,
   "id": "a5a64494",
   "metadata": {},
   "outputs": [
    {
     "data": {
      "text/plain": [
       "'\\n \\n  Global site tag (gtag.js) - Google Analytics  \\n  BASE  \\n \\n \\n  SITE TITLE  \\n Homepage - GYANT \\n \\n \\n \\n \\n \\n \\n \\n \\n  This site is optimized with the Yoast SEO Premium plugin v17.5 (Yoast SEO v17.5) - https://yoast.com/wordpress/plugins/seo/  \\n \\n \\n \\n \\n \\n \\n \\n \\n \\n \\n \\n  / Yoast SEO Premium plugin.  \\n \\n \\n \\n \\n \\n \\n \\n \\n \\n \\n \\n \\n  DO NOT COPY THIS SNIPPET! Start of Page Analytics Tracking for HubSpot WordPress plugin v8.4.329 \\n \\n  DO NOT COPY THIS SNIPPET! End of Page Analytics Tracking for HubSpot WordPress plugin  \\n \\n \\n \\n \\n \\n \\n \\n \\n \\n \\n \\n \\n \\n \\n \\n \\n \\n \\n \\n \\n \\n \\n \\n \\n \\n \\n \\n \\n \\n \\n \\n \\n \\n \\n \\n \\n \\n \\n \\n \\n \\n \\n \\n \\n \\n \\n \\n \\n \\n \\n \\n   \\n \\n \\n \\n \\n \\n \\n Get In Touch \\n \\n \\n \\n \\n \\n \\n \\n \\n \\n \\n \\n \\n \\n \\n        Find out what we can  \\r\\ndo for your organization.     \\n \\n \\n   \\n \\n \\n \\n \\n \\n \\n \\n \\n \\n \\n \\n  <button class=\"homepage__scroll-indicator js-scroll-indicator\">  \\n  <svg xmlns=\"http://www.w3.org/2000/svg\" width=\"16\" height=\"57.011\"><path data-name=\"Path 3\" d=\"M15.734 46.209a.734.734 0 00-1.05.15l-5.926 7.652V.75a.75.75 0 10-1.5 0v53.261l-5.926-7.652a.75.75 0 00-1.2.9l7.276 9.452a.926.926 0 00.6.3.682.682 0 00.6-.3l7.2-9.452a.729.729 0 00-.074-1.05z\" fill=\"#fff\"/></svg>            </button>  \\n \\n \\n \\n \\n \\n \\n \\n                    makes people better.                 \\n \\n \\n Better access to care. \\nBetter resource utilization. \\nA better healthcare experience. \\n \\n \\n \\n \\n \\n \\n \\n \\n \\n \\n \\n \\n \\n \\n \\n \\n \\n \\n \\n        We start by  \\r\\nunderstanding patients  \\r\\nbetter than anyone.     \\n \\n        Our digital assistant creates a meaningful  \\r\\ndialogue, that understands them.  \\r\\nConnecting to the right care, right away.     \\n \\n \\n \\n  <img class=\"top_testimonial__heading__1\" src=\"https://2npptav0hue39u9d92n13n9u-wpengine.netdna-ssl.com/wp-content/themes/gyant/assets/images/Top_1.png\" alt=\"#1\">  \\n 100% Would Buy Again according to \\n \\n \\n \\n            \"There has been a personal touch that I have been really impressed with. \\r\\nI feel like GYANT has been part of our team.\"         \\n \\n            – KLAS Emerging Technology Spotlight          \\n Read the Report \\n \\n \\n \\n \\n            Our technology is a powerful  \\r\\nforce behind the scenes.         \\n \\n            We improve the patient experience in the real world  \\r\\nby making people empowered, connected, better.         \\n \\n \\n \\n \\n \\n \\n                                Expand Patient Access                             \\n \\n \\n \\n                                Digitize the Patient Journey                             \\n \\n \\n \\n                                Streamline Triage                             \\n \\n \\n \\n \\n \\n \\n \\n \\n \\n            It creates a space  \\r\\nwhere providers can focus  \\r\\non providing care.         \\n \\n            Seamless integration of technology frees up resources,  \\r\\nand brings patients front and center.         \\n \\n \\n \\n \\n \\n \\n                                Increase Productivity                             \\n \\n \\n \\n                                Reduce Costs                             \\n \\n \\n \\n                                Navigate COVID-19                             \\n \\n \\n \\n \\n \\n \\n \\n \\n \\n \\n            Trusted by         \\n \\n \\n \\n \\n   \\n \\n \\n \\n \\n   \\n \\n \\n \\n \\n   \\n \\n \\n \\n \\n \\n \\n \\n \\n \\n \\n \\n \\n \\n \\n \\n \\n \\n \\n                                Expedite care search and booking                             \\n \\n \\n                                    Enable patients to efficiently find a clinic and book appointments.                                 \\n \\n \\n \\n \\n \\n \\n \\n \\n \\n \\n \\n \\n \\n \\n \\n \\n \\n                                Share on-demand information                             \\n \\n \\n                                    Provider search by name, specialty, or condition – at the patient’s fingertips.                                 \\n \\n \\n \\n \\n \\n \\n \\n \\n \\n \\n \\n \\n \\n \\n \\n \\n \\n                                Connect patients directly to virtual care                             \\n \\n \\n                                    Navigate patients to virtual care resources with a seamless handoff.                                 \\n \\n \\n \\n \\n \\n \\n \\n \\n \\n \\n \\n \\n \\n \\n \\n \\n \\n                                Triage patients to the best level of care                             \\n \\n \\n                                    Evaluate patient symptoms and recommend care – reducing call center traffic.                                 \\n \\n \\n \\n \\n \\n \\n \\n \\n \\n \\n \\n \\n \\n \\n \\n \\n \\n                                Improve contact center productivity                             \\n \\n \\n                                    Automate callback requests, handoff to live chat, and flag cases for follow-up.                                 \\n \\n \\n \\n \\n \\n \\n \\n \\n \\n \\n \\n \\n \\n \\n \\n \\n \\n                                Screen for COVID vaccine eligibility                             \\n \\n \\n                                    Reduce contact center strain by automating COVID vaccine eligibility screening.                                 \\n \\n \\n \\n \\n \\n \\n \\n \\n \\n \\n \\n \\n \\n \\n \\n \\n \\n \\n \\n \\n \\n \\n \\n \\n \\n \\n \\n \\n \\n                        “It’s helped to decrease call volume in our contact center. It’s helped decrease foot traffic and really offer the community a complete sense of security.”                     \\n \\n                        – Abby Lotz, Vice President \\r\\n& Chief Nursing Officer                     \\n \\n \\n \\n \\n \\n                        “Using GYANT led to a 30% decrease in call center volume, alleviating hospital capacity constraints and improving patient experience.”                     \\n \\n                        – Kevan Mabbutt, Chief Consumer Officer                     \\n \\n \\n \\n \\n \\n                        “Our aim is to advance health care by using innovative solutions that positively impact each patient’s health and experience – and the GYANT platform allows us to do just that.”                     \\n \\n                        – Cheryl Eck, AVP, Strategy & Planning                     \\n \\n \\n \\n \\n \\n \\n \\n \\n \\n \\n \\n \\n \\n \\n \\n Case Studies \\n \\n \\n \\n \\n \\n \\n \\n                        Geisinger Case Study                     \\n                        Embedding the GYANT chatbot across our enterprise website, Geisinger.org, enabled seamless routing of over 27K consumers in a week to key…                     \\n                        October 8, 2021                     \\n \\n \\n \\n \\n \\n                        Intermountain Healthcare Case Study                     \\n                        GYANT has been an incredible partner for collaboration. Their expertise in user experience and patient-centric mentality makes them the…                     \\n                        June 22, 2021                     \\n \\n \\n \\n \\n \\n                        OSF Healthcare Case Study                     \\n                        It’s helped to decrease call volume in our contact center. It’s helped to decrease call volume into some of our urgent care…                     \\n                        March 3, 2021                     \\n \\n \\n \\n \\n \\n        Find out what we can  \\r\\ndo for your organization.     \\n \\n \\n   \\n \\n \\n \\n \\n \\n \\n \\n \\n \\n \\n \\n \\n   \\n \\n \\n \\n \\n \\n \\n \\n \\n \\n \\n \\n \\n \\n \\n \\n \\n \\n \\n \\n \\n   \\n \\n \\n    / .js-scrollablesite  \\n    / .site__container  \\n    / .js-site  \\n \\n \\n \\n \\n \\n \\n  <script src=\"https://2npptav0hue39u9d92n13n9u-wpengine.netdna-ssl.com/wp-content/themes/gyant/assets/js/swiper-bundle.min.js\"></script>  \\n \\n \\n \\n '"
      ]
     },
     "execution_count": 3,
     "metadata": {},
     "output_type": "execute_result"
    }
   ],
   "source": [
    "ignore = ['[document]', 'a', 'article', 'label','div','script', 'style', 'title', 'img', 'svg', 'ul', 'g', 'footer', 'button', 'clippath', 'nav']\n",
    "ignore1 = ['[document]', 'a', 'article', 'label', 'script', 'style']\n",
    "\n",
    "output = ''\n",
    "for t in text:\n",
    "    if t.parent.name not in ignore1:\n",
    "        output += '{} '.format(t)\n",
    "output"
   ]
  },
  {
   "cell_type": "code",
   "execution_count": 4,
   "id": "2c375921",
   "metadata": {},
   "outputs": [
    {
     "name": "stdout",
     "output_type": "stream",
     "text": [
      "['\\n', '\\n', '', 'Global', 'site', 'tag', '(gtag.js)', '-', 'Google', 'Analytics', '', '\\n', '', 'BASE', '', '\\n', '\\n', '\\n', '', 'SITE', 'TITLE', '', '\\n', 'Homepage', '-', 'GYANT', '\\n', '\\n', '\\n', '\\n', '\\n', '\\n', '\\n', '\\n', '\\n', '', 'This', 'site', 'is', 'optimized', 'with', 'the', 'Yoast', 'SEO', 'Premium', 'plugin', 'v17.5', '(Yoast', 'SEO', 'v17.5)', '-', 'https://yoast.com/wordpress/plugins/seo/', '', '\\n', '\\n', '\\n', '\\n', '\\n', '\\n', '\\n', '\\n', '\\n', '\\n', '\\n', '\\n', '', '/', 'Yoast', 'SEO', 'Premium', 'plugin.', '', '\\n', '\\n', '\\n', '\\n', '\\n', '\\n', '\\n', '\\n', '\\n', '\\n', '\\n', '\\n', '\\n', '', 'DO', 'NOT', 'COPY', 'THIS', 'SNIPPET!', 'Start', 'of', 'Page', 'Analytics', 'Tracking', 'for', 'HubSpot', 'WordPress', 'plugin', 'v8.4.329', '\\n', '\\n', '', 'DO', 'NOT', 'COPY', 'THIS', 'SNIPPET!', 'End', 'of', 'Page', 'Analytics', 'Tracking', 'for', 'HubSpot', 'WordPress', 'plugin', '', '\\n', '\\n', '\\n', '\\n', '\\n', '\\n', '\\n', '\\n', '\\n', '\\n', '\\n', '\\n', '\\n', '\\n', '\\n', '\\n', '\\n', '\\n', '\\n', '\\n', '\\n', '\\n', '\\n', '\\n', '\\n', '\\n', '\\n', '\\n', '\\n', '\\n', '\\n', '\\n', '\\n', '\\n', '\\n', '\\n', '\\n', '\\n', '\\n', '\\n', '\\n', '\\n', '\\n', '\\n', '\\n', '\\n', '\\n', '\\n', '\\n', '\\n', '\\n', '\\n', '', '', '\\n', '\\n', '\\n', '\\n', '\\n', '\\n', '\\n', 'Get', 'In', 'Touch', '\\n', '\\n', '\\n', '\\n', '\\n', '\\n', '\\n', '\\n', '\\n', '\\n', '\\n', '\\n', '\\n', '\\n', '\\n', '', '', '', '', '', '', '', 'Find', 'out', 'what', 'we', 'can', '', '\\r\\ndo', 'for', 'your', 'organization.', '', '', '', '', '\\n', '\\n', '\\n', '', '', '\\n', '\\n', '\\n', '\\n', '\\n', '\\n', '\\n', '\\n', '\\n', '\\n', '\\n', '\\n', '', '<button', 'class=\"homepage__scroll-indicator', 'js-scroll-indicator\">', '', '\\n', '', '<svg', 'xmlns=\"http://www.w3.org/2000/svg\"', 'width=\"16\"', 'height=\"57.011\"><path', 'data-name=\"Path', '3\"', 'd=\"M15.734', '46.209a.734.734', '0', '00-1.05.15l-5.926', '7.652V.75a.75.75', '0', '10-1.5', '0v53.261l-5.926-7.652a.75.75', '0', '00-1.2.9l7.276', '9.452a.926.926', '0', '00.6.3.682.682', '0', '00.6-.3l7.2-9.452a.729.729', '0', '00-.074-1.05z\"', 'fill=\"#fff\"/></svg>', '', '', '', '', '', '', '', '', '', '', '', '</button>', '', '\\n', '\\n', '\\n', '\\n', '\\n', '\\n', '\\n', '\\n', '', '', '', '', '', '', '', '', '', '', '', '', '', '', '', '', '', '', '', 'makes', 'people', 'better.', '', '', '', '', '', '', '', '', '', '', '', '', '', '', '', '', '\\n', '\\n', '\\n', 'Better', 'access', 'to', 'care.', '\\nBetter', 'resource', 'utilization.', '\\nA', 'better', 'healthcare', 'experience.', '\\n', '\\n', '\\n', '\\n', '\\n', '\\n', '\\n', '\\n', '\\n', '\\n', '\\n', '\\n', '\\n', '\\n', '\\n', '\\n', '\\n', '\\n', '\\n', '\\n', '', '', '', '', '', '', '', 'We', 'start', 'by', '', '\\r\\nunderstanding', 'patients', '', '\\r\\nbetter', 'than', 'anyone.', '', '', '', '', '\\n', '\\n', '', '', '', '', '', '', '', 'Our', 'digital', 'assistant', 'creates', 'a', 'meaningful', '', '\\r\\ndialogue,', 'that', 'understands', 'them.', '', '\\r\\nConnecting', 'to', 'the', 'right', 'care,', 'right', 'away.', '', '', '', '', '\\n', '\\n', '\\n', '\\n', '', '<img', 'class=\"top_testimonial__heading__1\"', 'src=\"https://2npptav0hue39u9d92n13n9u-wpengine.netdna-ssl.com/wp-content/themes/gyant/assets/images/Top_1.png\"', 'alt=\"#1\">', '', '\\n', '100%', 'Would', 'Buy', 'Again', 'according', 'to', '\\n', '\\n', '\\n', '\\n', '', '', '', '', '', '', '', '', '', '', '', '\"There', 'has', 'been', 'a', 'personal', 'touch', 'that', 'I', 'have', 'been', 'really', 'impressed', 'with.', '\\r\\nI', 'feel', 'like', 'GYANT', 'has', 'been', 'part', 'of', 'our', 'team.\"', '', '', '', '', '', '', '', '', '\\n', '\\n', '', '', '', '', '', '', '', '', '', '', '', '–', 'KLAS', 'Emerging', 'Technology', 'Spotlight', '', '', '', '', '', '', '', '', '', '\\n', 'Read', 'the', 'Report', '\\n', '\\n', '\\n', '\\n', '\\n', '', '', '', '', '', '', '', '', '', '', '', 'Our', 'technology', 'is', 'a', 'powerful', '', '\\r\\nforce', 'behind', 'the', 'scenes.', '', '', '', '', '', '', '', '', '\\n', '\\n', '', '', '', '', '', '', '', '', '', '', '', 'We', 'improve', 'the', 'patient', 'experience', 'in', 'the', 'real', 'world', '', '\\r\\nby', 'making', 'people', 'empowered,', 'connected,', 'better.', '', '', '', '', '', '', '', '', '\\n', '\\n', '\\n', '\\n', '\\n', '\\n', '\\n', '', '', '', '', '', '', '', '', '', '', '', '', '', '', '', '', '', '', '', '', '', '', '', '', '', '', '', '', '', '', '', 'Expand', 'Patient', 'Access', '', '', '', '', '', '', '', '', '', '', '', '', '', '', '', '', '', '', '', '', '', '', '', '', '', '', '', '', '\\n', '\\n', '\\n', '\\n', '', '', '', '', '', '', '', '', '', '', '', '', '', '', '', '', '', '', '', '', '', '', '', '', '', '', '', '', '', '', '', 'Digitize', 'the', 'Patient', 'Journey', '', '', '', '', '', '', '', '', '', '', '', '', '', '', '', '', '', '', '', '', '', '', '', '', '', '', '', '', '\\n', '\\n', '\\n', '\\n', '', '', '', '', '', '', '', '', '', '', '', '', '', '', '', '', '', '', '', '', '', '', '', '', '', '', '', '', '', '', '', 'Streamline', 'Triage', '', '', '', '', '', '', '', '', '', '', '', '', '', '', '', '', '', '', '', '', '', '', '', '', '', '', '', '', '\\n', '\\n', '\\n', '\\n', '\\n', '\\n', '\\n', '\\n', '\\n', '\\n', '', '', '', '', '', '', '', '', '', '', '', 'It', 'creates', 'a', 'space', '', '\\r\\nwhere', 'providers', 'can', 'focus', '', '\\r\\non', 'providing', 'care.', '', '', '', '', '', '', '', '', '\\n', '\\n', '', '', '', '', '', '', '', '', '', '', '', 'Seamless', 'integration', 'of', 'technology', 'frees', 'up', 'resources,', '', '\\r\\nand', 'brings', 'patients', 'front', 'and', 'center.', '', '', '', '', '', '', '', '', '\\n', '\\n', '\\n', '\\n', '\\n', '\\n', '\\n', '', '', '', '', '', '', '', '', '', '', '', '', '', '', '', '', '', '', '', '', '', '', '', '', '', '', '', '', '', '', '', 'Increase', 'Productivity', '', '', '', '', '', '', '', '', '', '', '', '', '', '', '', '', '', '', '', '', '', '', '', '', '', '', '', '', '\\n', '\\n', '\\n', '\\n', '', '', '', '', '', '', '', '', '', '', '', '', '', '', '', '', '', '', '', '', '', '', '', '', '', '', '', '', '', '', '', 'Reduce', 'Costs', '', '', '', '', '', '', '', '', '', '', '', '', '', '', '', '', '', '', '', '', '', '', '', '', '', '', '', '', '\\n', '\\n', '\\n', '\\n', '', '', '', '', '', '', '', '', '', '', '', '', '', '', '', '', '', '', '', '', '', '', '', '', '', '', '', '', '', '', '', 'Navigate', 'COVID-19', '', '', '', '', '', '', '', '', '', '', '', '', '', '', '', '', '', '', '', '', '', '', '', '', '', '', '', '', '\\n', '\\n', '\\n', '\\n', '\\n', '\\n', '\\n', '\\n', '\\n', '\\n', '\\n', '', '', '', '', '', '', '', '', '', '', '', 'Trusted', 'by', '', '', '', '', '', '', '', '', '\\n', '\\n', '\\n', '\\n', '\\n', '', '', '\\n', '\\n', '\\n', '\\n', '\\n', '', '', '\\n', '\\n', '\\n', '\\n', '\\n', '', '', '\\n', '\\n', '\\n', '\\n', '\\n', '\\n', '\\n', '\\n', '\\n', '\\n', '\\n', '\\n', '\\n', '\\n', '\\n', '\\n', '\\n', '\\n', '\\n', '', '', '', '', '', '', '', '', '', '', '', '', '', '', '', '', '', '', '', '', '', '', '', '', '', '', '', '', '', '', '', 'Expedite', 'care', 'search', 'and', 'booking', '', '', '', '', '', '', '', '', '', '', '', '', '', '', '', '', '', '', '', '', '', '', '', '', '', '', '', '', '\\n', '\\n', '\\n', '', '', '', '', '', '', '', '', '', '', '', '', '', '', '', '', '', '', '', '', '', '', '', '', '', '', '', '', '', '', '', '', '', '', '', 'Enable', 'patients', 'to', 'efficiently', 'find', 'a', 'clinic', 'and', 'book', 'appointments.', '', '', '', '', '', '', '', '', '', '', '', '', '', '', '', '', '', '', '', '', '', '', '', '', '', '', '', '', '', '', '', '', '\\n', '\\n', '\\n', '\\n', '\\n', '\\n', '\\n', '\\n', '\\n', '\\n', '\\n', '\\n', '\\n', '\\n', '\\n', '\\n', '\\n', '\\n', '', '', '', '', '', '', '', '', '', '', '', '', '', '', '', '', '', '', '', '', '', '', '', '', '', '', '', '', '', '', '', 'Share', 'on-demand', 'information', '', '', '', '', '', '', '', '', '', '', '', '', '', '', '', '', '', '', '', '', '', '', '', '', '', '', '', '', '\\n', '\\n', '\\n', '', '', '', '', '', '', '', '', '', '', '', '', '', '', '', '', '', '', '', '', '', '', '', '', '', '', '', '', '', '', '', '', '', '', '', 'Provider', 'search', 'by', 'name,', 'specialty,', 'or', 'condition', '–', 'at', 'the', 'patient’s', 'fingertips.', '', '', '', '', '', '', '', '', '', '', '', '', '', '', '', '', '', '', '', '', '', '', '', '', '', '', '', '', '', '', '', '', '\\n', '\\n', '\\n', '\\n', '\\n', '\\n', '\\n', '\\n', '\\n', '\\n', '\\n', '\\n', '\\n', '\\n', '\\n', '\\n', '\\n', '\\n', '', '', '', '', '', '', '', '', '', '', '', '', '', '', '', '', '', '', '', '', '', '', '', '', '', '', '', '', '', '', '', 'Connect', 'patients', 'directly', 'to', 'virtual', 'care', '', '', '', '', '', '', '', '', '', '', '', '', '', '', '', '', '', '', '', '', '', '', '', '', '', '', '', '', '\\n', '\\n', '\\n', '', '', '', '', '', '', '', '', '', '', '', '', '', '', '', '', '', '', '', '', '', '', '', '', '', '', '', '', '', '', '', '', '', '', '', 'Navigate', 'patients', 'to', 'virtual', 'care', 'resources', 'with', 'a', 'seamless', 'handoff.', '', '', '', '', '', '', '', '', '', '', '', '', '', '', '', '', '', '', '', '', '', '', '', '', '', '', '', '', '', '', '', '', '\\n', '\\n', '\\n', '\\n', '\\n', '\\n', '\\n', '\\n', '\\n', '\\n', '\\n', '\\n', '\\n', '\\n', '\\n', '\\n', '\\n', '\\n', '', '', '', '', '', '', '', '', '', '', '', '', '', '', '', '', '', '', '', '', '', '', '', '', '', '', '', '', '', '', '', 'Triage', 'patients', 'to', 'the', 'best', 'level', 'of', 'care', '', '', '', '', '', '', '', '', '', '', '', '', '', '', '', '', '', '', '', '', '', '', '', '', '', '', '', '', '\\n', '\\n', '\\n', '', '', '', '', '', '', '', '', '', '', '', '', '', '', '', '', '', '', '', '', '', '', '', '', '', '', '', '', '', '', '', '', '', '', '', 'Evaluate', 'patient', 'symptoms', 'and', 'recommend', 'care', '–', 'reducing', 'call', 'center', 'traffic.', '', '', '', '', '', '', '', '', '', '', '', '', '', '', '', '', '', '', '', '', '', '', '', '', '', '', '', '', '', '', '', '', '\\n', '\\n', '\\n', '\\n', '\\n', '\\n', '\\n', '\\n', '\\n', '\\n', '\\n', '\\n', '\\n', '\\n', '\\n', '\\n', '\\n', '\\n', '', '', '', '', '', '', '', '', '', '', '', '', '', '', '', '', '', '', '', '', '', '', '', '', '', '', '', '', '', '', '', 'Improve', 'contact', 'center', 'productivity', '', '', '', '', '', '', '', '', '', '', '', '', '', '', '', '', '', '', '', '', '', '', '', '', '', '', '', '', '\\n', '\\n', '\\n', '', '', '', '', '', '', '', '', '', '', '', '', '', '', '', '', '', '', '', '', '', '', '', '', '', '', '', '', '', '', '', '', '', '', '', 'Automate', 'callback', 'requests,', 'handoff', 'to', 'live', 'chat,', 'and', 'flag', 'cases', 'for', 'follow-up.', '', '', '', '', '', '', '', '', '', '', '', '', '', '', '', '', '', '', '', '', '', '', '', '', '', '', '', '', '', '', '', '', '\\n', '\\n', '\\n', '\\n', '\\n', '\\n', '\\n', '\\n', '\\n', '\\n', '\\n', '\\n', '\\n', '\\n', '\\n', '\\n', '\\n', '\\n', '', '', '', '', '', '', '', '', '', '', '', '', '', '', '', '', '', '', '', '', '', '', '', '', '', '', '', '', '', '', '', 'Screen', 'for', 'COVID', 'vaccine', 'eligibility', '', '', '', '', '', '', '', '', '', '', '', '', '', '', '', '', '', '', '', '', '', '', '', '', '', '', '', '', '\\n', '\\n', '\\n', '', '', '', '', '', '', '', '', '', '', '', '', '', '', '', '', '', '', '', '', '', '', '', '', '', '', '', '', '', '', '', '', '', '', '', 'Reduce', 'contact', 'center', 'strain', 'by', 'automating', 'COVID', 'vaccine', 'eligibility', 'screening.', '', '', '', '', '', '', '', '', '', '', '', '', '', '', '', '', '', '', '', '', '', '', '', '', '', '', '', '', '', '', '', '', '\\n', '\\n', '\\n', '\\n', '\\n', '\\n', '\\n', '\\n', '\\n', '\\n', '\\n', '\\n', '\\n', '\\n', '\\n', '\\n', '\\n', '\\n', '\\n', '\\n', '\\n', '\\n', '\\n', '\\n', '\\n', '\\n', '\\n', '\\n', '\\n', '\\n', '', '', '', '', '', '', '', '', '', '', '', '', '', '', '', '', '', '', '', '', '', '', '', '“It’s', 'helped', 'to', 'decrease', 'call', 'volume', 'in', 'our', 'contact', 'center.', 'It’s', 'helped', 'decrease', 'foot', 'traffic', 'and', 'really', 'offer', 'the', 'community', 'a', 'complete', 'sense', 'of', 'security.”', '', '', '', '', '', '', '', '', '', '', '', '', '', '', '', '', '', '', '', '', '\\n', '\\n', '', '', '', '', '', '', '', '', '', '', '', '', '', '', '', '', '', '', '', '', '', '', '', '–', 'Abby', 'Lotz,', 'Vice', 'President', '\\r\\n&', 'Chief', 'Nursing', 'Officer', '', '', '', '', '', '', '', '', '', '', '', '', '', '', '', '', '', '', '', '', '\\n', '\\n', '\\n', '\\n', '\\n', '\\n', '', '', '', '', '', '', '', '', '', '', '', '', '', '', '', '', '', '', '', '', '', '', '', '“Using', 'GYANT', 'led', 'to', 'a', '30%', 'decrease', 'in', 'call', 'center', 'volume,', 'alleviating', 'hospital', 'capacity', 'constraints', 'and', 'improving', 'patient', 'experience.”', '', '', '', '', '', '', '', '', '', '', '', '', '', '', '', '', '', '', '', '', '\\n', '\\n', '', '', '', '', '', '', '', '', '', '', '', '', '', '', '', '', '', '', '', '', '', '', '', '–', 'Kevan', 'Mabbutt,', 'Chief', 'Consumer', 'Officer', '', '', '', '', '', '', '', '', '', '', '', '', '', '', '', '', '', '', '', '', '\\n', '\\n', '\\n', '\\n', '\\n', '\\n', '', '', '', '', '', '', '', '', '', '', '', '', '', '', '', '', '', '', '', '', '', '', '', '“Our', 'aim', 'is', 'to', 'advance', 'health', 'care', 'by', 'using', 'innovative', 'solutions', 'that', 'positively', 'impact', 'each', 'patient’s', 'health', 'and', 'experience', '–', 'and', 'the', 'GYANT', 'platform', 'allows', 'us', 'to', 'do', 'just', 'that.”', '', '', '', '', '', '', '', '', '', '', '', '', '', '', '', '', '', '', '', '', '\\n', '\\n', '', '', '', '', '', '', '', '', '', '', '', '', '', '', '', '', '', '', '', '', '', '', '', '–', 'Cheryl', 'Eck,', 'AVP,', 'Strategy', '&', 'Planning', '', '', '', '', '', '', '', '', '', '', '', '', '', '', '', '', '', '', '', '', '\\n', '\\n', '\\n', '\\n', '\\n', '\\n', '\\n', '\\n', '\\n', '\\n', '\\n', '\\n', '\\n', '\\n', '\\n', '\\n', 'Case', 'Studies', '\\n', '\\n', '\\n', '\\n', '\\n', '\\n', '\\n', '\\n', '', '', '', '', '', '', '', '', '', '', '', '', '', '', '', '', '', '', '', '', '', '', '', 'Geisinger', 'Case', 'Study', '', '', '', '', '', '', '', '', '', '', '', '', '', '', '', '', '', '', '', '', '\\n', '', '', '', '', '', '', '', '', '', '', '', '', '', '', '', '', '', '', '', '', '', '', '', 'Embedding', 'the', 'GYANT', 'chatbot', 'across', 'our', 'enterprise', 'website,', 'Geisinger.org,', 'enabled', 'seamless', 'routing', 'of', 'over', '27K', 'consumers', 'in', 'a', 'week', 'to', 'key…', '', '', '', '', '', '', '', '', '', '', '', '', '', '', '', '', '', '', '', '', '\\n', '', '', '', '', '', '', '', '', '', '', '', '', '', '', '', '', '', '', '', '', '', '', '', 'October', '8,', '2021', '', '', '', '', '', '', '', '', '', '', '', '', '', '', '', '', '', '', '', '', '\\n', '\\n', '\\n', '\\n', '\\n', '\\n', '', '', '', '', '', '', '', '', '', '', '', '', '', '', '', '', '', '', '', '', '', '', '', 'Intermountain', 'Healthcare', 'Case', 'Study', '', '', '', '', '', '', '', '', '', '', '', '', '', '', '', '', '', '', '', '', '\\n', '', '', '', '', '', '', '', '', '', '', '', '', '', '', '', '', '', '', '', '', '', '', '', 'GYANT', 'has', 'been', 'an', 'incredible', 'partner', 'for', 'collaboration.', 'Their', 'expertise', 'in', 'user', 'experience', 'and', 'patient-centric', 'mentality', 'makes', 'them', 'the…', '', '', '', '', '', '', '', '', '', '', '', '', '', '', '', '', '', '', '', '', '\\n', '', '', '', '', '', '', '', '', '', '', '', '', '', '', '', '', '', '', '', '', '', '', '', 'June', '22,', '2021', '', '', '', '', '', '', '', '', '', '', '', '', '', '', '', '', '', '', '', '', '\\n', '\\n', '\\n', '\\n', '\\n', '\\n', '', '', '', '', '', '', '', '', '', '', '', '', '', '', '', '', '', '', '', '', '', '', '', 'OSF', 'Healthcare', 'Case', 'Study', '', '', '', '', '', '', '', '', '', '', '', '', '', '', '', '', '', '', '', '', '\\n', '', '', '', '', '', '', '', '', '', '', '', '', '', '', '', '', '', '', '', '', '', '', '', 'It’s', 'helped', 'to', 'decrease', 'call', 'volume', 'in', 'our', 'contact', 'center.', 'It’s', 'helped', 'to', 'decrease', 'call', 'volume', 'into', 'some', 'of', 'our', 'urgent', 'care…', '', '', '', '', '', '', '', '', '', '', '', '', '', '', '', '', '', '', '', '', '\\n', '', '', '', '', '', '', '', '', '', '', '', '', '', '', '', '', '', '', '', '', '', '', '', 'March', '3,', '2021', '', '', '', '', '', '', '', '', '', '', '', '', '', '', '', '', '', '', '', '', '\\n', '\\n', '\\n', '\\n', '\\n', '\\n', '', '', '', '', '', '', '', 'Find', 'out', 'what', 'we', 'can', '', '\\r\\ndo', 'for', 'your', 'organization.', '', '', '', '', '\\n', '\\n', '\\n', '', '', '\\n', '\\n', '\\n', '\\n', '\\n', '\\n', '\\n', '\\n', '\\n', '\\n', '\\n', '\\n', '\\n', '', '', '\\n', '\\n', '\\n', '\\n', '\\n', '\\n', '\\n', '\\n', '\\n', '\\n', '\\n', '\\n', '\\n', '\\n', '\\n', '\\n', '\\n', '\\n', '\\n', '\\n', '\\n', '', '', '\\n', '\\n', '\\n', '', '', '', '/', '.js-scrollablesite', '', '\\n', '', '', '', '/', '.site__container', '', '\\n', '', '', '', '/', '.js-site', '', '\\n', '\\n', '\\n', '\\n', '\\n', '\\n', '\\n', '', '<script', 'src=\"https://2npptav0hue39u9d92n13n9u-wpengine.netdna-ssl.com/wp-content/themes/gyant/assets/js/swiper-bundle.min.js\"></script>', '', '\\n', '\\n', '\\n', '\\n', '']\n",
      "personalized is not there\n",
      "personalization is not there\n",
      "machine-learning is not there\n",
      "AI is not there\n",
      "Artificial Intelligence is not there\n",
      "24/7 is not there\n",
      "democratizing is not there\n"
     ]
    },
    {
     "data": {
      "text/plain": [
       "0.0"
      ]
     },
     "execution_count": 4,
     "metadata": {},
     "output_type": "execute_result"
    }
   ],
   "source": [
    "# analyze the webpage to detect keywords \n",
    "outputSub = output.split(' ')\n",
    "print(outputSub)\n",
    "\n",
    "count = 0\n",
    "liklihood = 0\n",
    "words = ['personalized', 'personalization', 'machine-learning', 'AI', 'Artificial Intelligence', '24/7', 'democratizing']\n",
    "for word in words: \n",
    "    if (word in outputSub or word.capitalize() in outputSub or word + '\\n' in outputSub):\n",
    "        print(word.capitalize())\n",
    "        count +=1 \n",
    "    else:\n",
    "        print(word + ' is not there')\n",
    "count\n",
    "liklihood = round((count / len(words)), 2)\n",
    "liklihood\n",
    "\n"
   ]
  },
  {
   "cell_type": "code",
   "execution_count": null,
   "id": "9bef43ae",
   "metadata": {},
   "outputs": [],
   "source": [
    "\n"
   ]
  },
  {
   "cell_type": "code",
   "execution_count": null,
   "id": "b92f4b8e",
   "metadata": {},
   "outputs": [],
   "source": []
  }
 ],
 "metadata": {
  "kernelspec": {
   "display_name": "Python 3 (ipykernel)",
   "language": "python",
   "name": "python3"
  },
  "language_info": {
   "codemirror_mode": {
    "name": "ipython",
    "version": 3
   },
   "file_extension": ".py",
   "mimetype": "text/x-python",
   "name": "python",
   "nbconvert_exporter": "python",
   "pygments_lexer": "ipython3",
   "version": "3.9.7"
  }
 },
 "nbformat": 4,
 "nbformat_minor": 5
}
