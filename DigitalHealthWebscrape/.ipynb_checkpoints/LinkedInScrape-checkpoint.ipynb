{
 "cells": [
  {
   "cell_type": "code",
   "execution_count": 1,
   "id": "27a5377c",
   "metadata": {},
   "outputs": [],
   "source": [
    "#import all libraries\n",
    "import pandas as pd\n",
    "from selenium import webdriver\n",
    "from webdriver_manager.chrome import ChromeDriverManager\n",
    "from selenium.webdriver.support.ui import WebDriverWait, Select\n",
    "from selenium.webdriver.support import expected_conditions as EC\n",
    "from selenium.webdriver.common.by import By \n",
    "from selenium.webdriver.chrome.service import Service\n",
    "from selenium.webdriver.common.keys import Keys\n",
    "from bs4 import BeautifulSoup as bs\n",
    "import time, sys, requests, random\n",
    "\n",
    "# import libs, authorize gspread  \n",
    "import gspread\n",
    "from oauth2client.service_account import ServiceAccountCredentials\n",
    "scope = ['https://spreadsheets.google.com/feeds',\n",
    "         'https://www.googleapis.com/auth/drive']\n",
    "google_key_file = '/Users/zacharywong/Documents/ServiceAccountKey-Secret/pelagic-tracker-338302-eaf0e0e671cb.json'\n",
    "credentials = ServiceAccountCredentials.from_json_keyfile_name(google_key_file, scope)\n",
    "gc = gspread.authorize(credentials)"
   ]
  },
  {
   "cell_type": "code",
   "execution_count": 2,
   "id": "8027d88d",
   "metadata": {},
   "outputs": [],
   "source": [
    "#Global\n",
    "query = ''\n",
    "numberofPages = 0\n",
    "cellLocationQuery = 'C2'\n",
    "cellLocationPages = 'B2'\n",
    "sheetIndexRead = 0\n",
    "sheetIndexWrite = 1\n",
    "spreadsheet_id = '1vFXonFCyUlEKa1f0s5tvHCKeTek_sAv7rUPYfYss0Qo'\n",
    "loginurl = 'https://www.linkedin.com/uas/login'\n",
    "waitLinkedInTime = 10\n",
    "driver_path = '/Users/zacharywong/Documents/Work/Portfolio/DigitalHealthWebscrape/chromedriver'\n",
    "pathtoLinkedInFile = '/Users/zacharywong/github/zacharywong2023/DigitalHealthWebscrape/Companies/DigitalHealthWebscrape - Companies.csv'"
   ]
  },
  {
   "cell_type": "code",
   "execution_count": 3,
   "id": "b11a7f43",
   "metadata": {},
   "outputs": [],
   "source": [
    "def readinValue(cellLocation, sheetIndexRead):\n",
    "    sh = gc.open_by_key(spreadsheet_id)\n",
    "    worksheet = sh.get_worksheet(sheetIndexRead)\n",
    "    try:\n",
    "        value = worksheet.acell(cellLocation).value\n",
    "    except:\n",
    "        wait()\n",
    "    return value"
   ]
  },
  {
   "cell_type": "code",
   "execution_count": 4,
   "id": "33c903d7",
   "metadata": {},
   "outputs": [],
   "source": [
    "def readinQuery():\n",
    "    global query\n",
    "    query = readinValue(cellLocationQuery, sheetIndexRead)\n",
    "    print('query: ' + query)"
   ]
  },
  {
   "cell_type": "code",
   "execution_count": 5,
   "id": "353ef0db",
   "metadata": {},
   "outputs": [],
   "source": [
    "def readinPages():\n",
    "    global numberofPages\n",
    "    numberofPages = int(readinValue(cellLocationPages, sheetIndexRead))\n",
    "    print('numberofPages: ', numberofPages)"
   ]
  },
  {
   "cell_type": "code",
   "execution_count": 6,
   "id": "8fef384c",
   "metadata": {},
   "outputs": [],
   "source": [
    "def login(driver):\n",
    "    driver.get(loginurl)\n",
    "    email = driver.find_element(By.ID, 'username')\n",
    "    email.send_keys('zach.jl.wong@gmail.com')\n",
    "    time.sleep(0.8)\n",
    "    password = driver.find_element(By.ID, 'password')\n",
    "    password.send_keys('PandaPanda23')\n",
    "    time.sleep(0.8)\n",
    "    password.send_keys(Keys.RETURN)\n",
    "    "
   ]
  },
  {
   "cell_type": "code",
   "execution_count": 7,
   "id": "aa060417",
   "metadata": {},
   "outputs": [],
   "source": [
    "def searchLinkedIn(driver):\n",
    "    #search query\n",
    "    searchBar = driver.find_element(By.XPATH, '//*[@id=\"global-nav-typeahead\"]/input')\n",
    "    searchBar.send_keys(query)\n",
    "    searchBar.send_keys(Keys.RETURN)\n",
    "    time.sleep(1)"
   ]
  },
  {
   "cell_type": "code",
   "execution_count": 8,
   "id": "1b3cbce7",
   "metadata": {},
   "outputs": [],
   "source": [
    "def companyFilter(driver):\n",
    "    WebDriverWait(driver, waitLinkedInTime).until(EC.presence_of_element_located((By.XPATH, '//*[@id=\"search-reusables__filters-bar\"]/ul/li[2]/button')))\n",
    "    companyButtons = driver.find_element(By.XPATH, '//*[@id=\"search-reusables__filters-bar\"]/ul/li[2]/button')\n",
    "    companyButtons.click()"
   ]
  },
  {
   "cell_type": "code",
   "execution_count": 9,
   "id": "09b23745",
   "metadata": {},
   "outputs": [],
   "source": [
    "def nextPage(currentPage, driver):\n",
    "    driver.execute_script(\"window.scrollTo(0,document.body.scrollHeight)\")\n",
    "    time.sleep(1)\n",
    "    #WebDriverWait(driver, waitLinkedInTime).until(EC.presence_of_element_located((By.XPATH, '//*[@id=\"ember329\"]/button')))\n",
    "    pages = driver.find_elements_by_css_selector(\"button[type='button']\")\n",
    "    for page in pages:\n",
    "        #time.sleep(1)\n",
    "        buttonNumber = page.text\n",
    "        #print(buttonNumber)\n",
    "        if buttonNumber == str(currentPage):\n",
    "            print('hello')\n",
    "            page.click()\n",
    "            break"
   ]
  },
  {
   "cell_type": "code",
   "execution_count": 10,
   "id": "6d9f7dbe",
   "metadata": {},
   "outputs": [],
   "source": [
    "def addCompanies(driver):\n",
    "    companies = []\n",
    "    currentPage = 1\n",
    "    while (currentPage <= numberofPages):\n",
    "        time.sleep(2)\n",
    "        soup = bs(driver.page_source, 'html.parser')\n",
    "        companySearch = soup.find_all('a', class_ = 'app-aware-link')\n",
    "        for company in companySearch:\n",
    "            companyName = company.text\n",
    "            if '\\n\\n\\n' not in companyName and companyName not in companies:\n",
    "                companies.append(companyName.replace('\\n', ''))\n",
    "        currentPage += 1\n",
    "        nextPage(currentPage, driver)\n",
    "    return companies"
   ]
  },
  {
   "cell_type": "code",
   "execution_count": 11,
   "id": "5bdfc6c7",
   "metadata": {},
   "outputs": [],
   "source": [
    "def exportCSV(companies):\n",
    "    df = pd.DataFrame(companies, columns = ['Company Names (Leave Blank if Using LinkedIn Query - See Previous Tab)'])\n",
    "    df.to_csv(pathtoLinkedInFile)\n",
    "    return df"
   ]
  },
  {
   "cell_type": "code",
   "execution_count": 12,
   "id": "7906ce3c",
   "metadata": {},
   "outputs": [],
   "source": [
    "def updateSpreadSheet(df, sheetIndexWrite):\n",
    "    sh = gc.open_by_key(spreadsheet_id)\n",
    "    worksheet = sh.get_worksheet(sheetIndexWrite)\n",
    "    worksheet.clear()\n",
    "    worksheet.update([df.columns.values.tolist()] + df.values.tolist())"
   ]
  },
  {
   "cell_type": "code",
   "execution_count": 13,
   "id": "b61a401f",
   "metadata": {},
   "outputs": [],
   "source": [
    "def runLinkedIn():\n",
    "    service = Service(driver_path)\n",
    "    driver = webdriver.Chrome(service = service)\n",
    "    readinQuery()\n",
    "    readinPages()\n",
    "    login(driver)\n",
    "    searchLinkedIn(driver)\n",
    "    companyFilter(driver)\n",
    "    companies = addCompanies(driver)\n",
    "    df = exportCSV(companies)\n",
    "    updateSpreadSheet(df, sheetIndexWrite)\n",
    "    return df"
   ]
  },
  {
   "cell_type": "code",
   "execution_count": 14,
   "id": "1071d8c1",
   "metadata": {},
   "outputs": [
    {
     "name": "stdout",
     "output_type": "stream",
     "text": [
      "query: Digital Health\n",
      "numberofPages:  4\n"
     ]
    },
    {
     "ename": "NoSuchElementException",
     "evalue": "Message: no such element: Unable to locate element: {\"method\":\"xpath\",\"selector\":\"//*[@id=\"global-nav-typeahead\"]/input\"}\n  (Session info: chrome=98.0.4758.109)\nStacktrace:\n0   chromedriver                        0x00000001006c5ee9 chromedriver + 5013225\n1   chromedriver                        0x00000001006511d3 chromedriver + 4534739\n2   chromedriver                        0x0000000100227a68 chromedriver + 170600\n3   chromedriver                        0x000000010025c152 chromedriver + 385362\n4   chromedriver                        0x000000010025c311 chromedriver + 385809\n5   chromedriver                        0x000000010028e324 chromedriver + 590628\n6   chromedriver                        0x000000010027980d chromedriver + 505869\n7   chromedriver                        0x000000010028c074 chromedriver + 581748\n8   chromedriver                        0x00000001002796d3 chromedriver + 505555\n9   chromedriver                        0x000000010024f76e chromedriver + 333678\n10  chromedriver                        0x0000000100250745 chromedriver + 337733\n11  chromedriver                        0x0000000100681efe chromedriver + 4734718\n12  chromedriver                        0x000000010069ba19 chromedriver + 4839961\n13  chromedriver                        0x00000001006a11c8 chromedriver + 4862408\n14  chromedriver                        0x000000010069c3aa chromedriver + 4842410\n15  chromedriver                        0x0000000100676a01 chromedriver + 4688385\n16  chromedriver                        0x00000001006b7538 chromedriver + 4953400\n17  chromedriver                        0x00000001006b76c1 chromedriver + 4953793\n18  chromedriver                        0x00000001006cd225 chromedriver + 5042725\n19  libsystem_pthread.dylib             0x00007ff818335514 _pthread_start + 125\n20  libsystem_pthread.dylib             0x00007ff81833102f thread_start + 15\n",
     "output_type": "error",
     "traceback": [
      "\u001b[0;31m---------------------------------------------------------------------------\u001b[0m",
      "\u001b[0;31mNoSuchElementException\u001b[0m                    Traceback (most recent call last)",
      "\u001b[0;32m/var/folders/gl/jgk7f2w528qgjggck6glqp200000gn/T/ipykernel_16276/808555942.py\u001b[0m in \u001b[0;36m<module>\u001b[0;34m\u001b[0m\n\u001b[0;32m----> 1\u001b[0;31m \u001b[0mdf\u001b[0m \u001b[0;34m=\u001b[0m \u001b[0mrunLinkedIn\u001b[0m\u001b[0;34m(\u001b[0m\u001b[0;34m)\u001b[0m\u001b[0;34m\u001b[0m\u001b[0;34m\u001b[0m\u001b[0m\n\u001b[0m\u001b[1;32m      2\u001b[0m \u001b[0mdf\u001b[0m\u001b[0;34m\u001b[0m\u001b[0;34m\u001b[0m\u001b[0m\n",
      "\u001b[0;32m/var/folders/gl/jgk7f2w528qgjggck6glqp200000gn/T/ipykernel_16276/983012610.py\u001b[0m in \u001b[0;36mrunLinkedIn\u001b[0;34m()\u001b[0m\n\u001b[1;32m      5\u001b[0m     \u001b[0mreadinPages\u001b[0m\u001b[0;34m(\u001b[0m\u001b[0;34m)\u001b[0m\u001b[0;34m\u001b[0m\u001b[0;34m\u001b[0m\u001b[0m\n\u001b[1;32m      6\u001b[0m     \u001b[0mlogin\u001b[0m\u001b[0;34m(\u001b[0m\u001b[0mdriver\u001b[0m\u001b[0;34m)\u001b[0m\u001b[0;34m\u001b[0m\u001b[0;34m\u001b[0m\u001b[0m\n\u001b[0;32m----> 7\u001b[0;31m     \u001b[0msearchLinkedIn\u001b[0m\u001b[0;34m(\u001b[0m\u001b[0mdriver\u001b[0m\u001b[0;34m)\u001b[0m\u001b[0;34m\u001b[0m\u001b[0;34m\u001b[0m\u001b[0m\n\u001b[0m\u001b[1;32m      8\u001b[0m     \u001b[0mcompanyFilter\u001b[0m\u001b[0;34m(\u001b[0m\u001b[0mdriver\u001b[0m\u001b[0;34m)\u001b[0m\u001b[0;34m\u001b[0m\u001b[0;34m\u001b[0m\u001b[0m\n\u001b[1;32m      9\u001b[0m     \u001b[0mcompanies\u001b[0m \u001b[0;34m=\u001b[0m \u001b[0maddCompanies\u001b[0m\u001b[0;34m(\u001b[0m\u001b[0mdriver\u001b[0m\u001b[0;34m)\u001b[0m\u001b[0;34m\u001b[0m\u001b[0;34m\u001b[0m\u001b[0m\n",
      "\u001b[0;32m/var/folders/gl/jgk7f2w528qgjggck6glqp200000gn/T/ipykernel_16276/70927604.py\u001b[0m in \u001b[0;36msearchLinkedIn\u001b[0;34m(driver)\u001b[0m\n\u001b[1;32m      1\u001b[0m \u001b[0;32mdef\u001b[0m \u001b[0msearchLinkedIn\u001b[0m\u001b[0;34m(\u001b[0m\u001b[0mdriver\u001b[0m\u001b[0;34m)\u001b[0m\u001b[0;34m:\u001b[0m\u001b[0;34m\u001b[0m\u001b[0;34m\u001b[0m\u001b[0m\n\u001b[1;32m      2\u001b[0m     \u001b[0;31m#search query\u001b[0m\u001b[0;34m\u001b[0m\u001b[0;34m\u001b[0m\u001b[0m\n\u001b[0;32m----> 3\u001b[0;31m     \u001b[0msearchBar\u001b[0m \u001b[0;34m=\u001b[0m \u001b[0mdriver\u001b[0m\u001b[0;34m.\u001b[0m\u001b[0mfind_element\u001b[0m\u001b[0;34m(\u001b[0m\u001b[0mBy\u001b[0m\u001b[0;34m.\u001b[0m\u001b[0mXPATH\u001b[0m\u001b[0;34m,\u001b[0m \u001b[0;34m'//*[@id=\"global-nav-typeahead\"]/input'\u001b[0m\u001b[0;34m)\u001b[0m\u001b[0;34m\u001b[0m\u001b[0;34m\u001b[0m\u001b[0m\n\u001b[0m\u001b[1;32m      4\u001b[0m     \u001b[0msearchBar\u001b[0m\u001b[0;34m.\u001b[0m\u001b[0msend_keys\u001b[0m\u001b[0;34m(\u001b[0m\u001b[0mquery\u001b[0m\u001b[0;34m)\u001b[0m\u001b[0;34m\u001b[0m\u001b[0;34m\u001b[0m\u001b[0m\n\u001b[1;32m      5\u001b[0m     \u001b[0msearchBar\u001b[0m\u001b[0;34m.\u001b[0m\u001b[0msend_keys\u001b[0m\u001b[0;34m(\u001b[0m\u001b[0mKeys\u001b[0m\u001b[0;34m.\u001b[0m\u001b[0mRETURN\u001b[0m\u001b[0;34m)\u001b[0m\u001b[0;34m\u001b[0m\u001b[0;34m\u001b[0m\u001b[0m\n",
      "\u001b[0;32m~/opt/anaconda3/lib/python3.9/site-packages/selenium/webdriver/remote/webdriver.py\u001b[0m in \u001b[0;36mfind_element\u001b[0;34m(self, by, value)\u001b[0m\n\u001b[1;32m   1242\u001b[0m             \u001b[0mvalue\u001b[0m \u001b[0;34m=\u001b[0m \u001b[0;34m'[name=\"%s\"]'\u001b[0m \u001b[0;34m%\u001b[0m \u001b[0mvalue\u001b[0m\u001b[0;34m\u001b[0m\u001b[0;34m\u001b[0m\u001b[0m\n\u001b[1;32m   1243\u001b[0m \u001b[0;34m\u001b[0m\u001b[0m\n\u001b[0;32m-> 1244\u001b[0;31m         return self.execute(Command.FIND_ELEMENT, {\n\u001b[0m\u001b[1;32m   1245\u001b[0m             \u001b[0;34m'using'\u001b[0m\u001b[0;34m:\u001b[0m \u001b[0mby\u001b[0m\u001b[0;34m,\u001b[0m\u001b[0;34m\u001b[0m\u001b[0;34m\u001b[0m\u001b[0m\n\u001b[1;32m   1246\u001b[0m             'value': value})['value']\n",
      "\u001b[0;32m~/opt/anaconda3/lib/python3.9/site-packages/selenium/webdriver/remote/webdriver.py\u001b[0m in \u001b[0;36mexecute\u001b[0;34m(self, driver_command, params)\u001b[0m\n\u001b[1;32m    422\u001b[0m         \u001b[0mresponse\u001b[0m \u001b[0;34m=\u001b[0m \u001b[0mself\u001b[0m\u001b[0;34m.\u001b[0m\u001b[0mcommand_executor\u001b[0m\u001b[0;34m.\u001b[0m\u001b[0mexecute\u001b[0m\u001b[0;34m(\u001b[0m\u001b[0mdriver_command\u001b[0m\u001b[0;34m,\u001b[0m \u001b[0mparams\u001b[0m\u001b[0;34m)\u001b[0m\u001b[0;34m\u001b[0m\u001b[0;34m\u001b[0m\u001b[0m\n\u001b[1;32m    423\u001b[0m         \u001b[0;32mif\u001b[0m \u001b[0mresponse\u001b[0m\u001b[0;34m:\u001b[0m\u001b[0;34m\u001b[0m\u001b[0;34m\u001b[0m\u001b[0m\n\u001b[0;32m--> 424\u001b[0;31m             \u001b[0mself\u001b[0m\u001b[0;34m.\u001b[0m\u001b[0merror_handler\u001b[0m\u001b[0;34m.\u001b[0m\u001b[0mcheck_response\u001b[0m\u001b[0;34m(\u001b[0m\u001b[0mresponse\u001b[0m\u001b[0;34m)\u001b[0m\u001b[0;34m\u001b[0m\u001b[0;34m\u001b[0m\u001b[0m\n\u001b[0m\u001b[1;32m    425\u001b[0m             response['value'] = self._unwrap_value(\n\u001b[1;32m    426\u001b[0m                 response.get('value', None))\n",
      "\u001b[0;32m~/opt/anaconda3/lib/python3.9/site-packages/selenium/webdriver/remote/errorhandler.py\u001b[0m in \u001b[0;36mcheck_response\u001b[0;34m(self, response)\u001b[0m\n\u001b[1;32m    245\u001b[0m                 \u001b[0malert_text\u001b[0m \u001b[0;34m=\u001b[0m \u001b[0mvalue\u001b[0m\u001b[0;34m[\u001b[0m\u001b[0;34m'alert'\u001b[0m\u001b[0;34m]\u001b[0m\u001b[0;34m.\u001b[0m\u001b[0mget\u001b[0m\u001b[0;34m(\u001b[0m\u001b[0;34m'text'\u001b[0m\u001b[0;34m)\u001b[0m\u001b[0;34m\u001b[0m\u001b[0;34m\u001b[0m\u001b[0m\n\u001b[1;32m    246\u001b[0m             \u001b[0;32mraise\u001b[0m \u001b[0mexception_class\u001b[0m\u001b[0;34m(\u001b[0m\u001b[0mmessage\u001b[0m\u001b[0;34m,\u001b[0m \u001b[0mscreen\u001b[0m\u001b[0;34m,\u001b[0m \u001b[0mstacktrace\u001b[0m\u001b[0;34m,\u001b[0m \u001b[0malert_text\u001b[0m\u001b[0;34m)\u001b[0m  \u001b[0;31m# type: ignore[call-arg]  # mypy is not smart enough here\u001b[0m\u001b[0;34m\u001b[0m\u001b[0;34m\u001b[0m\u001b[0m\n\u001b[0;32m--> 247\u001b[0;31m         \u001b[0;32mraise\u001b[0m \u001b[0mexception_class\u001b[0m\u001b[0;34m(\u001b[0m\u001b[0mmessage\u001b[0m\u001b[0;34m,\u001b[0m \u001b[0mscreen\u001b[0m\u001b[0;34m,\u001b[0m \u001b[0mstacktrace\u001b[0m\u001b[0;34m)\u001b[0m\u001b[0;34m\u001b[0m\u001b[0;34m\u001b[0m\u001b[0m\n\u001b[0m\u001b[1;32m    248\u001b[0m \u001b[0;34m\u001b[0m\u001b[0m\n\u001b[1;32m    249\u001b[0m     \u001b[0;32mdef\u001b[0m \u001b[0m_value_or_default\u001b[0m\u001b[0;34m(\u001b[0m\u001b[0mself\u001b[0m\u001b[0;34m,\u001b[0m \u001b[0mobj\u001b[0m\u001b[0;34m:\u001b[0m \u001b[0mMapping\u001b[0m\u001b[0;34m[\u001b[0m\u001b[0m_KT\u001b[0m\u001b[0;34m,\u001b[0m \u001b[0m_VT\u001b[0m\u001b[0;34m]\u001b[0m\u001b[0;34m,\u001b[0m \u001b[0mkey\u001b[0m\u001b[0;34m:\u001b[0m \u001b[0m_KT\u001b[0m\u001b[0;34m,\u001b[0m \u001b[0mdefault\u001b[0m\u001b[0;34m:\u001b[0m \u001b[0m_VT\u001b[0m\u001b[0;34m)\u001b[0m \u001b[0;34m->\u001b[0m \u001b[0m_VT\u001b[0m\u001b[0;34m:\u001b[0m\u001b[0;34m\u001b[0m\u001b[0;34m\u001b[0m\u001b[0m\n",
      "\u001b[0;31mNoSuchElementException\u001b[0m: Message: no such element: Unable to locate element: {\"method\":\"xpath\",\"selector\":\"//*[@id=\"global-nav-typeahead\"]/input\"}\n  (Session info: chrome=98.0.4758.109)\nStacktrace:\n0   chromedriver                        0x00000001006c5ee9 chromedriver + 5013225\n1   chromedriver                        0x00000001006511d3 chromedriver + 4534739\n2   chromedriver                        0x0000000100227a68 chromedriver + 170600\n3   chromedriver                        0x000000010025c152 chromedriver + 385362\n4   chromedriver                        0x000000010025c311 chromedriver + 385809\n5   chromedriver                        0x000000010028e324 chromedriver + 590628\n6   chromedriver                        0x000000010027980d chromedriver + 505869\n7   chromedriver                        0x000000010028c074 chromedriver + 581748\n8   chromedriver                        0x00000001002796d3 chromedriver + 505555\n9   chromedriver                        0x000000010024f76e chromedriver + 333678\n10  chromedriver                        0x0000000100250745 chromedriver + 337733\n11  chromedriver                        0x0000000100681efe chromedriver + 4734718\n12  chromedriver                        0x000000010069ba19 chromedriver + 4839961\n13  chromedriver                        0x00000001006a11c8 chromedriver + 4862408\n14  chromedriver                        0x000000010069c3aa chromedriver + 4842410\n15  chromedriver                        0x0000000100676a01 chromedriver + 4688385\n16  chromedriver                        0x00000001006b7538 chromedriver + 4953400\n17  chromedriver                        0x00000001006b76c1 chromedriver + 4953793\n18  chromedriver                        0x00000001006cd225 chromedriver + 5042725\n19  libsystem_pthread.dylib             0x00007ff818335514 _pthread_start + 125\n20  libsystem_pthread.dylib             0x00007ff81833102f thread_start + 15\n"
     ]
    }
   ],
   "source": [
    "df = runLinkedIn()\n",
    "df"
   ]
  },
  {
   "cell_type": "code",
   "execution_count": null,
   "id": "0c0bdb93",
   "metadata": {},
   "outputs": [],
   "source": []
  },
  {
   "cell_type": "code",
   "execution_count": null,
   "id": "d687f83e",
   "metadata": {},
   "outputs": [],
   "source": []
  }
 ],
 "metadata": {
  "kernelspec": {
   "display_name": "Python 3 (ipykernel)",
   "language": "python",
   "name": "python3"
  },
  "language_info": {
   "codemirror_mode": {
    "name": "ipython",
    "version": 3
   },
   "file_extension": ".py",
   "mimetype": "text/x-python",
   "name": "python",
   "nbconvert_exporter": "python",
   "pygments_lexer": "ipython3",
   "version": "3.9.7"
  }
 },
 "nbformat": 4,
 "nbformat_minor": 5
}
