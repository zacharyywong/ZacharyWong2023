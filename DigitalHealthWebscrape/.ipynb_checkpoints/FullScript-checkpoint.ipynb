{
 "cells": [
  {
   "cell_type": "code",
   "execution_count": 1,
   "id": "c75f97eb",
   "metadata": {},
   "outputs": [],
   "source": [
    "# This script extracts the title, link, and short description of search results on Google \n",
    "\n",
    "#import all libraries\n",
    "import pandas as pd\n",
    "from selenium import webdriver\n",
    "from webdriver_manager.chrome import ChromeDriverManager\n",
    "from selenium.webdriver.support.ui import WebDriverWait, Select\n",
    "from selenium.webdriver.support import expected_conditions as EC\n",
    "from selenium.webdriver.common.by import By\n",
    "from bs4 import BeautifulSoup as bs\n",
    "import requests\n",
    "import time\n",
    "\n",
    "# import libs, authorize gspread  \n",
    "import gspread\n",
    "from oauth2client.service_account import ServiceAccountCredentials\n",
    "scope = ['https://spreadsheets.google.com/feeds',\n",
    "         'https://www.googleapis.com/auth/drive']\n",
    "google_key_file = '/Users/zacharywong/Documents/ServiceAccountKey-Secret/pelagic-tracker-338302-eaf0e0e671cb.json'\n",
    "credentials = ServiceAccountCredentials.from_json_keyfile_name(google_key_file, scope)\n",
    "gc = gspread.authorize(credentials)\n"
   ]
  },
  {
   "cell_type": "code",
   "execution_count": 2,
   "id": "d63fc812",
   "metadata": {},
   "outputs": [],
   "source": [
    "# Global variables\n",
    "liklihoodDenom = 0\n",
    "spreadsheet_id = '1vFXonFCyUlEKa1f0s5tvHCKeTek_sAv7rUPYfYss0Qo'"
   ]
  },
  {
   "cell_type": "code",
   "execution_count": 3,
   "id": "d2780835",
   "metadata": {},
   "outputs": [],
   "source": [
    "# Helper function: reads in values from DigitalHealthWebscrape google sheet\n",
    "# Need spreadsheet ID and the cell address where the value should be read in \n",
    "# returns the value \n",
    "\n",
    "def readinValue(cellLocation):\n",
    "    sh = gc.open_by_key(spreadsheet_id)\n",
    "    worksheet = sh.get_worksheet(0)\n",
    "    value = worksheet.acell(cellLocation).value\n",
    "    return value"
   ]
  },
  {
   "cell_type": "code",
   "execution_count": 4,
   "id": "d84ee9f9",
   "metadata": {},
   "outputs": [],
   "source": [
    "def readWebsites():\n",
    "    links = []\n",
    "    names = []\n",
    "    row = 1;\n",
    "    isDone = False\n",
    "    while (isDone == False):\n",
    "        cellLocationURL = 'B' + str(row)\n",
    "        cellLocationName = 'D' + str(row)\n",
    "        print(\"cellLocationURL: \" + cellLocationURL, \"cellLocationName: \" + cellLocationName)\n",
    "        siteURL = readinValue(cellLocationURL)\n",
    "        links.append(siteURL)\n",
    "        websiteName = readinValue(cellLocationName)\n",
    "        names.append(websiteName)\n",
    "        #print(siteURL, websiteName)\n",
    "        if(siteURL == None and websiteName == None):\n",
    "            isDone = True\n",
    "            break\n",
    "        else:\n",
    "            row += 1 \n",
    "    return links, names\n",
    "    "
   ]
  },
  {
   "cell_type": "code",
   "execution_count": 5,
   "id": "8f6bf564",
   "metadata": {},
   "outputs": [],
   "source": [
    "def readKeyWords():\n",
    "    keywords = []\n",
    "    row = 1;\n",
    "    isDone = False\n",
    "    while (isDone == False):\n",
    "        cellLocationKeyWords = 'H' + str(row)\n",
    "        keyword = readinValue(cellLocationKeyWords)\n",
    "        keywords.append(keyword)\n",
    "        if(keyword == None):\n",
    "            isDone = True\n",
    "            break\n",
    "        else:\n",
    "            row += 1 \n",
    "    keywords = keywords[0:len(keywords)-1]\n",
    "    global liklihoodDenom \n",
    "    liklihoodDenom= len(keywords) - 2\n",
    "    return keywords"
   ]
  },
  {
   "cell_type": "code",
   "execution_count": 6,
   "id": "19843095",
   "metadata": {},
   "outputs": [],
   "source": [
    "def readCalculateLiklihood():\n",
    "    #print(links, names)\n",
    "    cellLocationLiklihood = 'F1'\n",
    "    calculateLiklihoodInput = readinValue(cellLocationLiklihood)\n",
    "    if (calculateLiklihoodInput == 'Yes'):\n",
    "        calculateLiklihood = True\n",
    "    else:\n",
    "        calculateLiklihood = False\n",
    "    return calculateLiklihood"
   ]
  },
  {
   "cell_type": "code",
   "execution_count": 7,
   "id": "34a706f2",
   "metadata": {},
   "outputs": [],
   "source": [
    "def readInput():\n",
    "    links, names = readWebsites()\n",
    "    calculateLiklihood = readCalculateLiklihood()\n",
    "    keywords = readKeyWords()\n",
    "    return links, names, calculateLiklihood, keywords"
   ]
  },
  {
   "cell_type": "code",
   "execution_count": 8,
   "id": "5294e90e",
   "metadata": {},
   "outputs": [],
   "source": [
    "# helper function to extract links from 1 page of results\n",
    "def extractLinks(soup):\n",
    "    links = []\n",
    "    linksTag = 'div'\n",
    "    linksClass = 'yuRUbf'\n",
    "    linksAttr = 'href'\n",
    "    searchLinks = soup.find_all(linksTag, class_ = linksClass)\n",
    "    for h in searchLinks:\n",
    "        link = h.a.get(linksAttr)\n",
    "        links.append(link)\n",
    "    return links "
   ]
  },
  {
   "cell_type": "code",
   "execution_count": 9,
   "id": "a6d4dd2b",
   "metadata": {},
   "outputs": [],
   "source": [
    "def extractTitles(soup):\n",
    "    titles = [] \n",
    "    titlesClass = 'LC20lb MBeuO DKV0Md'\n",
    "    titlesTag = 'h3'\n",
    "    searchTitles = soup.find_all(titlesTag, class_= titlesClass)\n",
    "    for h in searchTitles:\n",
    "        titles.append(h.text)\n",
    "    return titles"
   ]
  },
  {
   "cell_type": "code",
   "execution_count": 10,
   "id": "8aa3778b",
   "metadata": {},
   "outputs": [],
   "source": [
    "# helper function to extract texts from 1 page of results\n",
    "def extractTexts(soup):\n",
    "    texts = []\n",
    "    textsClass = 'VwiC3b yXK7lf MUxGbd yDYNvb lyLwlc lEBKkf'\n",
    "    textsTag = 'div'\n",
    "    searchText = soup.find_all(textsTag, class_= textsClass)\n",
    "    for h in searchText:\n",
    "        fullText = h.text\n",
    "        try:\n",
    "            splitText = fullText.split('— ', 1)\n",
    "            text = splitText[1]\n",
    "            texts.append(text);\n",
    "        except:\n",
    "            texts.append(fullText)\n",
    "    return texts;"
   ]
  },
  {
   "cell_type": "code",
   "execution_count": 11,
   "id": "670c7b34",
   "metadata": {},
   "outputs": [],
   "source": [
    "def calculateLiklihoods(links, keywords):\n",
    "    #keywords = ['personalized', 'personalization', 'machine-learning', 'AI', 'Artificial Intelligence', '24/7', 'democratizing']\n",
    "    liklihoods = []\n",
    "    detectedWordsAll = []\n",
    "    for url in links: \n",
    "        detectedWords = []\n",
    "        output = ''\n",
    "        count = 0\n",
    "        liklihood = 0\n",
    "        ignore = ['[document]', 'label','div','script', 'style', 'img', 'svg', 'ul', 'g', 'footer', 'button', 'clippath', 'nav']\n",
    "\n",
    "\n",
    "        res = requests.get(url, headers={'User-Agent': 'Mozilla/5.0'})\n",
    "        html_page = res.content\n",
    "        soup = bs(html_page, 'html.parser')\n",
    "        print(\"Encoded method :\" + url + \": \", soup.original_encoding)\n",
    "        text = soup.find_all(text=True)\n",
    "       \n",
    "        for t in text:\n",
    "            if t.parent.name not in ignore:\n",
    "                output += '{} '.format(t)\n",
    "\n",
    "        # analyze the webpage to detect keywords \n",
    "        outputSub = output.split(' ')\n",
    "        #print(outputSub)\n",
    "        for word in keywords: \n",
    "            if (word in outputSub or word.capitalize() in outputSub):\n",
    "                #print('\"' + word +'\"' + ' detected')\n",
    "                detectedWords.append(word)\n",
    "                count +=1 \n",
    "            #else:\n",
    "                #print(word + ' is not there')\n",
    "        liklihood = round((count / liklihoodDenom), 2)\n",
    "        liklihoods.append(liklihood)\n",
    "        detectedWordsAll.append(detectedWords)\n",
    "        #detectedWordsAll = ', '.join(str(keyword) for keyword in detectedWordsAll)\n",
    "\n",
    "    return liklihoods, detectedWordsAll"
   ]
  },
  {
   "cell_type": "code",
   "execution_count": 12,
   "id": "e7add298",
   "metadata": {},
   "outputs": [],
   "source": [
    "# set the keyword you want to search for depending on whether link or name is given\n",
    "# we find the search bar using its name attribute value (q)\n",
    "\n",
    "def searchGoogle(index, linksInput, namesInput, googleurl, useURL, waitTime, driver):\n",
    "    print(\"index: \" + str(index))\n",
    "    print(\"length of links list: \" + str((len(linksInput)-1)))\n",
    "    siteURL = linksInput[index]\n",
    "    websiteName = namesInput[index]\n",
    "    driver.get(googleurl)\n",
    "    searchBar = driver.find_element(By.NAME, 'q')\n",
    "    \n",
    "    # Booleans\n",
    "    if (siteURL != None):\n",
    "        useURL = True; \n",
    "        useName = False; \n",
    "    else:\n",
    "        useURL = False; \n",
    "        useName = True; \n",
    "\n",
    "    # first we send our keyword to the search bar followed by the enter # key depending on using URL or website name \n",
    "\n",
    "    if (useURL):\n",
    "        query = \"site: \" + siteURL\n",
    "        try:\n",
    "            searchBar.send_keys(query)\n",
    "            searchBar.send_keys('\\n')\n",
    "        except Exception as e : \n",
    "            WebDriverWait(driver, waitTime).until(EC.presence_of_element_located((By.NAME, 'q')))\n",
    "            searchBar.send_keys(query)\n",
    "            searchBar.send_keys('\\n')\n",
    "    else:\n",
    "        query = websiteName\n",
    "        searchBar.send_keys(query)\n",
    "        searchBar.send_keys('\\n')"
   ]
  },
  {
   "cell_type": "code",
   "execution_count": 13,
   "id": "1f55f784",
   "metadata": {},
   "outputs": [],
   "source": [
    "#capture links, header, and text\n",
    "#pageInfo is a list of dictionaries for each page with keys/value pairs: header, link, text\n",
    "# extract and load each page of results to pageInfo \n",
    "def parseHTML(driver, calculateLiklihood, keywords, maxResult, pageInfo):\n",
    "    soup = bs(driver.page_source, 'html.parser')\n",
    "    links = extractLinks(soup);\n",
    "    texts = extractTexts(soup);\n",
    "    titles = extractTitles(soup);\n",
    "    if (calculateLiklihood):\n",
    "        liklihoods, detectedWordsAll = calculateLiklihoods(links[0:1], keywords)\n",
    "        #print('detectedWordsAllStringForm: ' + str(detectedWordsAll))\n",
    "        #detectedWordsAll = ', '.join([str(keyword) for keyword in detectedWordsAll])\n",
    "        #print(\"detectedWordsAll String Form: \" + detectedWordsAll)\n",
    "        pageInfo = addToPageInfo(titles, links, texts, maxResult, pageInfo, liklihoods, detectedWordsAll)\n",
    "    else:\n",
    "        pageInfo = addToPageInfo(titles, links, texts, maxResult, pageInfo, liklihoods = None, detectedWordsAll = None)\n",
    "\n",
    "    return pageInfo"
   ]
  },
  {
   "cell_type": "code",
   "execution_count": 14,
   "id": "768eb19a",
   "metadata": {},
   "outputs": [],
   "source": [
    "# helper function to add 1 page of results to pageInfo list\n",
    "def addToPageInfo(titles, links, texts, maxResult, pageInfo, liklihoods, detectedWordsAll):\n",
    "    index = 0;\n",
    "    while (index < maxResult):\n",
    "        # create new dictionary of each search results' title, link, and text\n",
    "        if (liklihoods == None):\n",
    "            pageInfo.append({\"Title\": titles[index], \"Link\": links[index], \"About\": texts[index]})\n",
    "        else:\n",
    "            \n",
    "            detectedWords = str(detectedWordsAll[index])\n",
    "            print(\"detectedWordsString: \" + detectedWords)\n",
    "            pageInfo.append({\"Probability\": liklihoods[index], \"Title\": titles[index], \"Link\": links[index], \"About\": texts[index],  \"Detected Words\": detectedWords})\n",
    "        index += 1\n",
    "    return pageInfo\n"
   ]
  },
  {
   "cell_type": "code",
   "execution_count": 15,
   "id": "aded4534",
   "metadata": {},
   "outputs": [],
   "source": [
    "def exportCSV(df, pathtoFile):\n",
    "    # convert pageInfo to pandas dataframe and export as csv \n",
    "    df.to_csv(pathtoFile + 'WebScrapeDeliverable.csv')"
   ]
  },
  {
   "cell_type": "code",
   "execution_count": 16,
   "id": "d240d106",
   "metadata": {},
   "outputs": [],
   "source": [
    "def updateSpreadSheet(df):\n",
    "    sh = gc.open_by_key(spreadsheet_id)\n",
    "    worksheet = sh.get_worksheet(1)\n",
    "    worksheet.clear()\n",
    "    worksheet.update([df.columns.values.tolist()] + df.values.tolist())\n",
    "    "
   ]
  },
  {
   "cell_type": "code",
   "execution_count": 17,
   "id": "28853f74",
   "metadata": {},
   "outputs": [],
   "source": [
    "def exportDeliverables(pageInfo, pathtoFile):\n",
    "    df = pd.DataFrame(pageInfo)\n",
    "    #print(df.columns.values.tolist())\n",
    "    #print(df.values.tolist())\n",
    "    print(pageInfo)\n",
    "    exportCSV(df, pathtoFile)\n",
    "    updateSpreadSheet(df)"
   ]
  },
  {
   "cell_type": "code",
   "execution_count": 18,
   "id": "40c073c3",
   "metadata": {
    "scrolled": false
   },
   "outputs": [],
   "source": [
    "def run():\n",
    "    linksInput, namesInput, calculateLiklihood, keywords = readInput()\n",
    "    maxResult = 1\n",
    "    googleurl = 'https://www.google.com/'\n",
    "    useURL = False\n",
    "    useName = False\n",
    "    index = 0\n",
    "    waitTime = 5\n",
    "\n",
    "    # Access chromedriver and determine path \n",
    "    driver = webdriver.Chrome(ChromeDriverManager().install())\n",
    "    pathtoFile = '/Users/zacharywong/github/zacharywong2023/DigitalHealthWebscrape/Deliverables/'\n",
    "\n",
    "    # list of dictionaries with key/value pairs: title, link, text\n",
    "    # Contains all information for all search results \n",
    "    pageInfo = []\n",
    "\n",
    "    while (index < len(linksInput)-1):\n",
    "        searchGoogle(index, linksInput, namesInput, googleurl, useURL, waitTime, driver)\n",
    "        for page in range(0, 1):\n",
    "            pageInfo = parseHTML(driver, calculateLiklihood, keywords, maxResult, pageInfo)\n",
    "        #print(pageInfo)\n",
    "        index += 1\n",
    "\n",
    "    exportDeliverables(pageInfo, pathtoFile)"
   ]
  },
  {
   "cell_type": "code",
   "execution_count": 19,
   "id": "f29f5bf4",
   "metadata": {},
   "outputs": [
    {
     "name": "stdout",
     "output_type": "stream",
     "text": [
      "cellLocationURL: B1 cellLocationName: D1\n",
      "cellLocationURL: B2 cellLocationName: D2\n",
      "cellLocationURL: B3 cellLocationName: D3\n",
      "cellLocationURL: B4 cellLocationName: D4\n",
      "cellLocationURL: B5 cellLocationName: D5\n",
      "cellLocationURL: B6 cellLocationName: D6\n",
      "cellLocationURL: B7 cellLocationName: D7\n"
     ]
    },
    {
     "name": "stderr",
     "output_type": "stream",
     "text": [
      "\n",
      "\n",
      "====== WebDriver manager ======\n",
      "Current google-chrome version is 98.0.4758\n",
      "Get LATEST chromedriver version for 98.0.4758 google-chrome\n",
      "Driver [/Users/zacharywong/.wdm/drivers/chromedriver/mac64/98.0.4758.102/chromedriver] found in cache\n",
      "/var/folders/gl/jgk7f2w528qgjggck6glqp200000gn/T/ipykernel_3764/3008285612.py:11: DeprecationWarning: executable_path has been deprecated, please pass in a Service object\n",
      "  driver = webdriver.Chrome(ChromeDriverManager().install())\n"
     ]
    },
    {
     "name": "stdout",
     "output_type": "stream",
     "text": [
      "index: 0\n",
      "length of links list: 6\n",
      "Encoded method :https://kaiahealth.com/:  utf-8\n",
      "detectedWordsString: ['AI', 'personalized', 'democratize']\n",
      "index: 1\n",
      "length of links list: 6\n",
      "Encoded method :https://www.babylonhealth.com/en-us/about:  utf-8\n",
      "detectedWordsString: ['AI', '24/7']\n",
      "index: 2\n",
      "length of links list: 6\n",
      "Encoded method :https://www.concertai.com/predictivepatient/:  utf-8\n",
      "detectedWordsString: ['AI']\n",
      "index: 3\n",
      "length of links list: 6\n",
      "Encoded method :https://springhealth.com/:  utf-8\n",
      "detectedWordsString: ['personalized', 'personalization', 'machine-learning']\n",
      "index: 4\n",
      "length of links list: 6\n",
      "Encoded method :https://swordhealth.com/:  utf-8\n",
      "detectedWordsString: []\n",
      "index: 5\n",
      "length of links list: 6\n",
      "Encoded method :https://ada.com/:  utf-8\n",
      "detectedWordsString: ['AI']\n",
      "[{'Probability': 0.6, 'Title': 'Kaia Health | Democratizing Healthcare', 'Link': 'https://kaiahealth.com/', 'About': 'Kaia Health is the largest MSK platform worldwide · 4M lives covered worldwide · +33k. Kaia users worldwide · ~7. US employers offer Kaia today\\xa0...', 'Detected Words': \"['AI', 'personalized', 'democratize']\"}, {'Probability': 0.4, 'Title': 'About Us | Babylon Health', 'Link': 'https://www.babylonhealth.com/en-us/about', 'About': \"We're creating a better model of healthcare ... Shifting the focus of healthcare\\xa0...\", 'Detected Words': \"['AI', '24/7']\"}, {'Probability': 0.2, 'Title': 'Predictive Patient | ConcertAI', 'Link': 'https://www.concertai.com/predictivepatient/', 'About': 'Predictive Patient transforms millions of health and behavioral records, and applies advanced AI models to improve the patient experience from therapy\\xa0...', 'Detected Words': \"['AI']\"}, {'Probability': 0.6, 'Title': \"Spring Health: Mental Healthcare That's Right For You\", 'Link': 'https://springhealth.com/', 'About': 'We put our members first by providing fast, simplified access to a variety of mental health solutions - all from one spot. Spring Health integrates with your\\xa0...', 'Detected Words': \"['personalized', 'personalization', 'machine-learning']\"}, {'Probability': 0.0, 'Title': 'SWORD Health | A better way to treat MSK pain', 'Link': 'https://swordhealth.com/', 'About': 'SWORD brings clinical-grade musculoskeletal care home. We pair licensed PTs with medical-grade tech to make care more convenient, accessible and affordable.', 'Detected Words': '[]'}, {'Probability': 0.2, 'Title': 'Health. Powered by Ada.', 'Link': 'https://ada.com/', 'About': \"Hi. We're Ada. Our app helps people manage their health, and our enterprise solutions help our partners improve health and care.\", 'Detected Words': \"['AI']\"}]\n"
     ]
    },
    {
     "ename": "APIError",
     "evalue": "{'code': 429, 'message': \"Quota exceeded for quota metric 'Read requests' and limit 'Read requests per minute per user' of service 'sheets.googleapis.com' for consumer 'project_number:961069299092'.\", 'status': 'RESOURCE_EXHAUSTED', 'details': [{'@type': 'type.googleapis.com/google.rpc.ErrorInfo', 'reason': 'RATE_LIMIT_EXCEEDED', 'domain': 'googleapis.com', 'metadata': {'consumer': 'projects/961069299092', 'quota_limit': 'ReadRequestsPerMinutePerUser', 'quota_metric': 'sheets.googleapis.com/read_requests', 'service': 'sheets.googleapis.com'}}]}",
     "output_type": "error",
     "traceback": [
      "\u001b[0;31m---------------------------------------------------------------------------\u001b[0m",
      "\u001b[0;31mAPIError\u001b[0m                                  Traceback (most recent call last)",
      "\u001b[0;32m/var/folders/gl/jgk7f2w528qgjggck6glqp200000gn/T/ipykernel_3764/2150232620.py\u001b[0m in \u001b[0;36m<module>\u001b[0;34m\u001b[0m\n\u001b[1;32m      1\u001b[0m \u001b[0;31m#Run the script\u001b[0m\u001b[0;34m\u001b[0m\u001b[0;34m\u001b[0m\u001b[0m\n\u001b[0;32m----> 2\u001b[0;31m \u001b[0mrun\u001b[0m\u001b[0;34m(\u001b[0m\u001b[0;34m)\u001b[0m\u001b[0;34m\u001b[0m\u001b[0;34m\u001b[0m\u001b[0m\n\u001b[0m",
      "\u001b[0;32m/var/folders/gl/jgk7f2w528qgjggck6glqp200000gn/T/ipykernel_3764/3008285612.py\u001b[0m in \u001b[0;36mrun\u001b[0;34m()\u001b[0m\n\u001b[1;32m     23\u001b[0m         \u001b[0mindex\u001b[0m \u001b[0;34m+=\u001b[0m \u001b[0;36m1\u001b[0m\u001b[0;34m\u001b[0m\u001b[0;34m\u001b[0m\u001b[0m\n\u001b[1;32m     24\u001b[0m \u001b[0;34m\u001b[0m\u001b[0m\n\u001b[0;32m---> 25\u001b[0;31m     \u001b[0mexportDeliverables\u001b[0m\u001b[0;34m(\u001b[0m\u001b[0mpageInfo\u001b[0m\u001b[0;34m,\u001b[0m \u001b[0mpathtoFile\u001b[0m\u001b[0;34m)\u001b[0m\u001b[0;34m\u001b[0m\u001b[0;34m\u001b[0m\u001b[0m\n\u001b[0m",
      "\u001b[0;32m/var/folders/gl/jgk7f2w528qgjggck6glqp200000gn/T/ipykernel_3764/2365166855.py\u001b[0m in \u001b[0;36mexportDeliverables\u001b[0;34m(pageInfo, pathtoFile)\u001b[0m\n\u001b[1;32m      5\u001b[0m     \u001b[0mprint\u001b[0m\u001b[0;34m(\u001b[0m\u001b[0mpageInfo\u001b[0m\u001b[0;34m)\u001b[0m\u001b[0;34m\u001b[0m\u001b[0;34m\u001b[0m\u001b[0m\n\u001b[1;32m      6\u001b[0m     \u001b[0mexportCSV\u001b[0m\u001b[0;34m(\u001b[0m\u001b[0mdf\u001b[0m\u001b[0;34m,\u001b[0m \u001b[0mpathtoFile\u001b[0m\u001b[0;34m)\u001b[0m\u001b[0;34m\u001b[0m\u001b[0;34m\u001b[0m\u001b[0m\n\u001b[0;32m----> 7\u001b[0;31m     \u001b[0mupdateSpreadSheet\u001b[0m\u001b[0;34m(\u001b[0m\u001b[0mdf\u001b[0m\u001b[0;34m)\u001b[0m\u001b[0;34m\u001b[0m\u001b[0;34m\u001b[0m\u001b[0m\n\u001b[0m",
      "\u001b[0;32m/var/folders/gl/jgk7f2w528qgjggck6glqp200000gn/T/ipykernel_3764/2717672544.py\u001b[0m in \u001b[0;36mupdateSpreadSheet\u001b[0;34m(df)\u001b[0m\n\u001b[1;32m      1\u001b[0m \u001b[0;32mdef\u001b[0m \u001b[0mupdateSpreadSheet\u001b[0m\u001b[0;34m(\u001b[0m\u001b[0mdf\u001b[0m\u001b[0;34m)\u001b[0m\u001b[0;34m:\u001b[0m\u001b[0;34m\u001b[0m\u001b[0;34m\u001b[0m\u001b[0m\n\u001b[1;32m      2\u001b[0m     \u001b[0msh\u001b[0m \u001b[0;34m=\u001b[0m \u001b[0mgc\u001b[0m\u001b[0;34m.\u001b[0m\u001b[0mopen_by_key\u001b[0m\u001b[0;34m(\u001b[0m\u001b[0mspreadsheet_id\u001b[0m\u001b[0;34m)\u001b[0m\u001b[0;34m\u001b[0m\u001b[0;34m\u001b[0m\u001b[0m\n\u001b[0;32m----> 3\u001b[0;31m     \u001b[0mworksheet\u001b[0m \u001b[0;34m=\u001b[0m \u001b[0msh\u001b[0m\u001b[0;34m.\u001b[0m\u001b[0mget_worksheet\u001b[0m\u001b[0;34m(\u001b[0m\u001b[0;36m1\u001b[0m\u001b[0;34m)\u001b[0m\u001b[0;34m\u001b[0m\u001b[0;34m\u001b[0m\u001b[0m\n\u001b[0m\u001b[1;32m      4\u001b[0m     \u001b[0mworksheet\u001b[0m\u001b[0;34m.\u001b[0m\u001b[0mclear\u001b[0m\u001b[0;34m(\u001b[0m\u001b[0;34m)\u001b[0m\u001b[0;34m\u001b[0m\u001b[0;34m\u001b[0m\u001b[0m\n\u001b[1;32m      5\u001b[0m     \u001b[0mworksheet\u001b[0m\u001b[0;34m.\u001b[0m\u001b[0mupdate\u001b[0m\u001b[0;34m(\u001b[0m\u001b[0;34m[\u001b[0m\u001b[0mdf\u001b[0m\u001b[0;34m.\u001b[0m\u001b[0mcolumns\u001b[0m\u001b[0;34m.\u001b[0m\u001b[0mvalues\u001b[0m\u001b[0;34m.\u001b[0m\u001b[0mtolist\u001b[0m\u001b[0;34m(\u001b[0m\u001b[0;34m)\u001b[0m\u001b[0;34m]\u001b[0m \u001b[0;34m+\u001b[0m \u001b[0mdf\u001b[0m\u001b[0;34m.\u001b[0m\u001b[0mvalues\u001b[0m\u001b[0;34m.\u001b[0m\u001b[0mtolist\u001b[0m\u001b[0;34m(\u001b[0m\u001b[0;34m)\u001b[0m\u001b[0;34m)\u001b[0m\u001b[0;34m\u001b[0m\u001b[0;34m\u001b[0m\u001b[0m\n",
      "\u001b[0;32m~/opt/anaconda3/lib/python3.9/site-packages/gspread/spreadsheet.py\u001b[0m in \u001b[0;36mget_worksheet\u001b[0;34m(self, index)\u001b[0m\n\u001b[1;32m    261\u001b[0m         \u001b[0;34m>>\u001b[0m\u001b[0;34m>\u001b[0m \u001b[0mworksheet\u001b[0m \u001b[0;34m=\u001b[0m \u001b[0msht\u001b[0m\u001b[0;34m.\u001b[0m\u001b[0mget_worksheet\u001b[0m\u001b[0;34m(\u001b[0m\u001b[0;36m2\u001b[0m\u001b[0;34m)\u001b[0m\u001b[0;34m\u001b[0m\u001b[0;34m\u001b[0m\u001b[0m\n\u001b[1;32m    262\u001b[0m         \"\"\"\n\u001b[0;32m--> 263\u001b[0;31m         \u001b[0msheet_data\u001b[0m \u001b[0;34m=\u001b[0m \u001b[0mself\u001b[0m\u001b[0;34m.\u001b[0m\u001b[0mfetch_sheet_metadata\u001b[0m\u001b[0;34m(\u001b[0m\u001b[0;34m)\u001b[0m\u001b[0;34m\u001b[0m\u001b[0;34m\u001b[0m\u001b[0m\n\u001b[0m\u001b[1;32m    264\u001b[0m \u001b[0;34m\u001b[0m\u001b[0m\n\u001b[1;32m    265\u001b[0m         \u001b[0;32mtry\u001b[0m\u001b[0;34m:\u001b[0m\u001b[0;34m\u001b[0m\u001b[0;34m\u001b[0m\u001b[0m\n",
      "\u001b[0;32m~/opt/anaconda3/lib/python3.9/site-packages/gspread/spreadsheet.py\u001b[0m in \u001b[0;36mfetch_sheet_metadata\u001b[0;34m(self, params)\u001b[0m\n\u001b[1;32m    241\u001b[0m         \u001b[0murl\u001b[0m \u001b[0;34m=\u001b[0m \u001b[0mSPREADSHEET_URL\u001b[0m \u001b[0;34m%\u001b[0m \u001b[0mself\u001b[0m\u001b[0;34m.\u001b[0m\u001b[0mid\u001b[0m\u001b[0;34m\u001b[0m\u001b[0;34m\u001b[0m\u001b[0m\n\u001b[1;32m    242\u001b[0m \u001b[0;34m\u001b[0m\u001b[0m\n\u001b[0;32m--> 243\u001b[0;31m         \u001b[0mr\u001b[0m \u001b[0;34m=\u001b[0m \u001b[0mself\u001b[0m\u001b[0;34m.\u001b[0m\u001b[0mclient\u001b[0m\u001b[0;34m.\u001b[0m\u001b[0mrequest\u001b[0m\u001b[0;34m(\u001b[0m\u001b[0;34m\"get\"\u001b[0m\u001b[0;34m,\u001b[0m \u001b[0murl\u001b[0m\u001b[0;34m,\u001b[0m \u001b[0mparams\u001b[0m\u001b[0;34m=\u001b[0m\u001b[0mparams\u001b[0m\u001b[0;34m)\u001b[0m\u001b[0;34m\u001b[0m\u001b[0;34m\u001b[0m\u001b[0m\n\u001b[0m\u001b[1;32m    244\u001b[0m \u001b[0;34m\u001b[0m\u001b[0m\n\u001b[1;32m    245\u001b[0m         \u001b[0;32mreturn\u001b[0m \u001b[0mr\u001b[0m\u001b[0;34m.\u001b[0m\u001b[0mjson\u001b[0m\u001b[0;34m(\u001b[0m\u001b[0;34m)\u001b[0m\u001b[0;34m\u001b[0m\u001b[0;34m\u001b[0m\u001b[0m\n",
      "\u001b[0;32m~/opt/anaconda3/lib/python3.9/site-packages/gspread/client.py\u001b[0m in \u001b[0;36mrequest\u001b[0;34m(self, method, endpoint, params, data, json, files, headers)\u001b[0m\n\u001b[1;32m     69\u001b[0m             \u001b[0;32mreturn\u001b[0m \u001b[0mresponse\u001b[0m\u001b[0;34m\u001b[0m\u001b[0;34m\u001b[0m\u001b[0m\n\u001b[1;32m     70\u001b[0m         \u001b[0;32melse\u001b[0m\u001b[0;34m:\u001b[0m\u001b[0;34m\u001b[0m\u001b[0;34m\u001b[0m\u001b[0m\n\u001b[0;32m---> 71\u001b[0;31m             \u001b[0;32mraise\u001b[0m \u001b[0mAPIError\u001b[0m\u001b[0;34m(\u001b[0m\u001b[0mresponse\u001b[0m\u001b[0;34m)\u001b[0m\u001b[0;34m\u001b[0m\u001b[0;34m\u001b[0m\u001b[0m\n\u001b[0m\u001b[1;32m     72\u001b[0m \u001b[0;34m\u001b[0m\u001b[0m\n\u001b[1;32m     73\u001b[0m     \u001b[0;32mdef\u001b[0m \u001b[0mlist_spreadsheet_files\u001b[0m\u001b[0;34m(\u001b[0m\u001b[0mself\u001b[0m\u001b[0;34m,\u001b[0m \u001b[0mtitle\u001b[0m\u001b[0;34m=\u001b[0m\u001b[0;32mNone\u001b[0m\u001b[0;34m,\u001b[0m \u001b[0mfolder_id\u001b[0m\u001b[0;34m=\u001b[0m\u001b[0;32mNone\u001b[0m\u001b[0;34m)\u001b[0m\u001b[0;34m:\u001b[0m\u001b[0;34m\u001b[0m\u001b[0;34m\u001b[0m\u001b[0m\n",
      "\u001b[0;31mAPIError\u001b[0m: {'code': 429, 'message': \"Quota exceeded for quota metric 'Read requests' and limit 'Read requests per minute per user' of service 'sheets.googleapis.com' for consumer 'project_number:961069299092'.\", 'status': 'RESOURCE_EXHAUSTED', 'details': [{'@type': 'type.googleapis.com/google.rpc.ErrorInfo', 'reason': 'RATE_LIMIT_EXCEEDED', 'domain': 'googleapis.com', 'metadata': {'consumer': 'projects/961069299092', 'quota_limit': 'ReadRequestsPerMinutePerUser', 'quota_metric': 'sheets.googleapis.com/read_requests', 'service': 'sheets.googleapis.com'}}]}"
     ]
    }
   ],
   "source": [
    "#Run the script \n",
    "run()"
   ]
  },
  {
   "cell_type": "code",
   "execution_count": null,
   "id": "7bc4553b",
   "metadata": {},
   "outputs": [],
   "source": []
  },
  {
   "cell_type": "code",
   "execution_count": null,
   "id": "65104f6a",
   "metadata": {},
   "outputs": [],
   "source": []
  }
 ],
 "metadata": {
  "kernelspec": {
   "display_name": "Python 3 (ipykernel)",
   "language": "python",
   "name": "python3"
  },
  "language_info": {
   "codemirror_mode": {
    "name": "ipython",
    "version": 3
   },
   "file_extension": ".py",
   "mimetype": "text/x-python",
   "name": "python",
   "nbconvert_exporter": "python",
   "pygments_lexer": "ipython3",
   "version": "3.9.7"
  }
 },
 "nbformat": 4,
 "nbformat_minor": 5
}
