{
 "cells": [
  {
   "cell_type": "code",
   "execution_count": 27,
   "id": "fcff8c6f",
   "metadata": {},
   "outputs": [
    {
     "name": "stdout",
     "output_type": "stream",
     "text": [
      "\"personalized\" detected\n",
      "\"AI\" detected\n",
      "\"democratizing\" detected\n"
     ]
    },
    {
     "data": {
      "text/plain": [
       "0.43"
      ]
     },
     "execution_count": 27,
     "metadata": {},
     "output_type": "execute_result"
    }
   ],
   "source": [
    "# This script extracts all the important text from the langing page of a webpage for analysis\n",
    "\n",
    "import requests\n",
    "from bs4 import BeautifulSoup as bs\n",
    "#urls = ['https://kaiahealth.com/', 'https://www.babylonhealth.com/en-us', 'https://www.concertai.com/predictivepatient/']\n",
    "#for url in urls:\n",
    "\n",
    "url = 'https://kaiahealth.com/'\n",
    "res = requests.get(url, headers={'User-Agent': 'Mozilla/5.0'})\n",
    "html_page = res.content\n",
    "soup = bs(html_page, 'html.parser')\n",
    "text = soup.find_all(text=True)\n",
    "\n",
    "ignore = ['[document]', 'a', 'article', 'label','div','script', 'style', 'title', 'img', 'svg', 'ul', 'g', 'footer', 'button', 'clippath', 'nav']\n",
    "ignore1 = ['[document]', 'label','div','script', 'style', 'title', 'img', 'svg', 'ul', 'g', 'footer', 'button', 'clippath', 'nav']\n",
    "\n",
    "output = ''\n",
    "for t in text:\n",
    "    if t.parent.name not in ignore1:\n",
    "        output += '{} '.format(t)\n",
    "\n",
    "# analyze the webpage to detect keywords \n",
    "outputSub = output.split(' ')\n",
    "#print(outputSub)\n",
    "\n",
    "count = 0\n",
    "liklihood = 0\n",
    "words = ['personalized', 'personalization', 'machine-learning', 'AI', 'Artificial Intelligence', '24/7', 'democratizing']\n",
    "for word in words: \n",
    "    if (word in outputSub or word.capitalize() in outputSub):\n",
    "        print('\"' + word +'\"' + ' detected')\n",
    "        count +=1 \n",
    "    #else:\n",
    "        #print(word + ' is not there')\n",
    "liklihood = round((count / len(words)), 2)\n",
    "liklihood"
   ]
  },
  {
   "cell_type": "code",
   "execution_count": 3,
   "id": "0e23f9c6",
   "metadata": {},
   "outputs": [
    {
     "data": {
      "text/plain": [
       "{'[document]',\n",
       " 'a',\n",
       " 'article',\n",
       " 'blockquote',\n",
       " 'body',\n",
       " 'div',\n",
       " 'em',\n",
       " 'figure',\n",
       " 'footer',\n",
       " 'h1',\n",
       " 'h2',\n",
       " 'h3',\n",
       " 'head',\n",
       " 'header',\n",
       " 'html',\n",
       " 'li',\n",
       " 'main',\n",
       " 'meta',\n",
       " 'nav',\n",
       " 'p',\n",
       " 'script',\n",
       " 'section',\n",
       " 'span',\n",
       " 'strong',\n",
       " 'title',\n",
       " 'ul'}"
      ]
     },
     "execution_count": 3,
     "metadata": {},
     "output_type": "execute_result"
    }
   ],
   "source": [
    "#set([t.parent.name for t in text])\n",
    "\n"
   ]
  },
  {
   "cell_type": "code",
   "execution_count": 4,
   "id": "a5a64494",
   "metadata": {},
   "outputs": [
    {
     "data": {
      "text/plain": [
       "\"\\n \\n \\n \\n \\n \\n \\n \\n \\n \\n \\n \\n \\n \\n \\n \\n \\n \\n \\n \\n \\n \\n  DO NOT COPY THIS SNIPPET! Start of Page Analytics Tracking for HubSpot WordPress plugin v8.4.465 \\n \\n  DO NOT COPY THIS SNIPPET! End of Page Analytics Tracking for HubSpot WordPress plugin  \\n \\n  Google Tag Manager  \\n \\n  End Google Tag Manager  \\n \\n \\n \\n \\n \\n \\n \\n Employers Individuals Providers Health Plans Technology More   Book a demo \\n \\n \\n Solutions \\n MSK \\n Employers Individuals Providers Health Plans \\n COPD \\n Providers \\n \\n About Kaia Health \\n Our Mission Careers Meet the team Newsroom Blog Contact Help Center \\n AI Platforms \\n Technology \\n Social Media \\n LinkedIn Twitter Facebook Instagram \\n Legal \\n Privacy Policy Terms & Conditions \\n \\n Democratizing \\nHealthcare Market leader in MSK motion analysis. \\n Kaia Health Continues Build-out of Leadership Team with Appointment of Beth R. Jacobson, J.D., as General Counsel Read more \\n \\n \\n How is Kaia different? \\n \\n \\n \\n PT-grade automated feedback  delivered to your smartphone \\n \\n \\n \\n Integrates with  leading medical providers \\n \\n \\n \\n Coaches and medical professionals  where beneficial\\r\\n \\n \\n \\n \\n Most rigorous  clinical evidence \\n \\n \\n Kaia Health is the largest MSK platform worldwide \\n 60 M \\n \\n \\n + 500 k \\n \\n \\n ~ 100 \\n \\n \\n \\n \\n Trusted by leading \\nUS employers and health plans \\n \\n \\n \\n \\n \\n \\n \\n \\n \\n \\n \\n \\n \\n \\n \\n \\n \\n \\n \\n \\n \\n \\n \\n \\n \\n \\n \\n \\n \\n \\n \\n \\n \\n The next-generation MSK solution that integrates into the existing care landscape. \\n \\n \\n Kaia Gateway offers dynamic triage & escalation pathways including case review by Kaia medical providers. In addition, Premium Partner integrations sets a new standard of interoperability within your health care ecosystem. Read more \\n AI precision with a human touch. \\n \\n Human care where beneficial Kaia coaches and medical providers are here to drive engagement and ensure patients get the right care. \\n \\n \\n Personalized therapy  Every day, Kaia’s algorithm adapts the therapy to the individual user’s needs, ranging from physical, psychological, and educational aspects of pain. \\n \\n \\n Technology beyond telePT and sensors Kaia's computer vision technology features real-time, automated exercise feedback, objective function assessment, and gamified warmups. \\n \\n Highest clinically proven outcomes,  compared to surgery, pain killers, PT, and other treatments¹ ¹Priebe (2020).  Digital Treatment of Back Pain versus Standard of Care: The Cluster-Randomized Controlled Trial 136%  more pain reduction 115%  more anxiety improvement 117%  more depression improvement 200%  more stress improvement \\n Tailored programs for all MSK cases Our tailored exercise program targets specific pain areas. \\n \\n \\n \\n Total back \\n \\n \\n Neck, shoulder & elbow \\n \\n \\n Hip & knee \\n \\n \\n Wrist, hand, ankle & foot \\n \\n \\n \\n Kaia’s approach to pain management resonates with me. In my career as a professional golfer, I have always preferred a custom exercise program to taking pain killers or undergoing surgery. Rory McIlroy \\nFour-time major champion \\n \\n \\n Featured in \\n \\n \\n \\n \\n \\n \\n \\n \\n \\n \\n \\n \\n \\n \\n \\n \\n \\n \\n \\n Latest from Kaia Health \\n Show all press releases \\n \\n \\n \\n \\n \\n \\n \\n Kaia Health Kicks Off 2022 with 50+ New Clients, Surpasses 500,000 Worldwide Users on our Mission to Democratize Access to Healthcare for All \\n \\n \\n \\n \\n \\n \\n \\n \\n Kaia Health’s Mission to Democratize Access to Healthcare \\n \\n \\n \\n \\n \\n \\n \\n \\n Understanding Types of Pain \\n \\n \\n \\n \\n \\n About Kaia Health \\n Our Mission Careers Meet the team Newsroom Blog Contact Help Center \\n Solutions \\n MSK \\n Employers Individuals Providers Health Plans \\n COPD \\n Providers \\n Technology \\n Legal \\n Privacy Policy Terms & Conditions Cookie Settings \\n Social Media \\n LinkedIn Twitter Facebook Instagram \\n Region USA Germany Certificates   Medical Device   ISO 13485, TÜV Süd certified   GDPR compliant   HIPAA compliant \\n \\n \\n \\n \""
      ]
     },
     "execution_count": 4,
     "metadata": {},
     "output_type": "execute_result"
    }
   ],
   "source": [
    "ignore = ['[document]', 'a', 'article', 'label','div','script', 'style', 'title', 'img', 'svg', 'ul', 'g', 'footer', 'button', 'clippath', 'nav']\n",
    "ignore1 = ['[document]', 'label','div','script', 'style', 'title', 'img', 'svg', 'ul', 'g', 'footer', 'button', 'clippath', 'nav']\n",
    "\n",
    "output = ''\n",
    "for t in text:\n",
    "    if t.parent.name not in ignore1:\n",
    "        output += '{} '.format(t)\n",
    "output"
   ]
  },
  {
   "cell_type": "code",
   "execution_count": 20,
   "id": "2c375921",
   "metadata": {},
   "outputs": [
    {
     "name": "stdout",
     "output_type": "stream",
     "text": [
      "['\\n', '\\n', '\\n', '\\n', '\\n', '\\n', '\\n', '\\n', '\\n', '\\n', '\\n', '\\n', '\\n', '\\n', '\\n', '\\n', '\\n', '\\n', '\\n', '\\n', '\\n', '\\n', '', 'DO', 'NOT', 'COPY', 'THIS', 'SNIPPET!', 'Start', 'of', 'Page', 'Analytics', 'Tracking', 'for', 'HubSpot', 'WordPress', 'plugin', 'v8.4.465', '\\n', '\\n', '', 'DO', 'NOT', 'COPY', 'THIS', 'SNIPPET!', 'End', 'of', 'Page', 'Analytics', 'Tracking', 'for', 'HubSpot', 'WordPress', 'plugin', '', '\\n', '\\n', '', 'Google', 'Tag', 'Manager', '', '\\n', '\\n', '', 'End', 'Google', 'Tag', 'Manager', '', '\\n', '\\n', '\\n', '\\n', '\\n', '\\n', '\\n', '\\n', 'Employers', 'Individuals', 'Providers', 'Health', 'Plans', 'Technology', 'More', '', '', 'Book', 'a', 'demo', '\\n', '\\n', '\\n', 'Solutions', '\\n', 'MSK', '\\n', 'Employers', 'Individuals', 'Providers', 'Health', 'Plans', '\\n', 'COPD', '\\n', 'Providers', '\\n', '\\n', 'About', 'Kaia', 'Health', '\\n', 'Our', 'Mission', 'Careers', 'Meet', 'the', 'team', 'Newsroom', 'Blog', 'Contact', 'Help', 'Center', '\\n', 'AI', 'Platforms', '\\n', 'Technology', '\\n', 'Social', 'Media', '\\n', 'LinkedIn', 'Twitter', 'Facebook', 'Instagram', '\\n', 'Legal', '\\n', 'Privacy', 'Policy', 'Terms', '&', 'Conditions', '\\n', '\\n', 'Democratizing', '\\nHealthcare', 'Market', 'leader', 'in', 'MSK', 'motion', 'analysis.', '\\n', 'Kaia', 'Health', 'Continues', 'Build-out', 'of', 'Leadership', 'Team', 'with', 'Appointment', 'of', 'Beth', 'R.', 'Jacobson,', 'J.D.,', 'as', 'General', 'Counsel', 'Read', 'more', '\\n', '\\n', '\\n', 'How', 'is', 'Kaia', 'different?', '\\n', '\\n', '\\n', '\\n', 'PT-grade', 'automated', 'feedback', '', 'delivered', 'to', 'your', 'smartphone', '\\n', '\\n', '\\n', '\\n', 'Integrates', 'with', '', 'leading', 'medical', 'providers', '\\n', '\\n', '\\n', '\\n', 'Coaches', 'and', 'medical', 'professionals', '', 'where', 'beneficial\\r\\n', '\\n', '\\n', '\\n', '\\n', 'Most', 'rigorous', '', 'clinical', 'evidence', '\\n', '\\n', '\\n', 'Kaia', 'Health', 'is', 'the', 'largest', 'MSK', 'platform', 'worldwide', '\\n', '60', 'M', '\\n', '\\n', '\\n', '+', '500', 'k', '\\n', '\\n', '\\n', '~', '100', '\\n', '\\n', '\\n', '\\n', '\\n', 'Trusted', 'by', 'leading', '\\nUS', 'employers', 'and', 'health', 'plans', '\\n', '\\n', '\\n', '\\n', '\\n', '\\n', '\\n', '\\n', '\\n', '\\n', '\\n', '\\n', '\\n', '\\n', '\\n', '\\n', '\\n', '\\n', '\\n', '\\n', '\\n', '\\n', '\\n', '\\n', '\\n', '\\n', '\\n', '\\n', '\\n', '\\n', '\\n', '\\n', '\\n', '\\n', 'The', 'next-generation', 'MSK', 'solution', 'that', 'integrates', 'into', 'the', 'existing', 'care', 'landscape.', '\\n', '\\n', '\\n', 'Kaia', 'Gateway', 'offers', 'dynamic', 'triage', '&', 'escalation', 'pathways', 'including', 'case', 'review', 'by', 'Kaia', 'medical', 'providers.', 'In', 'addition,', 'Premium', 'Partner', 'integrations', 'sets', 'a', 'new', 'standard', 'of', 'interoperability', 'within', 'your', 'health', 'care', 'ecosystem.', 'Read', 'more', '\\n', 'AI', 'precision', 'with', 'a', 'human', 'touch.', '\\n', '\\n', 'Human', 'care', 'where', 'beneficial', 'Kaia', 'coaches', 'and', 'medical', 'providers', 'are', 'here', 'to', 'drive', 'engagement', 'and', 'ensure', 'patients', 'get', 'the', 'right', 'care.', '\\n', '\\n', '\\n', 'Personalized', 'therapy', '', 'Every', 'day,', 'Kaia’s', 'algorithm', 'adapts', 'the', 'therapy', 'to', 'the', 'individual', 'user’s', 'needs,', 'ranging', 'from', 'physical,', 'psychological,', 'and', 'educational', 'aspects', 'of', 'pain.', '\\n', '\\n', '\\n', 'Technology', 'beyond', 'telePT', 'and', 'sensors', \"Kaia's\", 'computer', 'vision', 'technology', 'features', 'real-time,', 'automated', 'exercise', 'feedback,', 'objective', 'function', 'assessment,', 'and', 'gamified', 'warmups.', '\\n', '\\n', 'Highest', 'clinically', 'proven', 'outcomes,', '', 'compared', 'to', 'surgery,', 'pain', 'killers,', 'PT,', 'and', 'other', 'treatments¹', '¹Priebe', '(2020).', '', 'Digital', 'Treatment', 'of', 'Back', 'Pain', 'versus', 'Standard', 'of', 'Care:', 'The', 'Cluster-Randomized', 'Controlled', 'Trial', '136%', '', 'more', 'pain', 'reduction', '115%', '', 'more', 'anxiety', 'improvement', '117%', '', 'more', 'depression', 'improvement', '200%', '', 'more', 'stress', 'improvement', '\\n', 'Tailored', 'programs', 'for', 'all', 'MSK', 'cases', 'Our', 'tailored', 'exercise', 'program', 'targets', 'specific', 'pain', 'areas.', '\\n', '\\n', '\\n', '\\n', 'Total', 'back', '\\n', '\\n', '\\n', 'Neck,', 'shoulder', '&', 'elbow', '\\n', '\\n', '\\n', 'Hip', '&', 'knee', '\\n', '\\n', '\\n', 'Wrist,', 'hand,', 'ankle', '&', 'foot', '\\n', '\\n', '\\n', '\\n', 'Kaia’s', 'approach', 'to', 'pain', 'management', 'resonates', 'with', 'me.', 'In', 'my', 'career', 'as', 'a', 'professional', 'golfer,', 'I', 'have', 'always', 'preferred', 'a', 'custom', 'exercise', 'program', 'to', 'taking', 'pain', 'killers', 'or', 'undergoing', 'surgery.', 'Rory', 'McIlroy', '\\nFour-time', 'major', 'champion', '\\n', '\\n', '\\n', 'Featured', 'in', '\\n', '\\n', '\\n', '\\n', '\\n', '\\n', '\\n', '\\n', '\\n', '\\n', '\\n', '\\n', '\\n', '\\n', '\\n', '\\n', '\\n', '\\n', '\\n', '\\n', 'Latest', 'from', 'Kaia', 'Health', '\\n', 'Show', 'all', 'press', 'releases', '\\n', '\\n', '\\n', '\\n', '\\n', '\\n', '\\n', '\\n', 'Kaia', 'Health', 'Kicks', 'Off', '2022', 'with', '50+', 'New', 'Clients,', 'Surpasses', '500,000', 'Worldwide', 'Users', 'on', 'our', 'Mission', 'to', 'Democratize', 'Access', 'to', 'Healthcare', 'for', 'All', '\\n', '\\n', '\\n', '\\n', '\\n', '\\n', '\\n', '\\n', '\\n', 'Kaia', 'Health’s', 'Mission', 'to', 'Democratize', 'Access', 'to', 'Healthcare', '\\n', '\\n', '\\n', '\\n', '\\n', '\\n', '\\n', '\\n', '\\n', 'Understanding', 'Types', 'of', 'Pain', '\\n', '\\n', '\\n', '\\n', '\\n', '\\n', 'About', 'Kaia', 'Health', '\\n', 'Our', 'Mission', 'Careers', 'Meet', 'the', 'team', 'Newsroom', 'Blog', 'Contact', 'Help', 'Center', '\\n', 'Solutions', '\\n', 'MSK', '\\n', 'Employers', 'Individuals', 'Providers', 'Health', 'Plans', '\\n', 'COPD', '\\n', 'Providers', '\\n', 'Technology', '\\n', 'Legal', '\\n', 'Privacy', 'Policy', 'Terms', '&', 'Conditions', 'Cookie', 'Settings', '\\n', 'Social', 'Media', '\\n', 'LinkedIn', 'Twitter', 'Facebook', 'Instagram', '\\n', 'Region', 'USA', 'Germany', 'Certificates', '', '', 'Medical', 'Device', '', '', 'ISO', '13485,', 'TÜV', 'Süd', 'certified', '', '', 'GDPR', 'compliant', '', '', 'HIPAA', 'compliant', '\\n', '\\n', '\\n', '\\n', '']\n",
      "Personalized\n",
      "personalization is not there\n",
      "machine-learning is not there\n",
      "Ai\n",
      "Artificial Intelligence is not there\n",
      "24/7 is not there\n",
      "Democratizing\n"
     ]
    },
    {
     "data": {
      "text/plain": [
       "0.43"
      ]
     },
     "execution_count": 20,
     "metadata": {},
     "output_type": "execute_result"
    }
   ],
   "source": [
    "# analyze the webpage to detect keywords \n",
    "outputSub = output.split(' ')\n",
    "print(outputSub)\n",
    "\n",
    "count = 0\n",
    "liklihood = 0\n",
    "words = ['personalized', 'personalization', 'machine-learning', 'AI', 'Artificial Intelligence', '24/7', 'democratizing']\n",
    "for word in words: \n",
    "    if (word in outputSub or word.capitalize() in outputSub):\n",
    "        print(word.capitalize())\n",
    "        count +=1 \n",
    "    else:\n",
    "        print(word + ' is not there')\n",
    "count\n",
    "liklihood = round((count / len(words)), 2)\n",
    "liklihood\n",
    "\n"
   ]
  },
  {
   "cell_type": "code",
   "execution_count": null,
   "id": "9bef43ae",
   "metadata": {},
   "outputs": [],
   "source": [
    "\n"
   ]
  },
  {
   "cell_type": "code",
   "execution_count": null,
   "id": "b92f4b8e",
   "metadata": {},
   "outputs": [],
   "source": []
  }
 ],
 "metadata": {
  "kernelspec": {
   "display_name": "Python 3 (ipykernel)",
   "language": "python",
   "name": "python3"
  },
  "language_info": {
   "codemirror_mode": {
    "name": "ipython",
    "version": 3
   },
   "file_extension": ".py",
   "mimetype": "text/x-python",
   "name": "python",
   "nbconvert_exporter": "python",
   "pygments_lexer": "ipython3",
   "version": "3.9.7"
  }
 },
 "nbformat": 4,
 "nbformat_minor": 5
}
