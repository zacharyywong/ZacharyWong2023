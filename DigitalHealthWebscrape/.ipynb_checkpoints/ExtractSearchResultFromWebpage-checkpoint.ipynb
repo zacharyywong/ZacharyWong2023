{
 "cells": [
  {
   "cell_type": "code",
   "execution_count": 10,
   "id": "40c073c3",
   "metadata": {},
   "outputs": [],
   "source": [
    "# This script extracts the title, link, and short description of search results on Google \n",
    "\n",
    "#import all libraries\n",
    "import pandas as pd\n",
    "from selenium import webdriver\n",
    "from webdriver_manager.chrome import ChromeDriverManager\n",
    "from bs4 import BeautifulSoup as bs\n",
    "import requests\n"
   ]
  },
  {
   "cell_type": "code",
   "execution_count": null,
   "id": "be90ddfc",
   "metadata": {},
   "outputs": [],
   "source": [
    "# input for keyword, number of pages to scrape, and google baseURL\n",
    "query = 'stocks'\n",
    "nPages = 2\n",
    "baseurl = \"http://www.google.com/search?q=\"\n",
    "\n"
   ]
  },
  {
   "cell_type": "code",
   "execution_count": 11,
   "id": "97863380",
   "metadata": {},
   "outputs": [
    {
     "name": "stderr",
     "output_type": "stream",
     "text": [
      "\n",
      "\n",
      "====== WebDriver manager ======\n",
      "Current google-chrome version is 98.0.4758\n",
      "Get LATEST chromedriver version for 98.0.4758 google-chrome\n",
      "Driver [/Users/zacharywong/.wdm/drivers/chromedriver/mac64/98.0.4758.102/chromedriver] found in cache\n",
      "/var/folders/gl/jgk7f2w528qgjggck6glqp200000gn/T/ipykernel_63501/2554173029.py:2: DeprecationWarning: executable_path has been deprecated, please pass in a Service object\n",
      "  driver = webdriver.Chrome(ChromeDriverManager().install())\n"
     ]
    }
   ],
   "source": [
    "# Access chromedriver and determine path \n",
    "driver = webdriver.Chrome(ChromeDriverManager().install())\n",
    "pathToFile = '/Users/zacharywong/github/zacharywong2023/DigitalHealthWebscrape/Deliverables/'\n"
   ]
  },
  {
   "cell_type": "code",
   "execution_count": 12,
   "id": "2fed0560",
   "metadata": {},
   "outputs": [],
   "source": [
    "# list of dictionaries with key/value pairs: title, link, text\n",
    "# Contains all information for all search results \n",
    "pageInfo = []"
   ]
  },
  {
   "cell_type": "code",
   "execution_count": 13,
   "id": "83469721",
   "metadata": {},
   "outputs": [],
   "source": [
    "# helper function to extract links from 1 page of results\n",
    "def extractLink(soup):\n",
    "    links = []\n",
    "    searchLinks = soup.find_all('div', class_ = 'yuRUbf')\n",
    "    for h in searchLinks:\n",
    "        link = h.a.get('href')\n",
    "        links.append(link)\n",
    "    return links "
   ]
  },
  {
   "cell_type": "code",
   "execution_count": 14,
   "id": "a9762b51",
   "metadata": {},
   "outputs": [],
   "source": [
    "# helper function to extract texts from 1 page of results\n",
    "def extractText(soup):\n",
    "    texts = []\n",
    "    searchText = soup.find_all('div', class_='VwiC3b yXK7lf MUxGbd yDYNvb lyLwlc lEBKkf')\n",
    "    for h in searchText:\n",
    "        fullText = h.text\n",
    "        try:\n",
    "            splitText = fullText.split('— ', 1)\n",
    "            text = splitText[1]\n",
    "            texts.append(text);\n",
    "        except:\n",
    "            texts.append(fullText)\n",
    "    return texts;"
   ]
  },
  {
   "cell_type": "code",
   "execution_count": 15,
   "id": "82491fe5",
   "metadata": {},
   "outputs": [],
   "source": [
    "# helper function to extract titles from 1 page of results\n",
    "def extractTitle(soup):\n",
    "    titles = [] \n",
    "    searchTitles = soup.find_all('h3', class_='LC20lb MBeuO DKV0Md')\n",
    "    for h in searchTitles:\n",
    "        titles.append(h.text)\n",
    "    return titles"
   ]
  },
  {
   "cell_type": "code",
   "execution_count": 16,
   "id": "ad724de8",
   "metadata": {},
   "outputs": [],
   "source": [
    "# helper function to add 1 page of results to pageInfo list\n",
    "def addToPageInfo(titles, links, texts):\n",
    "    index = 0;\n",
    "    while (index < len(titles)):\n",
    "        # create new dictionary of each search results' title, link, and text\n",
    "        pageInfo.append({\"Title\": titles[index], \"Link\": links[index], \"About\": texts[index]})\n",
    "        index+=1 \n",
    "    "
   ]
  },
  {
   "cell_type": "code",
   "execution_count": 17,
   "id": "251606e1",
   "metadata": {},
   "outputs": [
    {
     "data": {
      "text/plain": [
       "[{'Title': 'Stocks - Bloomberg',\n",
       "  'Link': 'https://www.bloomberg.com/markets/stocks',\n",
       "  'About': 'Updated world stock indexes. Get an overview of major world indexes, current values and stock market data.'},\n",
       " {'Title': 'Stock Definition - Investopedia',\n",
       "  'Link': 'https://www.investopedia.com/terms/s/stock.asp',\n",
       "  'About': 'A stock (also known as equity) is a security that represents the ownership of a fraction of a corporation. This entitles the owner of the stock to a\\xa0...'},\n",
       " {'Title': 'Yahoo Finance - Stock Market Live, Quotes, Business ...',\n",
       "  'Link': 'https://finance.yahoo.com/',\n",
       "  'About': 'At Yahoo Finance, you get free stock quotes, up-to-date news, portfolio management resources, international market data, social interaction and mortgage\\xa0...'},\n",
       " {'Title': 'Stock Market Data - Dow Jones, Nasdaq, S&amp - CNN ...',\n",
       "  'Link': 'https://money.cnn.com/data/markets',\n",
       "  'About': 'US Index Futures · Dow Futures33,479.001.51%515.00 · Nasdaq Futures13,838.750.91%127.75 · S&P Futures4,284.250.01%0.25.'},\n",
       " {'Title': 'Stocks | Investor.gov',\n",
       "  'Link': 'https://www.investor.gov/introduction-investing/investing-basics/investment-products/stocks',\n",
       "  'About': 'What are stocks? Stocks are a type of security that gives stockholders a share of ownership in a company. Stocks also are called “equities.”'},\n",
       " {'Title': 'Stock Market News - CNBC',\n",
       "  'Link': 'https://www.cnbc.com/stocks/',\n",
       "  'About': 'In-depth market analysis, real-time stock market data, research and ... trades on CNBC Wednesday: Pros are buying these financial and tech stocks right now.'},\n",
       " {'Title': 'Stocks | FINRA.org',\n",
       "  'Link': 'https://www.finra.org/investors/learn-to-invest/types-investments/stocks',\n",
       "  'About': 'Stocks represent ownership shares, also known as equity shares. Whether you make or lose money on a stock depends on the success or failure of the company,\\xa0...'},\n",
       " {'Title': 'MarketWatch: Stock Market News - Financial News ...',\n",
       "  'Link': 'https://www.marketwatch.com/',\n",
       "  'About': 'MarketWatch provides the latest stock market, financial and business news. Get stock market quotes, personal finance advice, company news and more.'},\n",
       " {'Title': \"Stocks rise, oil prices soar as investors eye Russia's war ...\",\n",
       "  'Link': 'https://news.yahoo.com/stock-market-news-live-updates-march-2-2022-231352427.html',\n",
       "  'About': \"Stocks rose on Wednesday to recover some steep losses from earlier this week, with jitters over Russia's war in Ukraine and its implications\\xa0...\"},\n",
       " {'Title': '10 dividend stocks that Jim Cramer says should be on ... - CNBC',\n",
       "  'Link': 'https://www.cnbc.com/2022/03/02/10-dividend-stocks-that-jim-cramer-says-should-be-on-your-shopping-list.html',\n",
       "  'About': \"A stock's dividend yield increases as its share price falls. As a result, sometimes companies with high-yielding stocks may have an underlying\\xa0...\"},\n",
       " {'Title': 'NYSE: The New York Stock Exchange',\n",
       "  'Link': 'https://www.nyse.com/',\n",
       "  'About': \"The New York Stock Exchange is where icons and disruptors come to build on their success and shape the future. We've created the world's largest and most\\xa0...\"},\n",
       " {'Title': 'Google Finance - Stock Market Prices, Real-time Quotes ...',\n",
       "  'Link': 'https://www.google.com/finance/',\n",
       "  'About': \"Today's financial news. Top stories. Local market. World markets. News is loading. Earnings calendar. Based on popular stocks.\"},\n",
       " {'Title': 'Stock Market Data with Stock Price Feeds | Nasdaq',\n",
       "  'Link': 'https://www.nasdaq.com/market-activity/stocks',\n",
       "  'About': 'Find stock quotes, interactive charts, historical information, company news and stock analysis on all public companies from Nasdaq.'},\n",
       " {'Title': 'Nasdaq: Daily Stock Market Overview, Data Updates, Reports ...',\n",
       "  'Link': 'https://www.nasdaq.com/',\n",
       "  'About': 'Get the latest stock market news, stock information & quotes, data analysis reports, as well as a general overview of the market landscape from Nasdaq.'},\n",
       " {'Title': 'Stock Market Headlines | Reuters',\n",
       "  'Link': 'https://www.reuters.com/markets/stocks',\n",
       "  'About': 'Nikkei Stock Average 225 .N225. 26,393.03, --, --. unchanged. Hang Seng Index .HSI. 22,343.92, --, --. trading higher. ASX All Ordinaries Index.'},\n",
       " {'Title': 'Stocks - News, Articles, Biography, Photos - WSJ.com',\n",
       "  'Link': 'https://www.wsj.com/news/markets/stocks',\n",
       "  'About': 'Stock indexes rose and oil prices jumped, as Russia pounded Ukrainian cities and investors evaluated testimony from Federal Reserve Chairman Jerome Powell.'},\n",
       " {'Title': 'Stocks | Category | Fox Business',\n",
       "  'Link': 'https://www.foxbusiness.com/category/stocks',\n",
       "  'About': 'Bullish stock investors took a cue from Fed Chair Jerome Powell sending equities higher. The way to buy Tesla is on the dip: Ken Mahoney video. Politics\\xa0...'},\n",
       " {'Title': 'Find the Best Stocks to Buy Today - US News Money',\n",
       "  'Link': 'https://money.usnews.com/investing/stocks',\n",
       "  'About': 'Find new investments and research thousands of stocks at U.S. News Best Stocks. We rank or compare stocks based on popular investment metrics.'}]"
      ]
     },
     "execution_count": 17,
     "metadata": {},
     "output_type": "execute_result"
    }
   ],
   "source": [
    "#capture links, header, and text\n",
    "#pageInfo is a list of dictionaries for each page with keys/value pairs: header, link, text\n",
    "\n",
    "# extract and load each page of results to pageInfo \n",
    "for page in range(1, nPages+1):\n",
    "    url = baseurl + query+ \"&start=\" + str((page - 1)*10)\n",
    "    driver.get(url)\n",
    "    soup = bs(driver.page_source, 'html.parser')\n",
    "    links = extractLink(soup);\n",
    "    texts = extractText(soup);\n",
    "    titles = extractTitle(soup);\n",
    "    addToPageInfo(titles, links, texts)\n",
    "    \n",
    "pageInfo \n",
    "\n",
    "        \n",
    "    "
   ]
  },
  {
   "cell_type": "code",
   "execution_count": 18,
   "id": "78485490",
   "metadata": {},
   "outputs": [],
   "source": [
    "# convert pageInfo to pandas dataframe and export as csv \n",
    "df = pd.DataFrame(pageInfo)\n",
    "df.to_csv(pathToFile + 'Search_Results.csv')"
   ]
  },
  {
   "cell_type": "code",
   "execution_count": null,
   "id": "f29f5bf4",
   "metadata": {},
   "outputs": [],
   "source": []
  }
 ],
 "metadata": {
  "kernelspec": {
   "display_name": "Python 3 (ipykernel)",
   "language": "python",
   "name": "python3"
  },
  "language_info": {
   "codemirror_mode": {
    "name": "ipython",
    "version": 3
   },
   "file_extension": ".py",
   "mimetype": "text/x-python",
   "name": "python",
   "nbconvert_exporter": "python",
   "pygments_lexer": "ipython3",
   "version": "3.9.7"
  }
 },
 "nbformat": 4,
 "nbformat_minor": 5
}
