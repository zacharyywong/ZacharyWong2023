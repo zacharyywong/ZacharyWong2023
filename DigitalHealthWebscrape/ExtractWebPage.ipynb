{
 "cells": [
  {
   "cell_type": "code",
   "execution_count": 30,
   "id": "fcff8c6f",
   "metadata": {},
   "outputs": [
    {
     "name": "stdout",
     "output_type": "stream",
     "text": [
      "\"AI\" detected\n"
     ]
    },
    {
     "data": {
      "text/plain": [
       "0.14"
      ]
     },
     "execution_count": 30,
     "metadata": {},
     "output_type": "execute_result"
    }
   ],
   "source": [
    "# This script extracts all the important text from the langing page of a webpage for analysis\n",
    "\n",
    "import requests\n",
    "from bs4 import BeautifulSoup as bs\n",
    "#urls = ['https://kaiahealth.com/', 'https://www.babylonhealth.com/en-us', 'https://www.concertai.com/predictivepatient/']\n",
    "#for url in urls:\n",
    "\n",
    "url = 'https://www.concertai.com/predictivepatient/'\n",
    "res = requests.get(url, headers={'User-Agent': 'Mozilla/5.0'})\n",
    "html_page = res.content\n",
    "soup = bs(html_page, 'html.parser')\n",
    "text = soup.find_all(text=True)\n",
    "\n",
    "ignore = ['[document]', 'a', 'article', 'label','div','script', 'style', 'title', 'img', 'svg', 'ul', 'g', 'footer', 'button', 'clippath', 'nav']\n",
    "ignore1 = ['[document]', 'label','div','script', 'style', 'title', 'img', 'svg', 'ul', 'g', 'footer', 'button', 'clippath', 'nav']\n",
    "\n",
    "output = ''\n",
    "for t in text:\n",
    "    if t.parent.name not in ignore1:\n",
    "        output += '{} '.format(t)\n",
    "\n",
    "# analyze the webpage to detect keywords \n",
    "outputSub = output.split(' ')\n",
    "#print(outputSub)\n",
    "\n",
    "count = 0\n",
    "liklihood = 0\n",
    "words = ['personalized', 'personalization', 'machine-learning', 'AI', 'Artificial Intelligence', '24/7', 'democratizing']\n",
    "for word in words: \n",
    "    if (word in outputSub or word.capitalize() in outputSub):\n",
    "        print('\"' + word +'\"' + ' detected')\n",
    "        count +=1 \n",
    "    #else:\n",
    "        #print(word + ' is not there')\n",
    "liklihood = round((count / len(words)), 2)\n",
    "liklihood"
   ]
  },
  {
   "cell_type": "code",
   "execution_count": 31,
   "id": "0e23f9c6",
   "metadata": {},
   "outputs": [],
   "source": [
    "#set([t.parent.name for t in text])\n",
    "\n"
   ]
  },
  {
   "cell_type": "code",
   "execution_count": 32,
   "id": "a5a64494",
   "metadata": {},
   "outputs": [
    {
     "data": {
      "text/plain": [
       "'\\n \\n \\n \\n  External Script : Global site tag (gtag.js) - Google Analytics  \\n \\n \\n  External Script : Bugherd  \\n \\n  External Script : Vimeo Embed  \\n \\n  External Script : Temp Styles  \\n \\n  External Script : Google Ownership verification  \\n \\n \\n  Google Tag Manager for WordPress by gtm4wp.com  \\n \\n  End Google Tag Manager for WordPress by gtm4wp.com  \\n  This site is optimized with the Yoast SEO plugin v17.6 - https://yoast.com/wordpress/plugins/seo/  \\n \\n \\n \\n \\n \\n \\n \\n \\n \\n \\n \\n \\n \\n  / Yoast SEO plugin.  \\n \\n \\n \\n  This site uses the Google Analytics by ExactMetrics plugin v7.2.1 - Using Analytics tracking - https://www.exactmetrics.com/  \\n \\n \\n  / Google Analytics by ExactMetrics  \\n  This site uses the Google Analytics by MonsterInsights plugin v8.2.0 - Using Analytics tracking - https://www.monsterinsights.com/  \\n \\n \\n  / Google Analytics by MonsterInsights  \\n \\n \\n \\n \\n \\n \\n \\n \\n \\n \\n \\n \\n \\n \\n \\n \\n \\n \\n \\n \\n \\n \\n \\n \\n \\n  DO NOT COPY THIS SNIPPET! Start of Page Analytics Tracking for HubSpot WordPress plugin v8.4.329 \\n \\n  DO NOT COPY THIS SNIPPET! End of Page Analytics Tracking for HubSpot WordPress plugin  \\n \\n  Google Tag Manager for WordPress by gtm4wp.com  \\n \\n  End Google Tag Manager for WordPress by gtm4wp.com  \\n \\n \\n \\n \\n  To Top Custom CSS  \\n \\n \\n \\n \\n \\n \\n \\n \\n \\n \\n \\n \\n \\n \\n \\n \\n \\n \\n \\n \\n Use Cases \\n Study Design Regulatory Use External Control Arms AML Bladder Breast Gastric-Esophageal Lung Liver Melanoma Pancreatic Prostate Renal All Other Cancers \\n Products & Services \\n Data Products Predictive Patient Commercial Solutions STAR Services \\n Research \\n Publications ERACE \\n Resources \\n Content Webinars and Events News Blog \\n About Us \\n Our Team Careers Investors \\n Contact Us Request a Demo \\n \\n \\n Products Predictive Patient \\n Improve Therapy Initiation and Adherence Predictive Patient transforms millions of health and behavioral records, and applies advanced AI models to improve the patient experience from therapy initiation through adherence. See more Commercial Solutions\\n \\n NEW WHITE PAPER Optimizing Patient Analytics Download White Paper Now \\xa0 Learn how the most successful patient analytics strategies include an agile, integrated data framework and precision insights, driving real-time patient-centered actions. \\n Predictive Patient Behavior Models Seamlessly Integrated 1st and 3rd Party Data Open and Data Agnostic \\n Reasons for Predictive Patient Request a Demo\\n Patient Acquisition: Commercial Line of Therapy  Determine if true cause of patient discontinuation is drop-off or product switching and if root cause is patient, payer, or provider-related Patient Acquisition: HCP Targeting Comprehend the mind-share of the physician within their patient population of client’s therapy  Patient Adherence: Commercial Patient Fill  Identify which patients are likely not to fill and why; Identify patient pathways as they move from the hub to the specialty pharmacy to pinpoint areas of drop-off and non-adherence Patient Adherence: Patient Services  Learn which patient services are most likely to fill \\n patient Journey Insights to Improve Therapy Initiation and Adherence Request More Information\\n \\n Customer Value for Predictive Patient Request More Information\\n Brand and Analytics Leaders      Rapidly generate insights to improve patient acquisition and adherence from multiple seamlessly integrated data sources and advanced analytics Commercial Operations Leaders Trust in powerful analytics to generate strategies, tactical plans and decisions that deliver commercial execution success Market Access Leaders Identify and target hurdles keeping patients from getting product quickly including payer approval complexities and financial factors Field and Sales Ops Leaders Quickly detail teams to health care providers needing assistance with education on product or payer processes to avoid product switching Trade & Channel Leaders Measure specialty pharmacy and network data contract compliance with reports detailing timelines, completeness, and accuracy Commercial IT Leaders Be confident in data delivered with highest accuracy and timeliness  Patient Services Leaders Understand which combinations of patient services result in most likely fill for patients to develop custom plans for patient cohorts \\n Predictive  Patient  Ensuring Better Patient Outcomes Request More Information\\n   \\n \\n \\n \\n \\n \\n \\n \\n \\n \\n Use Cases \\n Study Design Regulatory Use External Control Arms AML Bladder Breast Gastric-Esophageal Lung Liver Melanoma Pancreatic Prostate Renal All Other Cancers \\n Products & Services \\n Data Products Predictive Patient Commercial Solutions STAR Services \\n Research \\n Publications ERACE \\n Resources \\n Content Webinars and Events News Blog \\n About Us \\n Our Team Careers Investors \\n Contact Us Request a Demo \\n \\n \\n \\n © 2017-2022 ConcertAI. All Rights Reserved. ConcertAI is a  SymphonyAI  company. Privacy Policy Terms of Use \\n googleoff: all This website uses cookies to improve your experience.  Privacy Policy   Accept Privacy & Cookies Policy Close Privacy Overview \\n\\t\\t\\t\\t\\t\\t\\t\\tNecessary\\t\\t\\t\\t\\t\\t\\t Always Enabled SAVE & ACCEPT \\n \\n \\n googleon: all   \\n \\n \\n \\n Scroll Up \\n \\n \\n \\n \\n \\n \\n \\n '"
      ]
     },
     "execution_count": 32,
     "metadata": {},
     "output_type": "execute_result"
    }
   ],
   "source": [
    "ignore = ['[document]', 'a', 'article', 'label','div','script', 'style', 'title', 'img', 'svg', 'ul', 'g', 'footer', 'button', 'clippath', 'nav']\n",
    "ignore1 = ['[document]', 'label','div','script', 'style', 'title', 'img', 'svg', 'ul', 'g', 'footer', 'button', 'clippath', 'nav']\n",
    "\n",
    "output = ''\n",
    "for t in text:\n",
    "    if t.parent.name not in ignore1:\n",
    "        output += '{} '.format(t)\n",
    "output"
   ]
  },
  {
   "cell_type": "code",
   "execution_count": 33,
   "id": "2c375921",
   "metadata": {},
   "outputs": [
    {
     "name": "stdout",
     "output_type": "stream",
     "text": [
      "['\\n', '\\n', '\\n', '\\n', '', 'External', 'Script', ':', 'Global', 'site', 'tag', '(gtag.js)', '-', 'Google', 'Analytics', '', '\\n', '\\n', '\\n', '', 'External', 'Script', ':', 'Bugherd', '', '\\n', '\\n', '', 'External', 'Script', ':', 'Vimeo', 'Embed', '', '\\n', '\\n', '', 'External', 'Script', ':', 'Temp', 'Styles', '', '\\n', '\\n', '', 'External', 'Script', ':', 'Google', 'Ownership', 'verification', '', '\\n', '\\n', '\\n', '', 'Google', 'Tag', 'Manager', 'for', 'WordPress', 'by', 'gtm4wp.com', '', '\\n', '\\n', '', 'End', 'Google', 'Tag', 'Manager', 'for', 'WordPress', 'by', 'gtm4wp.com', '', '\\n', '', 'This', 'site', 'is', 'optimized', 'with', 'the', 'Yoast', 'SEO', 'plugin', 'v17.6', '-', 'https://yoast.com/wordpress/plugins/seo/', '', '\\n', '\\n', '\\n', '\\n', '\\n', '\\n', '\\n', '\\n', '\\n', '\\n', '\\n', '\\n', '\\n', '\\n', '', '/', 'Yoast', 'SEO', 'plugin.', '', '\\n', '\\n', '\\n', '\\n', '', 'This', 'site', 'uses', 'the', 'Google', 'Analytics', 'by', 'ExactMetrics', 'plugin', 'v7.2.1', '-', 'Using', 'Analytics', 'tracking', '-', 'https://www.exactmetrics.com/', '', '\\n', '\\n', '\\n', '', '/', 'Google', 'Analytics', 'by', 'ExactMetrics', '', '\\n', '', 'This', 'site', 'uses', 'the', 'Google', 'Analytics', 'by', 'MonsterInsights', 'plugin', 'v8.2.0', '-', 'Using', 'Analytics', 'tracking', '-', 'https://www.monsterinsights.com/', '', '\\n', '\\n', '\\n', '', '/', 'Google', 'Analytics', 'by', 'MonsterInsights', '', '\\n', '\\n', '\\n', '\\n', '\\n', '\\n', '\\n', '\\n', '\\n', '\\n', '\\n', '\\n', '\\n', '\\n', '\\n', '\\n', '\\n', '\\n', '\\n', '\\n', '\\n', '\\n', '\\n', '\\n', '\\n', '\\n', '', 'DO', 'NOT', 'COPY', 'THIS', 'SNIPPET!', 'Start', 'of', 'Page', 'Analytics', 'Tracking', 'for', 'HubSpot', 'WordPress', 'plugin', 'v8.4.329', '\\n', '\\n', '', 'DO', 'NOT', 'COPY', 'THIS', 'SNIPPET!', 'End', 'of', 'Page', 'Analytics', 'Tracking', 'for', 'HubSpot', 'WordPress', 'plugin', '', '\\n', '\\n', '', 'Google', 'Tag', 'Manager', 'for', 'WordPress', 'by', 'gtm4wp.com', '', '\\n', '\\n', '', 'End', 'Google', 'Tag', 'Manager', 'for', 'WordPress', 'by', 'gtm4wp.com', '', '\\n', '\\n', '\\n', '\\n', '\\n', '', 'To', 'Top', 'Custom', 'CSS', '', '\\n', '\\n', '\\n', '\\n', '\\n', '\\n', '\\n', '\\n', '\\n', '\\n', '\\n', '\\n', '\\n', '\\n', '\\n', '\\n', '\\n', '\\n', '\\n', '\\n', '\\n', 'Use', 'Cases', '\\n', 'Study', 'Design', 'Regulatory', 'Use', 'External', 'Control', 'Arms', 'AML', 'Bladder', 'Breast', 'Gastric-Esophageal', 'Lung', 'Liver', 'Melanoma', 'Pancreatic', 'Prostate', 'Renal', 'All', 'Other', 'Cancers', '\\n', 'Products', '&', 'Services', '\\n', 'Data', 'Products', 'Predictive', 'Patient', 'Commercial', 'Solutions', 'STAR', 'Services', '\\n', 'Research', '\\n', 'Publications', 'ERACE', '\\n', 'Resources', '\\n', 'Content', 'Webinars', 'and', 'Events', 'News', 'Blog', '\\n', 'About', 'Us', '\\n', 'Our', 'Team', 'Careers', 'Investors', '\\n', 'Contact', 'Us', 'Request', 'a', 'Demo', '\\n', '\\n', '\\n', 'Products', 'Predictive', 'Patient', '\\n', 'Improve', 'Therapy', 'Initiation', 'and', 'Adherence', 'Predictive', 'Patient', 'transforms', 'millions', 'of', 'health', 'and', 'behavioral', 'records,', 'and', 'applies', 'advanced', 'AI', 'models', 'to', 'improve', 'the', 'patient', 'experience', 'from', 'therapy', 'initiation', 'through', 'adherence.', 'See', 'more', 'Commercial', 'Solutions\\n', '\\n', 'NEW', 'WHITE', 'PAPER', 'Optimizing', 'Patient', 'Analytics', 'Download', 'White', 'Paper', 'Now', '\\xa0', 'Learn', 'how', 'the', 'most', 'successful', 'patient', 'analytics', 'strategies', 'include', 'an', 'agile,', 'integrated', 'data', 'framework', 'and', 'precision', 'insights,', 'driving', 'real-time', 'patient-centered', 'actions.', '\\n', 'Predictive', 'Patient', 'Behavior', 'Models', 'Seamlessly', 'Integrated', '1st', 'and', '3rd', 'Party', 'Data', 'Open', 'and', 'Data', 'Agnostic', '\\n', 'Reasons', 'for', 'Predictive', 'Patient', 'Request', 'a', 'Demo\\n', 'Patient', 'Acquisition:', 'Commercial', 'Line', 'of', 'Therapy', '', 'Determine', 'if', 'true', 'cause', 'of', 'patient', 'discontinuation', 'is', 'drop-off', 'or', 'product', 'switching', 'and', 'if', 'root', 'cause', 'is', 'patient,', 'payer,', 'or', 'provider-related', 'Patient', 'Acquisition:', 'HCP', 'Targeting', 'Comprehend', 'the', 'mind-share', 'of', 'the', 'physician', 'within', 'their', 'patient', 'population', 'of', 'client’s', 'therapy', '', 'Patient', 'Adherence:', 'Commercial', 'Patient', 'Fill', '', 'Identify', 'which', 'patients', 'are', 'likely', 'not', 'to', 'fill', 'and', 'why;', 'Identify', 'patient', 'pathways', 'as', 'they', 'move', 'from', 'the', 'hub', 'to', 'the', 'specialty', 'pharmacy', 'to', 'pinpoint', 'areas', 'of', 'drop-off', 'and', 'non-adherence', 'Patient', 'Adherence:', 'Patient', 'Services', '', 'Learn', 'which', 'patient', 'services', 'are', 'most', 'likely', 'to', 'fill', '\\n', 'patient', 'Journey', 'Insights', 'to', 'Improve', 'Therapy', 'Initiation', 'and', 'Adherence', 'Request', 'More', 'Information\\n', '\\n', 'Customer', 'Value', 'for', 'Predictive', 'Patient', 'Request', 'More', 'Information\\n', 'Brand', 'and', 'Analytics', 'Leaders', '', '', '', '', '', 'Rapidly', 'generate', 'insights', 'to', 'improve', 'patient', 'acquisition', 'and', 'adherence', 'from', 'multiple', 'seamlessly', 'integrated', 'data', 'sources', 'and', 'advanced', 'analytics', 'Commercial', 'Operations', 'Leaders', 'Trust', 'in', 'powerful', 'analytics', 'to', 'generate', 'strategies,', 'tactical', 'plans', 'and', 'decisions', 'that', 'deliver', 'commercial', 'execution', 'success', 'Market', 'Access', 'Leaders', 'Identify', 'and', 'target', 'hurdles', 'keeping', 'patients', 'from', 'getting', 'product', 'quickly', 'including', 'payer', 'approval', 'complexities', 'and', 'financial', 'factors', 'Field', 'and', 'Sales', 'Ops', 'Leaders', 'Quickly', 'detail', 'teams', 'to', 'health', 'care', 'providers', 'needing', 'assistance', 'with', 'education', 'on', 'product', 'or', 'payer', 'processes', 'to', 'avoid', 'product', 'switching', 'Trade', '&', 'Channel', 'Leaders', 'Measure', 'specialty', 'pharmacy', 'and', 'network', 'data', 'contract', 'compliance', 'with', 'reports', 'detailing', 'timelines,', 'completeness,', 'and', 'accuracy', 'Commercial', 'IT', 'Leaders', 'Be', 'confident', 'in', 'data', 'delivered', 'with', 'highest', 'accuracy', 'and', 'timeliness', '', 'Patient', 'Services', 'Leaders', 'Understand', 'which', 'combinations', 'of', 'patient', 'services', 'result', 'in', 'most', 'likely', 'fill', 'for', 'patients', 'to', 'develop', 'custom', 'plans', 'for', 'patient', 'cohorts', '\\n', 'Predictive', '', 'Patient', '', 'Ensuring', 'Better', 'Patient', 'Outcomes', 'Request', 'More', 'Information\\n', '', '', '\\n', '\\n', '\\n', '\\n', '\\n', '\\n', '\\n', '\\n', '\\n', '\\n', 'Use', 'Cases', '\\n', 'Study', 'Design', 'Regulatory', 'Use', 'External', 'Control', 'Arms', 'AML', 'Bladder', 'Breast', 'Gastric-Esophageal', 'Lung', 'Liver', 'Melanoma', 'Pancreatic', 'Prostate', 'Renal', 'All', 'Other', 'Cancers', '\\n', 'Products', '&', 'Services', '\\n', 'Data', 'Products', 'Predictive', 'Patient', 'Commercial', 'Solutions', 'STAR', 'Services', '\\n', 'Research', '\\n', 'Publications', 'ERACE', '\\n', 'Resources', '\\n', 'Content', 'Webinars', 'and', 'Events', 'News', 'Blog', '\\n', 'About', 'Us', '\\n', 'Our', 'Team', 'Careers', 'Investors', '\\n', 'Contact', 'Us', 'Request', 'a', 'Demo', '\\n', '\\n', '\\n', '\\n', '©', '2017-2022', 'ConcertAI.', 'All', 'Rights', 'Reserved.', 'ConcertAI', 'is', 'a', '', 'SymphonyAI', '', 'company.', 'Privacy', 'Policy', 'Terms', 'of', 'Use', '\\n', 'googleoff:', 'all', 'This', 'website', 'uses', 'cookies', 'to', 'improve', 'your', 'experience.', '', 'Privacy', 'Policy', '', '', 'Accept', 'Privacy', '&', 'Cookies', 'Policy', 'Close', 'Privacy', 'Overview', '\\n\\t\\t\\t\\t\\t\\t\\t\\tNecessary\\t\\t\\t\\t\\t\\t\\t', 'Always', 'Enabled', 'SAVE', '&', 'ACCEPT', '\\n', '\\n', '\\n', 'googleon:', 'all', '', '', '\\n', '\\n', '\\n', '\\n', 'Scroll', 'Up', '\\n', '\\n', '\\n', '\\n', '\\n', '\\n', '\\n', '\\n', '']\n",
      "personalized is not there\n",
      "personalization is not there\n",
      "machine-learning is not there\n",
      "Ai\n",
      "Artificial Intelligence is not there\n",
      "24/7 is not there\n",
      "democratizing is not there\n"
     ]
    },
    {
     "data": {
      "text/plain": [
       "0.14"
      ]
     },
     "execution_count": 33,
     "metadata": {},
     "output_type": "execute_result"
    }
   ],
   "source": [
    "# analyze the webpage to detect keywords \n",
    "outputSub = output.split(' ')\n",
    "print(outputSub)\n",
    "\n",
    "count = 0\n",
    "liklihood = 0\n",
    "words = ['personalized', 'personalization', 'machine-learning', 'AI', 'Artificial Intelligence', '24/7', 'democratizing']\n",
    "for word in words: \n",
    "    if (word in outputSub or word.capitalize() in outputSub):\n",
    "        print(word.capitalize())\n",
    "        count +=1 \n",
    "    else:\n",
    "        print(word + ' is not there')\n",
    "count\n",
    "liklihood = round((count / len(words)), 2)\n",
    "liklihood\n",
    "\n"
   ]
  },
  {
   "cell_type": "code",
   "execution_count": null,
   "id": "9bef43ae",
   "metadata": {},
   "outputs": [],
   "source": [
    "\n"
   ]
  },
  {
   "cell_type": "code",
   "execution_count": null,
   "id": "b92f4b8e",
   "metadata": {},
   "outputs": [],
   "source": []
  }
 ],
 "metadata": {
  "kernelspec": {
   "display_name": "Python 3 (ipykernel)",
   "language": "python",
   "name": "python3"
  },
  "language_info": {
   "codemirror_mode": {
    "name": "ipython",
    "version": 3
   },
   "file_extension": ".py",
   "mimetype": "text/x-python",
   "name": "python",
   "nbconvert_exporter": "python",
   "pygments_lexer": "ipython3",
   "version": "3.9.7"
  }
 },
 "nbformat": 4,
 "nbformat_minor": 5
}
