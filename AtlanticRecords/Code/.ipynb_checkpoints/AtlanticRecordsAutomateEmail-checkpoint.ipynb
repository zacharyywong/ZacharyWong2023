{
 "cells": [
  {
   "cell_type": "code",
   "execution_count": 1,
   "id": "0c1561b7",
   "metadata": {},
   "outputs": [],
   "source": [
    "import email, ssl, smtplib\n",
    "\n",
    "#from email import encoders\n",
    "\n",
    "from email.mime.multipart import MIMEMultipart\n",
    "from email.mime.text import MIMEText\n",
    "from email.mime.application import MIMEApplication\n",
    "from email.mime.base import MIMEBase\n",
    "\n",
    "from datetime import date\n",
    "\n"
   ]
  },
  {
   "cell_type": "code",
   "execution_count": 2,
   "id": "25fee466",
   "metadata": {},
   "outputs": [],
   "source": [
    "subject = 'Top 5 Most Important Songs of the Day'\n",
    "text = 'Hi Jake and the team, here is a CSV attachment with the 5 most important songs of the day you should look out for.'\n",
    "sender_email = \"zacharywongdatascience\"\n",
    "receiver_email = 'zachary.j.wong.23@dartmouth.edu'\n",
    "password = 'ekxftlkowfajcuhn'\n",
    "filename = 'Top5ImportantSongs-' + str(date.today()) +'.csv'\n"
   ]
  },
  {
   "cell_type": "code",
   "execution_count": 3,
   "id": "87ff9b87",
   "metadata": {},
   "outputs": [],
   "source": [
    "msg = MIMEMultipart()\n",
    "msg [\"From\"] = sender_email\n",
    "msg [\"To\"] = receiver_email\n",
    "msg [\"Subject\"] = subject\n",
    "\n",
    "msg.attach(MIMEText(text, \"plain\"))\n",
    "\n",
    "filepath = '/Users/zacharywong/github/zacharywong2023/AtlanticRecords/Deliverable-Top5ImportantSongs.csv'\n",
    "\n",
    "with open (filepath, 'rb') as file:\n",
    "    msg.attach(MIMEApplication(file.read(), Name=filename))\n",
    "\n",
    "    #part = MIMEBase(\"application\", \"octet-stream\")\n",
    "    #part.set_payload(file.read())\n",
    "\n",
    "#encoders.encode_base64(part)\n",
    "msg['Content Disposition'] = \"attachment; filename=Top5ImportantSongs\"\n",
    "#msg.attach(part)\n",
    "content = msg.as_string()\n",
    "\n",
    "context = ssl.create_default_context()\n",
    "\n",
    "with smtplib.SMTP_SSL(\"smtp.gmail.com\", 465, context=context) as server:\n",
    "    server.login(sender_email, password)\n",
    "    server.sendmail(sender_email, receiver_email, content)\n",
    "\n",
    "\n",
    "\n",
    "\n",
    "\n"
   ]
  },
  {
   "cell_type": "code",
   "execution_count": null,
   "id": "88dc4189",
   "metadata": {},
   "outputs": [],
   "source": []
  },
  {
   "cell_type": "code",
   "execution_count": null,
   "id": "a47c6537",
   "metadata": {},
   "outputs": [],
   "source": []
  }
 ],
 "metadata": {
  "kernelspec": {
   "display_name": "Python 3 (ipykernel)",
   "language": "python",
   "name": "python3"
  },
  "language_info": {
   "codemirror_mode": {
    "name": "ipython",
    "version": 3
   },
   "file_extension": ".py",
   "mimetype": "text/x-python",
   "name": "python",
   "nbconvert_exporter": "python",
   "pygments_lexer": "ipython3",
   "version": "3.9.7"
  }
 },
 "nbformat": 4,
 "nbformat_minor": 5
}
